{
 "cells": [
  {
   "cell_type": "code",
   "execution_count": null,
   "metadata": {},
   "outputs": [],
   "source": []
  },
  {
   "cell_type": "code",
   "execution_count": null,
   "metadata": {},
   "outputs": [],
   "source": []
  },
  {
   "cell_type": "markdown",
   "metadata": {},
   "source": [
    "# The objective of this case study is to understand what's driving the total spend (Primary Card + Secondary card). Given the factors, predict credit limit for the new applicants."
   ]
  },
  {
   "cell_type": "code",
   "execution_count": null,
   "metadata": {},
   "outputs": [],
   "source": []
  },
  {
   "cell_type": "code",
   "execution_count": null,
   "metadata": {},
   "outputs": [],
   "source": []
  },
  {
   "cell_type": "markdown",
   "metadata": {},
   "source": [
    "## IMPORTNIG THE PACKAGES"
   ]
  },
  {
   "cell_type": "code",
   "execution_count": 1,
   "metadata": {},
   "outputs": [],
   "source": [
    "import numpy as np\n",
    "import pandas as pd\n",
    "\n",
    "#import pandas_profiling\n",
    "\n",
    "import matplotlib.pyplot as plt\n",
    "import seaborn as sns\n",
    "%matplotlib inline\n",
    "\n",
    "import sklearn\n",
    "from sklearn.feature_selection import f_regression, RFE, VarianceThreshold\n",
    "from statsmodels.stats.outliers_influence import variance_inflation_factor\n",
    "from patsy import dmatrices\n",
    "\n",
    "import scipy.stats as stats\n",
    "# for creating satistical model\n",
    "import statsmodels.formula.api as smf\n",
    "# Feature Selection based on importance\n",
    "from sklearn.feature_selection import f_regression\n",
    "\n",
    "from sklearn.metrics import mean_absolute_error, mean_squared_error, r2_score\n",
    "\n",
    "import scipy.stats as stats\n",
    "from sklearn.preprocessing import StandardScaler\n",
    "from sklearn.model_selection import train_test_split, GridSearchCV\n",
    "\n",
    "import statsmodels.formula.api as smf\n",
    "from sklearn.linear_model import LinearRegression\n",
    "from sklearn.neighbors import KNeighborsRegressor\n",
    "from sklearn.ensemble import RandomForestRegressor, GradientBoostingRegressor\n",
    "\n",
    "from sklearn import metrics\n",
    "\n",
    "from scipy import stats\n",
    "import pylab\n"
   ]
  },
  {
   "cell_type": "markdown",
   "metadata": {},
   "source": [
    "## IMPORTING THE FILE"
   ]
  },
  {
   "cell_type": "code",
   "execution_count": 3,
   "metadata": {},
   "outputs": [
    {
     "data": {
      "text/html": [
       "<div>\n",
       "<style scoped>\n",
       "    .dataframe tbody tr th:only-of-type {\n",
       "        vertical-align: middle;\n",
       "    }\n",
       "\n",
       "    .dataframe tbody tr th {\n",
       "        vertical-align: top;\n",
       "    }\n",
       "\n",
       "    .dataframe thead th {\n",
       "        text-align: right;\n",
       "    }\n",
       "</style>\n",
       "<table border=\"1\" class=\"dataframe\">\n",
       "  <thead>\n",
       "    <tr style=\"text-align: right;\">\n",
       "      <th></th>\n",
       "      <th>custid</th>\n",
       "      <th>region</th>\n",
       "      <th>townsize</th>\n",
       "      <th>gender</th>\n",
       "      <th>age</th>\n",
       "      <th>agecat</th>\n",
       "      <th>birthmonth</th>\n",
       "      <th>ed</th>\n",
       "      <th>edcat</th>\n",
       "      <th>jobcat</th>\n",
       "      <th>...</th>\n",
       "      <th>owncd</th>\n",
       "      <th>ownpda</th>\n",
       "      <th>ownpc</th>\n",
       "      <th>ownipod</th>\n",
       "      <th>owngame</th>\n",
       "      <th>ownfax</th>\n",
       "      <th>news</th>\n",
       "      <th>response_01</th>\n",
       "      <th>response_02</th>\n",
       "      <th>response_03</th>\n",
       "    </tr>\n",
       "  </thead>\n",
       "  <tbody>\n",
       "    <tr>\n",
       "      <th>0</th>\n",
       "      <td>3964-QJWTRG-NPN</td>\n",
       "      <td>1</td>\n",
       "      <td>2.0</td>\n",
       "      <td>1</td>\n",
       "      <td>20</td>\n",
       "      <td>2</td>\n",
       "      <td>September</td>\n",
       "      <td>15</td>\n",
       "      <td>3</td>\n",
       "      <td>1</td>\n",
       "      <td>...</td>\n",
       "      <td>0</td>\n",
       "      <td>0</td>\n",
       "      <td>0</td>\n",
       "      <td>1</td>\n",
       "      <td>1</td>\n",
       "      <td>0</td>\n",
       "      <td>0</td>\n",
       "      <td>0</td>\n",
       "      <td>1</td>\n",
       "      <td>0</td>\n",
       "    </tr>\n",
       "    <tr>\n",
       "      <th>1</th>\n",
       "      <td>0648-AIPJSP-UVM</td>\n",
       "      <td>5</td>\n",
       "      <td>5.0</td>\n",
       "      <td>0</td>\n",
       "      <td>22</td>\n",
       "      <td>2</td>\n",
       "      <td>May</td>\n",
       "      <td>17</td>\n",
       "      <td>4</td>\n",
       "      <td>2</td>\n",
       "      <td>...</td>\n",
       "      <td>1</td>\n",
       "      <td>1</td>\n",
       "      <td>1</td>\n",
       "      <td>1</td>\n",
       "      <td>1</td>\n",
       "      <td>1</td>\n",
       "      <td>1</td>\n",
       "      <td>0</td>\n",
       "      <td>0</td>\n",
       "      <td>0</td>\n",
       "    </tr>\n",
       "    <tr>\n",
       "      <th>2</th>\n",
       "      <td>5195-TLUDJE-HVO</td>\n",
       "      <td>3</td>\n",
       "      <td>4.0</td>\n",
       "      <td>1</td>\n",
       "      <td>67</td>\n",
       "      <td>6</td>\n",
       "      <td>June</td>\n",
       "      <td>14</td>\n",
       "      <td>2</td>\n",
       "      <td>2</td>\n",
       "      <td>...</td>\n",
       "      <td>1</td>\n",
       "      <td>0</td>\n",
       "      <td>0</td>\n",
       "      <td>0</td>\n",
       "      <td>0</td>\n",
       "      <td>0</td>\n",
       "      <td>1</td>\n",
       "      <td>0</td>\n",
       "      <td>0</td>\n",
       "      <td>0</td>\n",
       "    </tr>\n",
       "    <tr>\n",
       "      <th>3</th>\n",
       "      <td>4459-VLPQUH-3OL</td>\n",
       "      <td>4</td>\n",
       "      <td>3.0</td>\n",
       "      <td>0</td>\n",
       "      <td>23</td>\n",
       "      <td>2</td>\n",
       "      <td>May</td>\n",
       "      <td>16</td>\n",
       "      <td>3</td>\n",
       "      <td>2</td>\n",
       "      <td>...</td>\n",
       "      <td>1</td>\n",
       "      <td>0</td>\n",
       "      <td>1</td>\n",
       "      <td>1</td>\n",
       "      <td>1</td>\n",
       "      <td>0</td>\n",
       "      <td>1</td>\n",
       "      <td>1</td>\n",
       "      <td>0</td>\n",
       "      <td>0</td>\n",
       "    </tr>\n",
       "    <tr>\n",
       "      <th>4</th>\n",
       "      <td>8158-SMTQFB-CNO</td>\n",
       "      <td>2</td>\n",
       "      <td>2.0</td>\n",
       "      <td>0</td>\n",
       "      <td>26</td>\n",
       "      <td>3</td>\n",
       "      <td>July</td>\n",
       "      <td>16</td>\n",
       "      <td>3</td>\n",
       "      <td>2</td>\n",
       "      <td>...</td>\n",
       "      <td>1</td>\n",
       "      <td>0</td>\n",
       "      <td>1</td>\n",
       "      <td>0</td>\n",
       "      <td>1</td>\n",
       "      <td>0</td>\n",
       "      <td>0</td>\n",
       "      <td>0</td>\n",
       "      <td>1</td>\n",
       "      <td>0</td>\n",
       "    </tr>\n",
       "  </tbody>\n",
       "</table>\n",
       "<p>5 rows × 130 columns</p>\n",
       "</div>"
      ],
      "text/plain": [
       "            custid  region  townsize  gender  age  agecat birthmonth  ed  \\\n",
       "0  3964-QJWTRG-NPN       1       2.0       1   20       2  September  15   \n",
       "1  0648-AIPJSP-UVM       5       5.0       0   22       2        May  17   \n",
       "2  5195-TLUDJE-HVO       3       4.0       1   67       6       June  14   \n",
       "3  4459-VLPQUH-3OL       4       3.0       0   23       2        May  16   \n",
       "4  8158-SMTQFB-CNO       2       2.0       0   26       3       July  16   \n",
       "\n",
       "   edcat  jobcat  ...  owncd  ownpda  ownpc  ownipod  owngame  ownfax  news  \\\n",
       "0      3       1  ...      0       0      0        1        1       0     0   \n",
       "1      4       2  ...      1       1      1        1        1       1     1   \n",
       "2      2       2  ...      1       0      0        0        0       0     1   \n",
       "3      3       2  ...      1       0      1        1        1       0     1   \n",
       "4      3       2  ...      1       0      1        0        1       0     0   \n",
       "\n",
       "   response_01  response_02  response_03  \n",
       "0            0            1            0  \n",
       "1            0            0            0  \n",
       "2            0            0            0  \n",
       "3            1            0            0  \n",
       "4            0            1            0  \n",
       "\n",
       "[5 rows x 130 columns]"
      ]
     },
     "execution_count": 3,
     "metadata": {},
     "output_type": "execute_result"
    }
   ],
   "source": [
    "data = pd.read_excel('C:/Users/prabhu/Desktop/PYHON DATA SETS/ML CREDIT CARD SPEND/Data Set.xlsx')\n",
    "data.head(5)"
   ]
  },
  {
   "cell_type": "markdown",
   "metadata": {},
   "source": [
    "## EDA"
   ]
  },
  {
   "cell_type": "code",
   "execution_count": 4,
   "metadata": {},
   "outputs": [
    {
     "name": "stdout",
     "output_type": "stream",
     "text": [
      "<class 'pandas.core.frame.DataFrame'>\n",
      "RangeIndex: 5000 entries, 0 to 4999\n",
      "Columns: 130 entries, custid to response_03\n",
      "dtypes: float64(31), int64(97), object(2)\n",
      "memory usage: 5.0+ MB\n"
     ]
    }
   ],
   "source": [
    "data.info()"
   ]
  },
  {
   "cell_type": "code",
   "execution_count": 5,
   "metadata": {},
   "outputs": [
    {
     "name": "stdout",
     "output_type": "stream",
     "text": [
      "['custid', 'region', 'townsize', 'gender', 'age', 'agecat', 'birthmonth', 'ed', 'edcat', 'jobcat', 'union', 'employ', 'empcat', 'retire', 'income', 'lninc', 'inccat', 'debtinc', 'creddebt', 'lncreddebt', 'othdebt', 'lnothdebt', 'default', 'jobsat', 'marital', 'spoused', 'spousedcat', 'reside', 'pets', 'pets_cats', 'pets_dogs', 'pets_birds', 'pets_reptiles', 'pets_small', 'pets_saltfish', 'pets_freshfish', 'homeown', 'hometype', 'address', 'addresscat', 'cars', 'carown', 'cartype', 'carvalue', 'carcatvalue', 'carbought', 'carbuy', 'commute', 'commutecat', 'commutetime', 'commutecar', 'commutemotorcycle', 'commutecarpool', 'commutebus', 'commuterail', 'commutepublic', 'commutebike', 'commutewalk', 'commutenonmotor', 'telecommute', 'reason', 'polview', 'polparty', 'polcontrib', 'vote', 'card', 'cardtype', 'cardbenefit', 'cardfee', 'cardtenure', 'cardtenurecat', 'card2', 'card2type', 'card2benefit', 'card2fee', 'card2tenure', 'card2tenurecat', 'cardspent', 'card2spent', 'active', 'bfast', 'tenure', 'churn', 'longmon', 'lnlongmon', 'longten', 'lnlongten', 'tollfree', 'tollmon', 'lntollmon', 'tollten', 'lntollten', 'equip', 'equipmon', 'lnequipmon', 'equipten', 'lnequipten', 'callcard', 'cardmon', 'lncardmon', 'cardten', 'lncardten', 'wireless', 'wiremon', 'lnwiremon', 'wireten', 'lnwireten', 'multline', 'voice', 'pager', 'internet', 'callid', 'callwait', 'forward', 'confer', 'ebill', 'owntv', 'hourstv', 'ownvcr', 'owndvd', 'owncd', 'ownpda', 'ownpc', 'ownipod', 'owngame', 'ownfax', 'news', 'response_01', 'response_02', 'response_03']\n"
     ]
    }
   ],
   "source": [
    "print(list(data.columns))"
   ]
  },
  {
   "cell_type": "code",
   "execution_count": 6,
   "metadata": {},
   "outputs": [
    {
     "data": {
      "text/plain": [
       "(5000, 130)"
      ]
     },
     "execution_count": 6,
     "metadata": {},
     "output_type": "execute_result"
    }
   ],
   "source": [
    "# check dimension\n",
    "data.shape"
   ]
  },
  {
   "cell_type": "code",
   "execution_count": 7,
   "metadata": {},
   "outputs": [],
   "source": [
    "# Getting Y varaiable(Dependent variable) > Total Spent = Primary Card + Secondary Card\n",
    "data['total_spent'] = data['cardspent'] + data['card2spent']\n",
    "\n",
    "#Droping cardspent and card2spent columns as it is directly related to y - total_spent\n",
    "data.drop(labels = ['cardspent', 'card2spent'], axis = 1, inplace = True)"
   ]
  },
  {
   "cell_type": "code",
   "execution_count": 8,
   "metadata": {},
   "outputs": [],
   "source": [
    "#custid is unique\n",
    "data.drop(labels = ['custid'], axis = 1, inplace = True)"
   ]
  },
  {
   "cell_type": "code",
   "execution_count": 9,
   "metadata": {},
   "outputs": [
    {
     "data": {
      "text/plain": [
       "(5000, 128)"
      ]
     },
     "execution_count": 9,
     "metadata": {},
     "output_type": "execute_result"
    }
   ],
   "source": [
    "# check dimension\n",
    "data.shape"
   ]
  },
  {
   "cell_type": "code",
   "execution_count": 10,
   "metadata": {},
   "outputs": [
    {
     "data": {
      "text/plain": [
       "region         0\n",
       "townsize       2\n",
       "gender         0\n",
       "age            0\n",
       "agecat         0\n",
       "              ..\n",
       "news           0\n",
       "response_01    0\n",
       "response_02    0\n",
       "response_03    0\n",
       "total_spent    0\n",
       "Length: 128, dtype: int64"
      ]
     },
     "execution_count": 10,
     "metadata": {},
     "output_type": "execute_result"
    }
   ],
   "source": [
    "# checking missing values\n",
    "data.isna().sum()"
   ]
  },
  {
   "cell_type": "code",
   "execution_count": 11,
   "metadata": {},
   "outputs": [
    {
     "data": {
      "text/plain": [
       "22003"
      ]
     },
     "execution_count": 11,
     "metadata": {},
     "output_type": "execute_result"
    }
   ],
   "source": [
    "# total missing values\n",
    "sum(data.isna().sum())"
   ]
  },
  {
   "cell_type": "code",
   "execution_count": 12,
   "metadata": {},
   "outputs": [],
   "source": [
    "# type conversion of some variables.\n",
    "#Identifying Categorical Variables\n",
    "cat_var = ['region','townsize','gender','agecat','edcat','birthmonth','jobcat','union','empcat','retire',\n",
    "          'inccat','default','jobsat','marital','spousedcat','homeown','hometype','addresscat','cars','carown',\n",
    "          'cartype','carcatvalue','carbought','carbuy','commute','commutecat','commutecar',\n",
    "          'commutemotorcycle','commutecarpool','commutebus','commuterail','commutepublic','commutebike','commutewalk',\n",
    "         'commutenonmotor','telecommute','reason','polview','polparty','polcontrib','vote','card','cardtype','cardbenefit',\n",
    "         'cardfee','cardtenurecat','card2','card2type','card2benefit','card2fee','card2tenurecat',\n",
    "         'active','bfast','churn','tollfree','equip','callcard','wireless','multline','voice','pager','internet','callid',\n",
    "         'callwait','forward','confer','ebill','owntv','ownvcr','owndvd','owncd','ownpda','ownpc','ownipod','owngame','ownfax',\n",
    "        'news','response_01','response_02','response_03']\n",
    "\n",
    "#Typecasting Categorical Variables to object\n",
    "data[cat_var] = data[cat_var].astype('object')"
   ]
  },
  {
   "cell_type": "code",
   "execution_count": 13,
   "metadata": {},
   "outputs": [
    {
     "data": {
      "text/plain": [
       "Index(['age', 'ed', 'employ', 'income', 'lninc', 'debtinc', 'creddebt',\n",
       "       'lncreddebt', 'othdebt', 'lnothdebt', 'spoused', 'reside', 'pets',\n",
       "       'pets_cats', 'pets_dogs', 'pets_birds', 'pets_reptiles', 'pets_small',\n",
       "       'pets_saltfish', 'pets_freshfish', 'address', 'carvalue', 'commutetime',\n",
       "       'cardtenure', 'card2tenure', 'tenure', 'longmon', 'lnlongmon',\n",
       "       'longten', 'lnlongten', 'tollmon', 'lntollmon', 'tollten', 'lntollten',\n",
       "       'equipmon', 'lnequipmon', 'equipten', 'lnequipten', 'cardmon',\n",
       "       'lncardmon', 'cardten', 'lncardten', 'wiremon', 'lnwiremon', 'wireten',\n",
       "       'lnwireten', 'hourstv', 'total_spent'],\n",
       "      dtype='object')"
      ]
     },
     "execution_count": 13,
     "metadata": {},
     "output_type": "execute_result"
    }
   ],
   "source": [
    "# Getting Continuous Variables\n",
    "cont_var = data.select_dtypes(['int64','float64'])\n",
    "cont_var.columns"
   ]
  },
  {
   "cell_type": "code",
   "execution_count": 14,
   "metadata": {},
   "outputs": [],
   "source": [
    "#Removing categorical variables having numerical variables\n",
    "data.drop(labels = ['agecat', 'edcat', 'empcat', 'inccat', 'spousedcat', 'addresscat', 'carcatvalue', 'cardtenurecat', 'card2tenurecat'], axis = 1, inplace = True)"
   ]
  },
  {
   "cell_type": "code",
   "execution_count": 15,
   "metadata": {},
   "outputs": [
    {
     "data": {
      "text/plain": [
       "(5000, 119)"
      ]
     },
     "execution_count": 15,
     "metadata": {},
     "output_type": "execute_result"
    }
   ],
   "source": [
    "data.shape"
   ]
  },
  {
   "cell_type": "code",
   "execution_count": 16,
   "metadata": {},
   "outputs": [
    {
     "data": {
      "text/plain": [
       "Index(['region', 'townsize', 'gender', 'birthmonth', 'jobcat', 'union',\n",
       "       'retire', 'default', 'jobsat', 'marital', 'homeown', 'hometype', 'cars',\n",
       "       'carown', 'cartype', 'carbought', 'carbuy', 'commute', 'commutecat',\n",
       "       'commutecar', 'commutemotorcycle', 'commutecarpool', 'commutebus',\n",
       "       'commuterail', 'commutepublic', 'commutebike', 'commutewalk',\n",
       "       'commutenonmotor', 'telecommute', 'reason', 'polview', 'polparty',\n",
       "       'polcontrib', 'vote', 'card', 'cardtype', 'cardbenefit', 'cardfee',\n",
       "       'card2', 'card2type', 'card2benefit', 'card2fee', 'active', 'bfast',\n",
       "       'churn', 'tollfree', 'equip', 'callcard', 'wireless', 'multline',\n",
       "       'voice', 'pager', 'internet', 'callid', 'callwait', 'forward', 'confer',\n",
       "       'ebill', 'owntv', 'ownvcr', 'owndvd', 'owncd', 'ownpda', 'ownpc',\n",
       "       'ownipod', 'owngame', 'ownfax', 'news', 'response_01', 'response_02',\n",
       "       'response_03'],\n",
       "      dtype='object')"
      ]
     },
     "execution_count": 16,
     "metadata": {},
     "output_type": "execute_result"
    }
   ],
   "source": [
    "# Getting Categorical Variables\n",
    "cat_var = data.select_dtypes(['object'])\n",
    "cat_var.columns"
   ]
  },
  {
   "cell_type": "code",
   "execution_count": 17,
   "metadata": {},
   "outputs": [
    {
     "name": "stdout",
     "output_type": "stream",
     "text": [
      "<class 'pandas.core.frame.DataFrame'>\n",
      "RangeIndex: 5000 entries, 0 to 4999\n",
      "Columns: 119 entries, region to total_spent\n",
      "dtypes: float64(29), int64(19), object(71)\n",
      "memory usage: 4.5+ MB\n"
     ]
    }
   ],
   "source": [
    "data.info()"
   ]
  },
  {
   "cell_type": "markdown",
   "metadata": {},
   "source": [
    "## CREATING UDF'S"
   ]
  },
  {
   "cell_type": "code",
   "execution_count": 18,
   "metadata": {},
   "outputs": [],
   "source": [
    "# Create Data audit Report for continuous variables\n",
    "def continuous_var_summary(x):\n",
    "    return pd.Series([x.count(), x.isnull().sum(), x.sum(), x.mean(), x.median(),  \n",
    "                      x.std(), x.var(), x.min(), x.quantile(0.01), x.quantile(0.05),\n",
    "                          x.quantile(0.10),x.quantile(0.25),x.quantile(0.50),x.quantile(0.75), \n",
    "                              x.quantile(0.90),x.quantile(0.95), x.quantile(0.99),x.max()], \n",
    "                  index = ['N', 'NMISS', 'SUM', 'MEAN','MEDIAN', 'STD', 'VAR', 'MIN', 'P1', \n",
    "                               'P5' ,'P10' ,'P25' ,'P50' ,'P75' ,'P90' ,'P95' ,'P99' ,'MAX'])"
   ]
  },
  {
   "cell_type": "code",
   "execution_count": 19,
   "metadata": {},
   "outputs": [],
   "source": [
    "# Create Data audit Report for categorical variables\n",
    "def categorical_var_summary(x):\n",
    "    Mode = x.value_counts().sort_values(ascending = False)[0:1].reset_index()\n",
    "    return pd.Series([x.count(), x.isnull().sum(), Mode.iloc[0, 0], Mode.iloc[0, 1], \n",
    "                          round(Mode.iloc[0, 1] * 100/x.count(), 2)], \n",
    "                  index = ['N', 'NMISS', 'MODE', 'FREQ', 'PERCENT'])"
   ]
  },
  {
   "cell_type": "code",
   "execution_count": 20,
   "metadata": {},
   "outputs": [],
   "source": [
    "# Missing value imputation for categorical and continuous variables\n",
    "def missing_imputation(x, stats = 'mean'):\n",
    "    if (x.dtypes == 'float64') | (x.dtypes == 'int64'):\n",
    "        x = x.fillna(x.mean()) if stats == 'mean' else x.fillna(x.median())\n",
    "    else:\n",
    "        x = x.fillna(x.mode().iloc[0])\n",
    "    return x"
   ]
  },
  {
   "cell_type": "code",
   "execution_count": 21,
   "metadata": {},
   "outputs": [],
   "source": [
    "# An utility function to create dummy variable\n",
    "def create_dummies(df, colname):\n",
    "    col_dummies = pd.get_dummies(df[colname], prefix = colname, drop_first = True)\n",
    "    df = pd.concat([df, col_dummies], axis = 1)\n",
    "    df.drop(colname, axis = 1, inplace = True )\n",
    "    return df"
   ]
  },
  {
   "cell_type": "markdown",
   "metadata": {},
   "source": [
    "#### getting the summary for both categorical and continous variable"
   ]
  },
  {
   "cell_type": "code",
   "execution_count": 22,
   "metadata": {},
   "outputs": [
    {
     "data": {
      "text/html": [
       "<div>\n",
       "<style scoped>\n",
       "    .dataframe tbody tr th:only-of-type {\n",
       "        vertical-align: middle;\n",
       "    }\n",
       "\n",
       "    .dataframe tbody tr th {\n",
       "        vertical-align: top;\n",
       "    }\n",
       "\n",
       "    .dataframe thead th {\n",
       "        text-align: right;\n",
       "    }\n",
       "</style>\n",
       "<table border=\"1\" class=\"dataframe\">\n",
       "  <thead>\n",
       "    <tr style=\"text-align: right;\">\n",
       "      <th></th>\n",
       "      <th>age</th>\n",
       "      <th>ed</th>\n",
       "      <th>employ</th>\n",
       "      <th>income</th>\n",
       "      <th>lninc</th>\n",
       "      <th>debtinc</th>\n",
       "      <th>creddebt</th>\n",
       "      <th>lncreddebt</th>\n",
       "      <th>othdebt</th>\n",
       "      <th>lnothdebt</th>\n",
       "      <th>...</th>\n",
       "      <th>cardmon</th>\n",
       "      <th>lncardmon</th>\n",
       "      <th>cardten</th>\n",
       "      <th>lncardten</th>\n",
       "      <th>wiremon</th>\n",
       "      <th>lnwiremon</th>\n",
       "      <th>wireten</th>\n",
       "      <th>lnwireten</th>\n",
       "      <th>hourstv</th>\n",
       "      <th>total_spent</th>\n",
       "    </tr>\n",
       "  </thead>\n",
       "  <tbody>\n",
       "    <tr>\n",
       "      <th>N</th>\n",
       "      <td>5000.0</td>\n",
       "      <td>5000.0</td>\n",
       "      <td>5000.0</td>\n",
       "      <td>5000.0</td>\n",
       "      <td>5000.0</td>\n",
       "      <td>5000.0</td>\n",
       "      <td>5000.0</td>\n",
       "      <td>4999.0</td>\n",
       "      <td>5000.0</td>\n",
       "      <td>4999.0</td>\n",
       "      <td>...</td>\n",
       "      <td>5000.0</td>\n",
       "      <td>3581.0</td>\n",
       "      <td>4998.0</td>\n",
       "      <td>3578.0</td>\n",
       "      <td>5000.0</td>\n",
       "      <td>1344.0</td>\n",
       "      <td>5000.0</td>\n",
       "      <td>1344.0</td>\n",
       "      <td>5000.0</td>\n",
       "      <td>5000.0</td>\n",
       "    </tr>\n",
       "    <tr>\n",
       "      <th>NMISS</th>\n",
       "      <td>0.0</td>\n",
       "      <td>0.0</td>\n",
       "      <td>0.0</td>\n",
       "      <td>0.0</td>\n",
       "      <td>0.0</td>\n",
       "      <td>0.0</td>\n",
       "      <td>0.0</td>\n",
       "      <td>1.0</td>\n",
       "      <td>0.0</td>\n",
       "      <td>1.0</td>\n",
       "      <td>...</td>\n",
       "      <td>0.0</td>\n",
       "      <td>1419.0</td>\n",
       "      <td>2.0</td>\n",
       "      <td>1422.0</td>\n",
       "      <td>0.0</td>\n",
       "      <td>3656.0</td>\n",
       "      <td>0.0</td>\n",
       "      <td>3656.0</td>\n",
       "      <td>0.0</td>\n",
       "      <td>0.0</td>\n",
       "    </tr>\n",
       "    <tr>\n",
       "      <th>SUM</th>\n",
       "      <td>235128.0</td>\n",
       "      <td>72715.0</td>\n",
       "      <td>48652.0</td>\n",
       "      <td>273798.0</td>\n",
       "      <td>18499.5</td>\n",
       "      <td>49770.8</td>\n",
       "      <td>9286.6</td>\n",
       "      <td>-652.1</td>\n",
       "      <td>18272.3</td>\n",
       "      <td>3483.9</td>\n",
       "      <td>...</td>\n",
       "      <td>77219.2</td>\n",
       "      <td>10419.8</td>\n",
       "      <td>3600951.0</td>\n",
       "      <td>22993.3</td>\n",
       "      <td>53506.0</td>\n",
       "      <td>4845.1</td>\n",
       "      <td>2109923.1</td>\n",
       "      <td>9150.1</td>\n",
       "      <td>98225.0</td>\n",
       "      <td>2490393.2</td>\n",
       "    </tr>\n",
       "    <tr>\n",
       "      <th>MEAN</th>\n",
       "      <td>47.0</td>\n",
       "      <td>14.5</td>\n",
       "      <td>9.7</td>\n",
       "      <td>54.8</td>\n",
       "      <td>3.7</td>\n",
       "      <td>10.0</td>\n",
       "      <td>1.9</td>\n",
       "      <td>-0.1</td>\n",
       "      <td>3.7</td>\n",
       "      <td>0.7</td>\n",
       "      <td>...</td>\n",
       "      <td>15.4</td>\n",
       "      <td>2.9</td>\n",
       "      <td>720.5</td>\n",
       "      <td>6.4</td>\n",
       "      <td>10.7</td>\n",
       "      <td>3.6</td>\n",
       "      <td>422.0</td>\n",
       "      <td>6.8</td>\n",
       "      <td>19.6</td>\n",
       "      <td>498.1</td>\n",
       "    </tr>\n",
       "    <tr>\n",
       "      <th>MEDIAN</th>\n",
       "      <td>47.0</td>\n",
       "      <td>14.0</td>\n",
       "      <td>7.0</td>\n",
       "      <td>38.0</td>\n",
       "      <td>3.6</td>\n",
       "      <td>8.8</td>\n",
       "      <td>0.9</td>\n",
       "      <td>-0.1</td>\n",
       "      <td>2.1</td>\n",
       "      <td>0.7</td>\n",
       "      <td>...</td>\n",
       "      <td>13.8</td>\n",
       "      <td>2.9</td>\n",
       "      <td>425.0</td>\n",
       "      <td>6.6</td>\n",
       "      <td>0.0</td>\n",
       "      <td>3.6</td>\n",
       "      <td>0.0</td>\n",
       "      <td>7.1</td>\n",
       "      <td>20.0</td>\n",
       "      <td>414.2</td>\n",
       "    </tr>\n",
       "    <tr>\n",
       "      <th>STD</th>\n",
       "      <td>17.8</td>\n",
       "      <td>3.3</td>\n",
       "      <td>9.7</td>\n",
       "      <td>55.4</td>\n",
       "      <td>0.7</td>\n",
       "      <td>6.4</td>\n",
       "      <td>3.4</td>\n",
       "      <td>1.3</td>\n",
       "      <td>5.4</td>\n",
       "      <td>1.1</td>\n",
       "      <td>...</td>\n",
       "      <td>15.0</td>\n",
       "      <td>0.6</td>\n",
       "      <td>922.2</td>\n",
       "      <td>1.2</td>\n",
       "      <td>19.8</td>\n",
       "      <td>0.4</td>\n",
       "      <td>1001.0</td>\n",
       "      <td>1.3</td>\n",
       "      <td>5.2</td>\n",
       "      <td>351.5</td>\n",
       "    </tr>\n",
       "    <tr>\n",
       "      <th>VAR</th>\n",
       "      <td>315.8</td>\n",
       "      <td>10.8</td>\n",
       "      <td>93.9</td>\n",
       "      <td>3066.7</td>\n",
       "      <td>0.6</td>\n",
       "      <td>41.0</td>\n",
       "      <td>11.7</td>\n",
       "      <td>1.6</td>\n",
       "      <td>29.1</td>\n",
       "      <td>1.3</td>\n",
       "      <td>...</td>\n",
       "      <td>225.2</td>\n",
       "      <td>0.3</td>\n",
       "      <td>850499.9</td>\n",
       "      <td>1.4</td>\n",
       "      <td>392.0</td>\n",
       "      <td>0.2</td>\n",
       "      <td>1002007.6</td>\n",
       "      <td>1.6</td>\n",
       "      <td>26.7</td>\n",
       "      <td>123572.8</td>\n",
       "    </tr>\n",
       "    <tr>\n",
       "      <th>MIN</th>\n",
       "      <td>18.0</td>\n",
       "      <td>6.0</td>\n",
       "      <td>0.0</td>\n",
       "      <td>9.0</td>\n",
       "      <td>2.2</td>\n",
       "      <td>0.0</td>\n",
       "      <td>0.0</td>\n",
       "      <td>-6.6</td>\n",
       "      <td>0.0</td>\n",
       "      <td>-4.1</td>\n",
       "      <td>...</td>\n",
       "      <td>0.0</td>\n",
       "      <td>1.2</td>\n",
       "      <td>0.0</td>\n",
       "      <td>1.6</td>\n",
       "      <td>0.0</td>\n",
       "      <td>2.5</td>\n",
       "      <td>0.0</td>\n",
       "      <td>2.5</td>\n",
       "      <td>0.0</td>\n",
       "      <td>8.1</td>\n",
       "    </tr>\n",
       "    <tr>\n",
       "      <th>P1</th>\n",
       "      <td>18.0</td>\n",
       "      <td>8.0</td>\n",
       "      <td>0.0</td>\n",
       "      <td>9.0</td>\n",
       "      <td>2.2</td>\n",
       "      <td>0.7</td>\n",
       "      <td>0.0</td>\n",
       "      <td>-3.4</td>\n",
       "      <td>0.1</td>\n",
       "      <td>-2.2</td>\n",
       "      <td>...</td>\n",
       "      <td>0.0</td>\n",
       "      <td>1.7</td>\n",
       "      <td>0.0</td>\n",
       "      <td>2.5</td>\n",
       "      <td>0.0</td>\n",
       "      <td>2.8</td>\n",
       "      <td>0.0</td>\n",
       "      <td>3.0</td>\n",
       "      <td>0.0</td>\n",
       "      <td>58.2</td>\n",
       "    </tr>\n",
       "    <tr>\n",
       "      <th>P5</th>\n",
       "      <td>20.0</td>\n",
       "      <td>9.0</td>\n",
       "      <td>0.0</td>\n",
       "      <td>13.0</td>\n",
       "      <td>2.6</td>\n",
       "      <td>1.9</td>\n",
       "      <td>0.1</td>\n",
       "      <td>-2.3</td>\n",
       "      <td>0.3</td>\n",
       "      <td>-1.2</td>\n",
       "      <td>...</td>\n",
       "      <td>0.0</td>\n",
       "      <td>2.0</td>\n",
       "      <td>0.0</td>\n",
       "      <td>4.1</td>\n",
       "      <td>0.0</td>\n",
       "      <td>3.0</td>\n",
       "      <td>0.0</td>\n",
       "      <td>4.1</td>\n",
       "      <td>12.0</td>\n",
       "      <td>133.1</td>\n",
       "    </tr>\n",
       "    <tr>\n",
       "      <th>P10</th>\n",
       "      <td>23.0</td>\n",
       "      <td>10.0</td>\n",
       "      <td>0.0</td>\n",
       "      <td>16.0</td>\n",
       "      <td>2.8</td>\n",
       "      <td>2.8</td>\n",
       "      <td>0.2</td>\n",
       "      <td>-1.7</td>\n",
       "      <td>0.5</td>\n",
       "      <td>-0.8</td>\n",
       "      <td>...</td>\n",
       "      <td>0.0</td>\n",
       "      <td>2.2</td>\n",
       "      <td>0.0</td>\n",
       "      <td>4.9</td>\n",
       "      <td>0.0</td>\n",
       "      <td>3.1</td>\n",
       "      <td>0.0</td>\n",
       "      <td>4.9</td>\n",
       "      <td>14.0</td>\n",
       "      <td>184.0</td>\n",
       "    </tr>\n",
       "    <tr>\n",
       "      <th>P25</th>\n",
       "      <td>31.0</td>\n",
       "      <td>12.0</td>\n",
       "      <td>2.0</td>\n",
       "      <td>24.0</td>\n",
       "      <td>3.2</td>\n",
       "      <td>5.1</td>\n",
       "      <td>0.4</td>\n",
       "      <td>-1.0</td>\n",
       "      <td>1.0</td>\n",
       "      <td>-0.0</td>\n",
       "      <td>...</td>\n",
       "      <td>0.0</td>\n",
       "      <td>2.5</td>\n",
       "      <td>0.0</td>\n",
       "      <td>5.9</td>\n",
       "      <td>0.0</td>\n",
       "      <td>3.3</td>\n",
       "      <td>0.0</td>\n",
       "      <td>6.2</td>\n",
       "      <td>17.0</td>\n",
       "      <td>276.3</td>\n",
       "    </tr>\n",
       "    <tr>\n",
       "      <th>P50</th>\n",
       "      <td>47.0</td>\n",
       "      <td>14.0</td>\n",
       "      <td>7.0</td>\n",
       "      <td>38.0</td>\n",
       "      <td>3.6</td>\n",
       "      <td>8.8</td>\n",
       "      <td>0.9</td>\n",
       "      <td>-0.1</td>\n",
       "      <td>2.1</td>\n",
       "      <td>0.7</td>\n",
       "      <td>...</td>\n",
       "      <td>13.8</td>\n",
       "      <td>2.9</td>\n",
       "      <td>425.0</td>\n",
       "      <td>6.6</td>\n",
       "      <td>0.0</td>\n",
       "      <td>3.6</td>\n",
       "      <td>0.0</td>\n",
       "      <td>7.1</td>\n",
       "      <td>20.0</td>\n",
       "      <td>414.2</td>\n",
       "    </tr>\n",
       "    <tr>\n",
       "      <th>P75</th>\n",
       "      <td>62.0</td>\n",
       "      <td>17.0</td>\n",
       "      <td>15.0</td>\n",
       "      <td>67.0</td>\n",
       "      <td>4.2</td>\n",
       "      <td>13.6</td>\n",
       "      <td>2.1</td>\n",
       "      <td>0.7</td>\n",
       "      <td>4.3</td>\n",
       "      <td>1.5</td>\n",
       "      <td>...</td>\n",
       "      <td>22.8</td>\n",
       "      <td>3.3</td>\n",
       "      <td>1080.0</td>\n",
       "      <td>7.2</td>\n",
       "      <td>21.0</td>\n",
       "      <td>3.9</td>\n",
       "      <td>90.0</td>\n",
       "      <td>7.8</td>\n",
       "      <td>23.0</td>\n",
       "      <td>615.6</td>\n",
       "    </tr>\n",
       "    <tr>\n",
       "      <th>P90</th>\n",
       "      <td>72.0</td>\n",
       "      <td>19.0</td>\n",
       "      <td>25.0</td>\n",
       "      <td>109.1</td>\n",
       "      <td>4.7</td>\n",
       "      <td>18.6</td>\n",
       "      <td>4.3</td>\n",
       "      <td>1.5</td>\n",
       "      <td>8.1</td>\n",
       "      <td>2.1</td>\n",
       "      <td>...</td>\n",
       "      <td>34.0</td>\n",
       "      <td>3.6</td>\n",
       "      <td>1871.5</td>\n",
       "      <td>7.7</td>\n",
       "      <td>40.9</td>\n",
       "      <td>4.1</td>\n",
       "      <td>1778.5</td>\n",
       "      <td>8.1</td>\n",
       "      <td>26.0</td>\n",
       "      <td>908.1</td>\n",
       "    </tr>\n",
       "    <tr>\n",
       "      <th>P95</th>\n",
       "      <td>76.0</td>\n",
       "      <td>20.0</td>\n",
       "      <td>31.0</td>\n",
       "      <td>147.0</td>\n",
       "      <td>5.0</td>\n",
       "      <td>22.2</td>\n",
       "      <td>6.4</td>\n",
       "      <td>1.9</td>\n",
       "      <td>11.8</td>\n",
       "      <td>2.5</td>\n",
       "      <td>...</td>\n",
       "      <td>42.0</td>\n",
       "      <td>3.8</td>\n",
       "      <td>2455.7</td>\n",
       "      <td>7.9</td>\n",
       "      <td>51.3</td>\n",
       "      <td>4.3</td>\n",
       "      <td>2687.9</td>\n",
       "      <td>8.3</td>\n",
       "      <td>28.0</td>\n",
       "      <td>1145.1</td>\n",
       "    </tr>\n",
       "    <tr>\n",
       "      <th>P99</th>\n",
       "      <td>79.0</td>\n",
       "      <td>21.0</td>\n",
       "      <td>39.0</td>\n",
       "      <td>272.0</td>\n",
       "      <td>5.6</td>\n",
       "      <td>29.2</td>\n",
       "      <td>14.3</td>\n",
       "      <td>2.7</td>\n",
       "      <td>24.1</td>\n",
       "      <td>3.2</td>\n",
       "      <td>...</td>\n",
       "      <td>64.2</td>\n",
       "      <td>4.2</td>\n",
       "      <td>4011.2</td>\n",
       "      <td>8.4</td>\n",
       "      <td>78.3</td>\n",
       "      <td>4.6</td>\n",
       "      <td>4530.2</td>\n",
       "      <td>8.7</td>\n",
       "      <td>31.0</td>\n",
       "      <td>1760.1</td>\n",
       "    </tr>\n",
       "    <tr>\n",
       "      <th>MAX</th>\n",
       "      <td>79.0</td>\n",
       "      <td>23.0</td>\n",
       "      <td>52.0</td>\n",
       "      <td>1073.0</td>\n",
       "      <td>7.0</td>\n",
       "      <td>43.1</td>\n",
       "      <td>109.1</td>\n",
       "      <td>4.7</td>\n",
       "      <td>141.5</td>\n",
       "      <td>5.0</td>\n",
       "      <td>...</td>\n",
       "      <td>188.5</td>\n",
       "      <td>5.2</td>\n",
       "      <td>13705.0</td>\n",
       "      <td>9.5</td>\n",
       "      <td>186.2</td>\n",
       "      <td>5.2</td>\n",
       "      <td>12858.6</td>\n",
       "      <td>9.5</td>\n",
       "      <td>36.0</td>\n",
       "      <td>4881.0</td>\n",
       "    </tr>\n",
       "  </tbody>\n",
       "</table>\n",
       "<p>18 rows × 48 columns</p>\n",
       "</div>"
      ],
      "text/plain": [
       "             age       ed   employ    income    lninc  debtinc  creddebt  \\\n",
       "N         5000.0   5000.0   5000.0    5000.0   5000.0   5000.0    5000.0   \n",
       "NMISS        0.0      0.0      0.0       0.0      0.0      0.0       0.0   \n",
       "SUM     235128.0  72715.0  48652.0  273798.0  18499.5  49770.8    9286.6   \n",
       "MEAN        47.0     14.5      9.7      54.8      3.7     10.0       1.9   \n",
       "MEDIAN      47.0     14.0      7.0      38.0      3.6      8.8       0.9   \n",
       "STD         17.8      3.3      9.7      55.4      0.7      6.4       3.4   \n",
       "VAR        315.8     10.8     93.9    3066.7      0.6     41.0      11.7   \n",
       "MIN         18.0      6.0      0.0       9.0      2.2      0.0       0.0   \n",
       "P1          18.0      8.0      0.0       9.0      2.2      0.7       0.0   \n",
       "P5          20.0      9.0      0.0      13.0      2.6      1.9       0.1   \n",
       "P10         23.0     10.0      0.0      16.0      2.8      2.8       0.2   \n",
       "P25         31.0     12.0      2.0      24.0      3.2      5.1       0.4   \n",
       "P50         47.0     14.0      7.0      38.0      3.6      8.8       0.9   \n",
       "P75         62.0     17.0     15.0      67.0      4.2     13.6       2.1   \n",
       "P90         72.0     19.0     25.0     109.1      4.7     18.6       4.3   \n",
       "P95         76.0     20.0     31.0     147.0      5.0     22.2       6.4   \n",
       "P99         79.0     21.0     39.0     272.0      5.6     29.2      14.3   \n",
       "MAX         79.0     23.0     52.0    1073.0      7.0     43.1     109.1   \n",
       "\n",
       "        lncreddebt  othdebt  lnothdebt  ...  cardmon  lncardmon    cardten  \\\n",
       "N           4999.0   5000.0     4999.0  ...   5000.0     3581.0     4998.0   \n",
       "NMISS          1.0      0.0        1.0  ...      0.0     1419.0        2.0   \n",
       "SUM         -652.1  18272.3     3483.9  ...  77219.2    10419.8  3600951.0   \n",
       "MEAN          -0.1      3.7        0.7  ...     15.4        2.9      720.5   \n",
       "MEDIAN        -0.1      2.1        0.7  ...     13.8        2.9      425.0   \n",
       "STD            1.3      5.4        1.1  ...     15.0        0.6      922.2   \n",
       "VAR            1.6     29.1        1.3  ...    225.2        0.3   850499.9   \n",
       "MIN           -6.6      0.0       -4.1  ...      0.0        1.2        0.0   \n",
       "P1            -3.4      0.1       -2.2  ...      0.0        1.7        0.0   \n",
       "P5            -2.3      0.3       -1.2  ...      0.0        2.0        0.0   \n",
       "P10           -1.7      0.5       -0.8  ...      0.0        2.2        0.0   \n",
       "P25           -1.0      1.0       -0.0  ...      0.0        2.5        0.0   \n",
       "P50           -0.1      2.1        0.7  ...     13.8        2.9      425.0   \n",
       "P75            0.7      4.3        1.5  ...     22.8        3.3     1080.0   \n",
       "P90            1.5      8.1        2.1  ...     34.0        3.6     1871.5   \n",
       "P95            1.9     11.8        2.5  ...     42.0        3.8     2455.7   \n",
       "P99            2.7     24.1        3.2  ...     64.2        4.2     4011.2   \n",
       "MAX            4.7    141.5        5.0  ...    188.5        5.2    13705.0   \n",
       "\n",
       "        lncardten  wiremon  lnwiremon    wireten  lnwireten  hourstv  \\\n",
       "N          3578.0   5000.0     1344.0     5000.0     1344.0   5000.0   \n",
       "NMISS      1422.0      0.0     3656.0        0.0     3656.0      0.0   \n",
       "SUM       22993.3  53506.0     4845.1  2109923.1     9150.1  98225.0   \n",
       "MEAN          6.4     10.7        3.6      422.0        6.8     19.6   \n",
       "MEDIAN        6.6      0.0        3.6        0.0        7.1     20.0   \n",
       "STD           1.2     19.8        0.4     1001.0        1.3      5.2   \n",
       "VAR           1.4    392.0        0.2  1002007.6        1.6     26.7   \n",
       "MIN           1.6      0.0        2.5        0.0        2.5      0.0   \n",
       "P1            2.5      0.0        2.8        0.0        3.0      0.0   \n",
       "P5            4.1      0.0        3.0        0.0        4.1     12.0   \n",
       "P10           4.9      0.0        3.1        0.0        4.9     14.0   \n",
       "P25           5.9      0.0        3.3        0.0        6.2     17.0   \n",
       "P50           6.6      0.0        3.6        0.0        7.1     20.0   \n",
       "P75           7.2     21.0        3.9       90.0        7.8     23.0   \n",
       "P90           7.7     40.9        4.1     1778.5        8.1     26.0   \n",
       "P95           7.9     51.3        4.3     2687.9        8.3     28.0   \n",
       "P99           8.4     78.3        4.6     4530.2        8.7     31.0   \n",
       "MAX           9.5    186.2        5.2    12858.6        9.5     36.0   \n",
       "\n",
       "        total_spent  \n",
       "N            5000.0  \n",
       "NMISS           0.0  \n",
       "SUM       2490393.2  \n",
       "MEAN          498.1  \n",
       "MEDIAN        414.2  \n",
       "STD           351.5  \n",
       "VAR        123572.8  \n",
       "MIN             8.1  \n",
       "P1             58.2  \n",
       "P5            133.1  \n",
       "P10           184.0  \n",
       "P25           276.3  \n",
       "P50           414.2  \n",
       "P75           615.6  \n",
       "P90           908.1  \n",
       "P95          1145.1  \n",
       "P99          1760.1  \n",
       "MAX          4881.0  \n",
       "\n",
       "[18 rows x 48 columns]"
      ]
     },
     "execution_count": 22,
     "metadata": {},
     "output_type": "execute_result"
    }
   ],
   "source": [
    "# summary for contineous variable\n",
    "cont_summary = cont_var.apply(continuous_var_summary).round(1)\n",
    "cont_summary"
   ]
  },
  {
   "cell_type": "code",
   "execution_count": 23,
   "metadata": {},
   "outputs": [
    {
     "data": {
      "text/html": [
       "<div>\n",
       "<style scoped>\n",
       "    .dataframe tbody tr th:only-of-type {\n",
       "        vertical-align: middle;\n",
       "    }\n",
       "\n",
       "    .dataframe tbody tr th {\n",
       "        vertical-align: top;\n",
       "    }\n",
       "\n",
       "    .dataframe thead th {\n",
       "        text-align: right;\n",
       "    }\n",
       "</style>\n",
       "<table border=\"1\" class=\"dataframe\">\n",
       "  <thead>\n",
       "    <tr style=\"text-align: right;\">\n",
       "      <th></th>\n",
       "      <th>region</th>\n",
       "      <th>townsize</th>\n",
       "      <th>gender</th>\n",
       "      <th>birthmonth</th>\n",
       "      <th>jobcat</th>\n",
       "      <th>union</th>\n",
       "      <th>retire</th>\n",
       "      <th>default</th>\n",
       "      <th>jobsat</th>\n",
       "      <th>marital</th>\n",
       "      <th>...</th>\n",
       "      <th>owncd</th>\n",
       "      <th>ownpda</th>\n",
       "      <th>ownpc</th>\n",
       "      <th>ownipod</th>\n",
       "      <th>owngame</th>\n",
       "      <th>ownfax</th>\n",
       "      <th>news</th>\n",
       "      <th>response_01</th>\n",
       "      <th>response_02</th>\n",
       "      <th>response_03</th>\n",
       "    </tr>\n",
       "  </thead>\n",
       "  <tbody>\n",
       "    <tr>\n",
       "      <th>N</th>\n",
       "      <td>5000.0</td>\n",
       "      <td>4998.0</td>\n",
       "      <td>5000.0</td>\n",
       "      <td>5000</td>\n",
       "      <td>5000.0</td>\n",
       "      <td>5000.0</td>\n",
       "      <td>5000.0</td>\n",
       "      <td>5000.0</td>\n",
       "      <td>5000.0</td>\n",
       "      <td>5000.0</td>\n",
       "      <td>...</td>\n",
       "      <td>5000.0</td>\n",
       "      <td>5000.0</td>\n",
       "      <td>5000.0</td>\n",
       "      <td>5000.0</td>\n",
       "      <td>5000.0</td>\n",
       "      <td>5000.0</td>\n",
       "      <td>5000.0</td>\n",
       "      <td>5000.0</td>\n",
       "      <td>5000.0</td>\n",
       "      <td>5000.0</td>\n",
       "    </tr>\n",
       "    <tr>\n",
       "      <th>NMISS</th>\n",
       "      <td>0.0</td>\n",
       "      <td>2.0</td>\n",
       "      <td>0.0</td>\n",
       "      <td>0</td>\n",
       "      <td>0.0</td>\n",
       "      <td>0.0</td>\n",
       "      <td>0.0</td>\n",
       "      <td>0.0</td>\n",
       "      <td>0.0</td>\n",
       "      <td>0.0</td>\n",
       "      <td>...</td>\n",
       "      <td>0.0</td>\n",
       "      <td>0.0</td>\n",
       "      <td>0.0</td>\n",
       "      <td>0.0</td>\n",
       "      <td>0.0</td>\n",
       "      <td>0.0</td>\n",
       "      <td>0.0</td>\n",
       "      <td>0.0</td>\n",
       "      <td>0.0</td>\n",
       "      <td>0.0</td>\n",
       "    </tr>\n",
       "    <tr>\n",
       "      <th>MODE</th>\n",
       "      <td>5.0</td>\n",
       "      <td>1.0</td>\n",
       "      <td>1.0</td>\n",
       "      <td>September</td>\n",
       "      <td>2.0</td>\n",
       "      <td>0.0</td>\n",
       "      <td>0.0</td>\n",
       "      <td>0.0</td>\n",
       "      <td>3.0</td>\n",
       "      <td>0.0</td>\n",
       "      <td>...</td>\n",
       "      <td>1.0</td>\n",
       "      <td>0.0</td>\n",
       "      <td>1.0</td>\n",
       "      <td>0.0</td>\n",
       "      <td>0.0</td>\n",
       "      <td>0.0</td>\n",
       "      <td>0.0</td>\n",
       "      <td>0.0</td>\n",
       "      <td>0.0</td>\n",
       "      <td>0.0</td>\n",
       "    </tr>\n",
       "    <tr>\n",
       "      <th>FREQ</th>\n",
       "      <td>1027.0</td>\n",
       "      <td>1436.0</td>\n",
       "      <td>2518.0</td>\n",
       "      <td>458</td>\n",
       "      <td>1640.0</td>\n",
       "      <td>4244.0</td>\n",
       "      <td>4262.0</td>\n",
       "      <td>3829.0</td>\n",
       "      <td>1085.0</td>\n",
       "      <td>2599.0</td>\n",
       "      <td>...</td>\n",
       "      <td>4664.0</td>\n",
       "      <td>3995.0</td>\n",
       "      <td>3164.0</td>\n",
       "      <td>2604.0</td>\n",
       "      <td>2626.0</td>\n",
       "      <td>4106.0</td>\n",
       "      <td>2637.0</td>\n",
       "      <td>4582.0</td>\n",
       "      <td>4351.0</td>\n",
       "      <td>4487.0</td>\n",
       "    </tr>\n",
       "    <tr>\n",
       "      <th>PERCENT</th>\n",
       "      <td>20.5</td>\n",
       "      <td>28.7</td>\n",
       "      <td>50.4</td>\n",
       "      <td>9.16</td>\n",
       "      <td>32.8</td>\n",
       "      <td>84.9</td>\n",
       "      <td>85.2</td>\n",
       "      <td>76.6</td>\n",
       "      <td>21.7</td>\n",
       "      <td>52.0</td>\n",
       "      <td>...</td>\n",
       "      <td>93.3</td>\n",
       "      <td>79.9</td>\n",
       "      <td>63.3</td>\n",
       "      <td>52.1</td>\n",
       "      <td>52.5</td>\n",
       "      <td>82.1</td>\n",
       "      <td>52.7</td>\n",
       "      <td>91.6</td>\n",
       "      <td>87.0</td>\n",
       "      <td>89.7</td>\n",
       "    </tr>\n",
       "  </tbody>\n",
       "</table>\n",
       "<p>5 rows × 71 columns</p>\n",
       "</div>"
      ],
      "text/plain": [
       "         region  townsize  gender birthmonth  jobcat   union  retire  default  \\\n",
       "N        5000.0    4998.0  5000.0       5000  5000.0  5000.0  5000.0   5000.0   \n",
       "NMISS       0.0       2.0     0.0          0     0.0     0.0     0.0      0.0   \n",
       "MODE        5.0       1.0     1.0  September     2.0     0.0     0.0      0.0   \n",
       "FREQ     1027.0    1436.0  2518.0        458  1640.0  4244.0  4262.0   3829.0   \n",
       "PERCENT    20.5      28.7    50.4       9.16    32.8    84.9    85.2     76.6   \n",
       "\n",
       "         jobsat  marital  ...   owncd  ownpda   ownpc  ownipod  owngame  \\\n",
       "N        5000.0   5000.0  ...  5000.0  5000.0  5000.0   5000.0   5000.0   \n",
       "NMISS       0.0      0.0  ...     0.0     0.0     0.0      0.0      0.0   \n",
       "MODE        3.0      0.0  ...     1.0     0.0     1.0      0.0      0.0   \n",
       "FREQ     1085.0   2599.0  ...  4664.0  3995.0  3164.0   2604.0   2626.0   \n",
       "PERCENT    21.7     52.0  ...    93.3    79.9    63.3     52.1     52.5   \n",
       "\n",
       "         ownfax    news  response_01  response_02  response_03  \n",
       "N        5000.0  5000.0       5000.0       5000.0       5000.0  \n",
       "NMISS       0.0     0.0          0.0          0.0          0.0  \n",
       "MODE        0.0     0.0          0.0          0.0          0.0  \n",
       "FREQ     4106.0  2637.0       4582.0       4351.0       4487.0  \n",
       "PERCENT    82.1    52.7         91.6         87.0         89.7  \n",
       "\n",
       "[5 rows x 71 columns]"
      ]
     },
     "execution_count": 23,
     "metadata": {},
     "output_type": "execute_result"
    }
   ],
   "source": [
    "# summary for categorical variable\n",
    "cat_summary = cat_var.apply(categorical_var_summary).round(1)\n",
    "cat_summary"
   ]
  },
  {
   "cell_type": "markdown",
   "metadata": {},
   "source": [
    "## DATA PERPARERATION"
   ]
  },
  {
   "cell_type": "code",
   "execution_count": 24,
   "metadata": {},
   "outputs": [],
   "source": [
    "# outlier treatment\n",
    "cont_var_outlier = cont_var.apply(lambda x: x.clip(lower = x.dropna().quantile(0.01), \n",
    "                                                         upper = x.quantile(0.99)))\n"
   ]
  },
  {
   "cell_type": "code",
   "execution_count": 25,
   "metadata": {},
   "outputs": [
    {
     "data": {
      "text/html": [
       "<div>\n",
       "<style scoped>\n",
       "    .dataframe tbody tr th:only-of-type {\n",
       "        vertical-align: middle;\n",
       "    }\n",
       "\n",
       "    .dataframe tbody tr th {\n",
       "        vertical-align: top;\n",
       "    }\n",
       "\n",
       "    .dataframe thead th {\n",
       "        text-align: right;\n",
       "    }\n",
       "</style>\n",
       "<table border=\"1\" class=\"dataframe\">\n",
       "  <thead>\n",
       "    <tr style=\"text-align: right;\">\n",
       "      <th></th>\n",
       "      <th>age</th>\n",
       "      <th>ed</th>\n",
       "      <th>employ</th>\n",
       "      <th>income</th>\n",
       "      <th>lninc</th>\n",
       "      <th>debtinc</th>\n",
       "      <th>creddebt</th>\n",
       "      <th>lncreddebt</th>\n",
       "      <th>othdebt</th>\n",
       "      <th>lnothdebt</th>\n",
       "      <th>...</th>\n",
       "      <th>cardmon</th>\n",
       "      <th>lncardmon</th>\n",
       "      <th>cardten</th>\n",
       "      <th>lncardten</th>\n",
       "      <th>wiremon</th>\n",
       "      <th>lnwiremon</th>\n",
       "      <th>wireten</th>\n",
       "      <th>lnwireten</th>\n",
       "      <th>hourstv</th>\n",
       "      <th>total_spent</th>\n",
       "    </tr>\n",
       "  </thead>\n",
       "  <tbody>\n",
       "    <tr>\n",
       "      <th>N</th>\n",
       "      <td>5000.0</td>\n",
       "      <td>5000.0</td>\n",
       "      <td>5000.0</td>\n",
       "      <td>5000.0</td>\n",
       "      <td>5000.0</td>\n",
       "      <td>5000.0</td>\n",
       "      <td>5000.0</td>\n",
       "      <td>4999.0</td>\n",
       "      <td>5000.0</td>\n",
       "      <td>4999.0</td>\n",
       "      <td>...</td>\n",
       "      <td>5000.0</td>\n",
       "      <td>3581.0</td>\n",
       "      <td>4998.0</td>\n",
       "      <td>3578.0</td>\n",
       "      <td>5000.0</td>\n",
       "      <td>1344.0</td>\n",
       "      <td>5000.0</td>\n",
       "      <td>1344.0</td>\n",
       "      <td>5000.0</td>\n",
       "      <td>5000.0</td>\n",
       "    </tr>\n",
       "    <tr>\n",
       "      <th>NMISS</th>\n",
       "      <td>0.0</td>\n",
       "      <td>0.0</td>\n",
       "      <td>0.0</td>\n",
       "      <td>0.0</td>\n",
       "      <td>0.0</td>\n",
       "      <td>0.0</td>\n",
       "      <td>0.0</td>\n",
       "      <td>1.0</td>\n",
       "      <td>0.0</td>\n",
       "      <td>1.0</td>\n",
       "      <td>...</td>\n",
       "      <td>0.0</td>\n",
       "      <td>1419.0</td>\n",
       "      <td>2.0</td>\n",
       "      <td>1422.0</td>\n",
       "      <td>0.0</td>\n",
       "      <td>3656.0</td>\n",
       "      <td>0.0</td>\n",
       "      <td>3656.0</td>\n",
       "      <td>0.0</td>\n",
       "      <td>0.0</td>\n",
       "    </tr>\n",
       "    <tr>\n",
       "      <th>SUM</th>\n",
       "      <td>235128.0</td>\n",
       "      <td>72715.0</td>\n",
       "      <td>48652.0</td>\n",
       "      <td>273798.0</td>\n",
       "      <td>18499.5</td>\n",
       "      <td>49770.8</td>\n",
       "      <td>9286.6</td>\n",
       "      <td>-652.1</td>\n",
       "      <td>18272.3</td>\n",
       "      <td>3483.9</td>\n",
       "      <td>...</td>\n",
       "      <td>77219.2</td>\n",
       "      <td>10419.8</td>\n",
       "      <td>3600951.0</td>\n",
       "      <td>22993.3</td>\n",
       "      <td>53506.0</td>\n",
       "      <td>4845.1</td>\n",
       "      <td>2109923.1</td>\n",
       "      <td>9150.1</td>\n",
       "      <td>98225.0</td>\n",
       "      <td>2490393.2</td>\n",
       "    </tr>\n",
       "    <tr>\n",
       "      <th>MEAN</th>\n",
       "      <td>47.0</td>\n",
       "      <td>14.5</td>\n",
       "      <td>9.7</td>\n",
       "      <td>54.8</td>\n",
       "      <td>3.7</td>\n",
       "      <td>10.0</td>\n",
       "      <td>1.9</td>\n",
       "      <td>-0.1</td>\n",
       "      <td>3.7</td>\n",
       "      <td>0.7</td>\n",
       "      <td>...</td>\n",
       "      <td>15.4</td>\n",
       "      <td>2.9</td>\n",
       "      <td>720.5</td>\n",
       "      <td>6.4</td>\n",
       "      <td>10.7</td>\n",
       "      <td>3.6</td>\n",
       "      <td>422.0</td>\n",
       "      <td>6.8</td>\n",
       "      <td>19.6</td>\n",
       "      <td>498.1</td>\n",
       "    </tr>\n",
       "    <tr>\n",
       "      <th>MEDIAN</th>\n",
       "      <td>47.0</td>\n",
       "      <td>14.0</td>\n",
       "      <td>7.0</td>\n",
       "      <td>38.0</td>\n",
       "      <td>3.6</td>\n",
       "      <td>8.8</td>\n",
       "      <td>0.9</td>\n",
       "      <td>-0.1</td>\n",
       "      <td>2.1</td>\n",
       "      <td>0.7</td>\n",
       "      <td>...</td>\n",
       "      <td>13.8</td>\n",
       "      <td>2.9</td>\n",
       "      <td>425.0</td>\n",
       "      <td>6.6</td>\n",
       "      <td>0.0</td>\n",
       "      <td>3.6</td>\n",
       "      <td>0.0</td>\n",
       "      <td>7.1</td>\n",
       "      <td>20.0</td>\n",
       "      <td>414.2</td>\n",
       "    </tr>\n",
       "    <tr>\n",
       "      <th>STD</th>\n",
       "      <td>17.8</td>\n",
       "      <td>3.3</td>\n",
       "      <td>9.7</td>\n",
       "      <td>55.4</td>\n",
       "      <td>0.7</td>\n",
       "      <td>6.4</td>\n",
       "      <td>3.4</td>\n",
       "      <td>1.3</td>\n",
       "      <td>5.4</td>\n",
       "      <td>1.1</td>\n",
       "      <td>...</td>\n",
       "      <td>15.0</td>\n",
       "      <td>0.6</td>\n",
       "      <td>922.2</td>\n",
       "      <td>1.2</td>\n",
       "      <td>19.8</td>\n",
       "      <td>0.4</td>\n",
       "      <td>1001.0</td>\n",
       "      <td>1.3</td>\n",
       "      <td>5.2</td>\n",
       "      <td>351.5</td>\n",
       "    </tr>\n",
       "    <tr>\n",
       "      <th>VAR</th>\n",
       "      <td>315.8</td>\n",
       "      <td>10.8</td>\n",
       "      <td>93.9</td>\n",
       "      <td>3066.7</td>\n",
       "      <td>0.6</td>\n",
       "      <td>41.0</td>\n",
       "      <td>11.7</td>\n",
       "      <td>1.6</td>\n",
       "      <td>29.1</td>\n",
       "      <td>1.3</td>\n",
       "      <td>...</td>\n",
       "      <td>225.2</td>\n",
       "      <td>0.3</td>\n",
       "      <td>850499.9</td>\n",
       "      <td>1.4</td>\n",
       "      <td>392.0</td>\n",
       "      <td>0.2</td>\n",
       "      <td>1002007.6</td>\n",
       "      <td>1.6</td>\n",
       "      <td>26.7</td>\n",
       "      <td>123572.8</td>\n",
       "    </tr>\n",
       "    <tr>\n",
       "      <th>MIN</th>\n",
       "      <td>18.0</td>\n",
       "      <td>6.0</td>\n",
       "      <td>0.0</td>\n",
       "      <td>9.0</td>\n",
       "      <td>2.2</td>\n",
       "      <td>0.0</td>\n",
       "      <td>0.0</td>\n",
       "      <td>-6.6</td>\n",
       "      <td>0.0</td>\n",
       "      <td>-4.1</td>\n",
       "      <td>...</td>\n",
       "      <td>0.0</td>\n",
       "      <td>1.2</td>\n",
       "      <td>0.0</td>\n",
       "      <td>1.6</td>\n",
       "      <td>0.0</td>\n",
       "      <td>2.5</td>\n",
       "      <td>0.0</td>\n",
       "      <td>2.5</td>\n",
       "      <td>0.0</td>\n",
       "      <td>8.1</td>\n",
       "    </tr>\n",
       "    <tr>\n",
       "      <th>P1</th>\n",
       "      <td>18.0</td>\n",
       "      <td>8.0</td>\n",
       "      <td>0.0</td>\n",
       "      <td>9.0</td>\n",
       "      <td>2.2</td>\n",
       "      <td>0.7</td>\n",
       "      <td>0.0</td>\n",
       "      <td>-3.4</td>\n",
       "      <td>0.1</td>\n",
       "      <td>-2.2</td>\n",
       "      <td>...</td>\n",
       "      <td>0.0</td>\n",
       "      <td>1.7</td>\n",
       "      <td>0.0</td>\n",
       "      <td>2.5</td>\n",
       "      <td>0.0</td>\n",
       "      <td>2.8</td>\n",
       "      <td>0.0</td>\n",
       "      <td>3.0</td>\n",
       "      <td>0.0</td>\n",
       "      <td>58.2</td>\n",
       "    </tr>\n",
       "    <tr>\n",
       "      <th>P5</th>\n",
       "      <td>20.0</td>\n",
       "      <td>9.0</td>\n",
       "      <td>0.0</td>\n",
       "      <td>13.0</td>\n",
       "      <td>2.6</td>\n",
       "      <td>1.9</td>\n",
       "      <td>0.1</td>\n",
       "      <td>-2.3</td>\n",
       "      <td>0.3</td>\n",
       "      <td>-1.2</td>\n",
       "      <td>...</td>\n",
       "      <td>0.0</td>\n",
       "      <td>2.0</td>\n",
       "      <td>0.0</td>\n",
       "      <td>4.1</td>\n",
       "      <td>0.0</td>\n",
       "      <td>3.0</td>\n",
       "      <td>0.0</td>\n",
       "      <td>4.1</td>\n",
       "      <td>12.0</td>\n",
       "      <td>133.1</td>\n",
       "    </tr>\n",
       "    <tr>\n",
       "      <th>P10</th>\n",
       "      <td>23.0</td>\n",
       "      <td>10.0</td>\n",
       "      <td>0.0</td>\n",
       "      <td>16.0</td>\n",
       "      <td>2.8</td>\n",
       "      <td>2.8</td>\n",
       "      <td>0.2</td>\n",
       "      <td>-1.7</td>\n",
       "      <td>0.5</td>\n",
       "      <td>-0.8</td>\n",
       "      <td>...</td>\n",
       "      <td>0.0</td>\n",
       "      <td>2.2</td>\n",
       "      <td>0.0</td>\n",
       "      <td>4.9</td>\n",
       "      <td>0.0</td>\n",
       "      <td>3.1</td>\n",
       "      <td>0.0</td>\n",
       "      <td>4.9</td>\n",
       "      <td>14.0</td>\n",
       "      <td>184.0</td>\n",
       "    </tr>\n",
       "    <tr>\n",
       "      <th>P25</th>\n",
       "      <td>31.0</td>\n",
       "      <td>12.0</td>\n",
       "      <td>2.0</td>\n",
       "      <td>24.0</td>\n",
       "      <td>3.2</td>\n",
       "      <td>5.1</td>\n",
       "      <td>0.4</td>\n",
       "      <td>-1.0</td>\n",
       "      <td>1.0</td>\n",
       "      <td>-0.0</td>\n",
       "      <td>...</td>\n",
       "      <td>0.0</td>\n",
       "      <td>2.5</td>\n",
       "      <td>0.0</td>\n",
       "      <td>5.9</td>\n",
       "      <td>0.0</td>\n",
       "      <td>3.3</td>\n",
       "      <td>0.0</td>\n",
       "      <td>6.2</td>\n",
       "      <td>17.0</td>\n",
       "      <td>276.3</td>\n",
       "    </tr>\n",
       "    <tr>\n",
       "      <th>P50</th>\n",
       "      <td>47.0</td>\n",
       "      <td>14.0</td>\n",
       "      <td>7.0</td>\n",
       "      <td>38.0</td>\n",
       "      <td>3.6</td>\n",
       "      <td>8.8</td>\n",
       "      <td>0.9</td>\n",
       "      <td>-0.1</td>\n",
       "      <td>2.1</td>\n",
       "      <td>0.7</td>\n",
       "      <td>...</td>\n",
       "      <td>13.8</td>\n",
       "      <td>2.9</td>\n",
       "      <td>425.0</td>\n",
       "      <td>6.6</td>\n",
       "      <td>0.0</td>\n",
       "      <td>3.6</td>\n",
       "      <td>0.0</td>\n",
       "      <td>7.1</td>\n",
       "      <td>20.0</td>\n",
       "      <td>414.2</td>\n",
       "    </tr>\n",
       "    <tr>\n",
       "      <th>P75</th>\n",
       "      <td>62.0</td>\n",
       "      <td>17.0</td>\n",
       "      <td>15.0</td>\n",
       "      <td>67.0</td>\n",
       "      <td>4.2</td>\n",
       "      <td>13.6</td>\n",
       "      <td>2.1</td>\n",
       "      <td>0.7</td>\n",
       "      <td>4.3</td>\n",
       "      <td>1.5</td>\n",
       "      <td>...</td>\n",
       "      <td>22.8</td>\n",
       "      <td>3.3</td>\n",
       "      <td>1080.0</td>\n",
       "      <td>7.2</td>\n",
       "      <td>21.0</td>\n",
       "      <td>3.9</td>\n",
       "      <td>90.0</td>\n",
       "      <td>7.8</td>\n",
       "      <td>23.0</td>\n",
       "      <td>615.6</td>\n",
       "    </tr>\n",
       "    <tr>\n",
       "      <th>P90</th>\n",
       "      <td>72.0</td>\n",
       "      <td>19.0</td>\n",
       "      <td>25.0</td>\n",
       "      <td>109.1</td>\n",
       "      <td>4.7</td>\n",
       "      <td>18.6</td>\n",
       "      <td>4.3</td>\n",
       "      <td>1.5</td>\n",
       "      <td>8.1</td>\n",
       "      <td>2.1</td>\n",
       "      <td>...</td>\n",
       "      <td>34.0</td>\n",
       "      <td>3.6</td>\n",
       "      <td>1871.5</td>\n",
       "      <td>7.7</td>\n",
       "      <td>40.9</td>\n",
       "      <td>4.1</td>\n",
       "      <td>1778.5</td>\n",
       "      <td>8.1</td>\n",
       "      <td>26.0</td>\n",
       "      <td>908.1</td>\n",
       "    </tr>\n",
       "    <tr>\n",
       "      <th>P95</th>\n",
       "      <td>76.0</td>\n",
       "      <td>20.0</td>\n",
       "      <td>31.0</td>\n",
       "      <td>147.0</td>\n",
       "      <td>5.0</td>\n",
       "      <td>22.2</td>\n",
       "      <td>6.4</td>\n",
       "      <td>1.9</td>\n",
       "      <td>11.8</td>\n",
       "      <td>2.5</td>\n",
       "      <td>...</td>\n",
       "      <td>42.0</td>\n",
       "      <td>3.8</td>\n",
       "      <td>2455.7</td>\n",
       "      <td>7.9</td>\n",
       "      <td>51.3</td>\n",
       "      <td>4.3</td>\n",
       "      <td>2687.9</td>\n",
       "      <td>8.3</td>\n",
       "      <td>28.0</td>\n",
       "      <td>1145.1</td>\n",
       "    </tr>\n",
       "    <tr>\n",
       "      <th>P99</th>\n",
       "      <td>79.0</td>\n",
       "      <td>21.0</td>\n",
       "      <td>39.0</td>\n",
       "      <td>272.0</td>\n",
       "      <td>5.6</td>\n",
       "      <td>29.2</td>\n",
       "      <td>14.3</td>\n",
       "      <td>2.7</td>\n",
       "      <td>24.1</td>\n",
       "      <td>3.2</td>\n",
       "      <td>...</td>\n",
       "      <td>64.2</td>\n",
       "      <td>4.2</td>\n",
       "      <td>4011.2</td>\n",
       "      <td>8.4</td>\n",
       "      <td>78.3</td>\n",
       "      <td>4.6</td>\n",
       "      <td>4530.2</td>\n",
       "      <td>8.7</td>\n",
       "      <td>31.0</td>\n",
       "      <td>1760.1</td>\n",
       "    </tr>\n",
       "    <tr>\n",
       "      <th>MAX</th>\n",
       "      <td>79.0</td>\n",
       "      <td>23.0</td>\n",
       "      <td>52.0</td>\n",
       "      <td>1073.0</td>\n",
       "      <td>7.0</td>\n",
       "      <td>43.1</td>\n",
       "      <td>109.1</td>\n",
       "      <td>4.7</td>\n",
       "      <td>141.5</td>\n",
       "      <td>5.0</td>\n",
       "      <td>...</td>\n",
       "      <td>188.5</td>\n",
       "      <td>5.2</td>\n",
       "      <td>13705.0</td>\n",
       "      <td>9.5</td>\n",
       "      <td>186.2</td>\n",
       "      <td>5.2</td>\n",
       "      <td>12858.6</td>\n",
       "      <td>9.5</td>\n",
       "      <td>36.0</td>\n",
       "      <td>4881.0</td>\n",
       "    </tr>\n",
       "  </tbody>\n",
       "</table>\n",
       "<p>18 rows × 48 columns</p>\n",
       "</div>"
      ],
      "text/plain": [
       "             age       ed   employ    income    lninc  debtinc  creddebt  \\\n",
       "N         5000.0   5000.0   5000.0    5000.0   5000.0   5000.0    5000.0   \n",
       "NMISS        0.0      0.0      0.0       0.0      0.0      0.0       0.0   \n",
       "SUM     235128.0  72715.0  48652.0  273798.0  18499.5  49770.8    9286.6   \n",
       "MEAN        47.0     14.5      9.7      54.8      3.7     10.0       1.9   \n",
       "MEDIAN      47.0     14.0      7.0      38.0      3.6      8.8       0.9   \n",
       "STD         17.8      3.3      9.7      55.4      0.7      6.4       3.4   \n",
       "VAR        315.8     10.8     93.9    3066.7      0.6     41.0      11.7   \n",
       "MIN         18.0      6.0      0.0       9.0      2.2      0.0       0.0   \n",
       "P1          18.0      8.0      0.0       9.0      2.2      0.7       0.0   \n",
       "P5          20.0      9.0      0.0      13.0      2.6      1.9       0.1   \n",
       "P10         23.0     10.0      0.0      16.0      2.8      2.8       0.2   \n",
       "P25         31.0     12.0      2.0      24.0      3.2      5.1       0.4   \n",
       "P50         47.0     14.0      7.0      38.0      3.6      8.8       0.9   \n",
       "P75         62.0     17.0     15.0      67.0      4.2     13.6       2.1   \n",
       "P90         72.0     19.0     25.0     109.1      4.7     18.6       4.3   \n",
       "P95         76.0     20.0     31.0     147.0      5.0     22.2       6.4   \n",
       "P99         79.0     21.0     39.0     272.0      5.6     29.2      14.3   \n",
       "MAX         79.0     23.0     52.0    1073.0      7.0     43.1     109.1   \n",
       "\n",
       "        lncreddebt  othdebt  lnothdebt  ...  cardmon  lncardmon    cardten  \\\n",
       "N           4999.0   5000.0     4999.0  ...   5000.0     3581.0     4998.0   \n",
       "NMISS          1.0      0.0        1.0  ...      0.0     1419.0        2.0   \n",
       "SUM         -652.1  18272.3     3483.9  ...  77219.2    10419.8  3600951.0   \n",
       "MEAN          -0.1      3.7        0.7  ...     15.4        2.9      720.5   \n",
       "MEDIAN        -0.1      2.1        0.7  ...     13.8        2.9      425.0   \n",
       "STD            1.3      5.4        1.1  ...     15.0        0.6      922.2   \n",
       "VAR            1.6     29.1        1.3  ...    225.2        0.3   850499.9   \n",
       "MIN           -6.6      0.0       -4.1  ...      0.0        1.2        0.0   \n",
       "P1            -3.4      0.1       -2.2  ...      0.0        1.7        0.0   \n",
       "P5            -2.3      0.3       -1.2  ...      0.0        2.0        0.0   \n",
       "P10           -1.7      0.5       -0.8  ...      0.0        2.2        0.0   \n",
       "P25           -1.0      1.0       -0.0  ...      0.0        2.5        0.0   \n",
       "P50           -0.1      2.1        0.7  ...     13.8        2.9      425.0   \n",
       "P75            0.7      4.3        1.5  ...     22.8        3.3     1080.0   \n",
       "P90            1.5      8.1        2.1  ...     34.0        3.6     1871.5   \n",
       "P95            1.9     11.8        2.5  ...     42.0        3.8     2455.7   \n",
       "P99            2.7     24.1        3.2  ...     64.2        4.2     4011.2   \n",
       "MAX            4.7    141.5        5.0  ...    188.5        5.2    13705.0   \n",
       "\n",
       "        lncardten  wiremon  lnwiremon    wireten  lnwireten  hourstv  \\\n",
       "N          3578.0   5000.0     1344.0     5000.0     1344.0   5000.0   \n",
       "NMISS      1422.0      0.0     3656.0        0.0     3656.0      0.0   \n",
       "SUM       22993.3  53506.0     4845.1  2109923.1     9150.1  98225.0   \n",
       "MEAN          6.4     10.7        3.6      422.0        6.8     19.6   \n",
       "MEDIAN        6.6      0.0        3.6        0.0        7.1     20.0   \n",
       "STD           1.2     19.8        0.4     1001.0        1.3      5.2   \n",
       "VAR           1.4    392.0        0.2  1002007.6        1.6     26.7   \n",
       "MIN           1.6      0.0        2.5        0.0        2.5      0.0   \n",
       "P1            2.5      0.0        2.8        0.0        3.0      0.0   \n",
       "P5            4.1      0.0        3.0        0.0        4.1     12.0   \n",
       "P10           4.9      0.0        3.1        0.0        4.9     14.0   \n",
       "P25           5.9      0.0        3.3        0.0        6.2     17.0   \n",
       "P50           6.6      0.0        3.6        0.0        7.1     20.0   \n",
       "P75           7.2     21.0        3.9       90.0        7.8     23.0   \n",
       "P90           7.7     40.9        4.1     1778.5        8.1     26.0   \n",
       "P95           7.9     51.3        4.3     2687.9        8.3     28.0   \n",
       "P99           8.4     78.3        4.6     4530.2        8.7     31.0   \n",
       "MAX           9.5    186.2        5.2    12858.6        9.5     36.0   \n",
       "\n",
       "        total_spent  \n",
       "N            5000.0  \n",
       "NMISS           0.0  \n",
       "SUM       2490393.2  \n",
       "MEAN          498.1  \n",
       "MEDIAN        414.2  \n",
       "STD           351.5  \n",
       "VAR        123572.8  \n",
       "MIN             8.1  \n",
       "P1             58.2  \n",
       "P5            133.1  \n",
       "P10           184.0  \n",
       "P25           276.3  \n",
       "P50           414.2  \n",
       "P75           615.6  \n",
       "P90           908.1  \n",
       "P95          1145.1  \n",
       "P99          1760.1  \n",
       "MAX          4881.0  \n",
       "\n",
       "[18 rows x 48 columns]"
      ]
     },
     "execution_count": 25,
     "metadata": {},
     "output_type": "execute_result"
    }
   ],
   "source": [
    "cont_var.apply(continuous_var_summary).round(1)\n"
   ]
  },
  {
   "cell_type": "code",
   "execution_count": 26,
   "metadata": {},
   "outputs": [
    {
     "data": {
      "text/plain": [
       "lntollmon     2622\n",
       "lntollten     2622\n",
       "lnequipmon    3296\n",
       "lnequipten    3296\n",
       "lncardmon     1419\n",
       "lncardten     1422\n",
       "lnwiremon     3656\n",
       "lnwireten     3656\n",
       "dtype: int64"
      ]
     },
     "execution_count": 26,
     "metadata": {},
     "output_type": "execute_result"
    }
   ],
   "source": [
    "#Columns having more than 1000 missing values\n",
    "miss_value = data.isna().sum()\n",
    "miss_value[miss_value>1000]"
   ]
  },
  {
   "cell_type": "code",
   "execution_count": 27,
   "metadata": {},
   "outputs": [
    {
     "data": {
      "text/plain": [
       "22003"
      ]
     },
     "execution_count": 27,
     "metadata": {},
     "output_type": "execute_result"
    }
   ],
   "source": [
    "# total missing values\n",
    "tot_miss = sum(data.isna().sum())\n",
    "tot_miss"
   ]
  },
  {
   "cell_type": "code",
   "execution_count": 28,
   "metadata": {},
   "outputs": [
    {
     "data": {
      "text/plain": [
       "region         0.00\n",
       "townsize       0.04\n",
       "gender         0.00\n",
       "age            0.00\n",
       "birthmonth     0.00\n",
       "               ... \n",
       "news           0.00\n",
       "response_01    0.00\n",
       "response_02    0.00\n",
       "response_03    0.00\n",
       "total_spent    0.00\n",
       "Length: 119, dtype: float64"
      ]
     },
     "execution_count": 28,
     "metadata": {},
     "output_type": "execute_result"
    }
   ],
   "source": [
    "# % age of missing values\n",
    "data.isna().sum()/data.shape[0]*100"
   ]
  },
  {
   "cell_type": "code",
   "execution_count": 29,
   "metadata": {},
   "outputs": [],
   "source": [
    "# Dropping variables having more than 1000 missing values\n",
    "data.drop(['lntollmon', 'lntollten', 'lnequipmon', 'lnequipten', 'lncardmon',\n",
    "       'lncardten', 'lnwiremon', 'lnwireten'], axis = 1, inplace = True)"
   ]
  },
  {
   "cell_type": "code",
   "execution_count": 30,
   "metadata": {},
   "outputs": [
    {
     "data": {
      "text/plain": [
       "(5000, 111)"
      ]
     },
     "execution_count": 30,
     "metadata": {},
     "output_type": "execute_result"
    }
   ],
   "source": [
    "data.shape"
   ]
  },
  {
   "cell_type": "code",
   "execution_count": 31,
   "metadata": {},
   "outputs": [],
   "source": [
    "# missing value imputation\n",
    "cont_var = cont_var.apply(missing_imputation)\n",
    "cat_var = cat_var.apply(missing_imputation)\n"
   ]
  },
  {
   "cell_type": "code",
   "execution_count": 32,
   "metadata": {},
   "outputs": [
    {
     "data": {
      "text/plain": [
       "age               0.0\n",
       "ed                0.0\n",
       "employ            0.0\n",
       "income            0.0\n",
       "lninc             0.0\n",
       "debtinc           0.0\n",
       "creddebt          0.0\n",
       "lncreddebt        0.0\n",
       "othdebt           0.0\n",
       "lnothdebt         0.0\n",
       "spoused           0.0\n",
       "reside            0.0\n",
       "pets              0.0\n",
       "pets_cats         0.0\n",
       "pets_dogs         0.0\n",
       "pets_birds        0.0\n",
       "pets_reptiles     0.0\n",
       "pets_small        0.0\n",
       "pets_saltfish     0.0\n",
       "pets_freshfish    0.0\n",
       "address           0.0\n",
       "carvalue          0.0\n",
       "commutetime       0.0\n",
       "cardtenure        0.0\n",
       "card2tenure       0.0\n",
       "tenure            0.0\n",
       "longmon           0.0\n",
       "lnlongmon         0.0\n",
       "longten           0.0\n",
       "lnlongten         0.0\n",
       "tollmon           0.0\n",
       "lntollmon         0.0\n",
       "tollten           0.0\n",
       "lntollten         0.0\n",
       "equipmon          0.0\n",
       "lnequipmon        0.0\n",
       "equipten          0.0\n",
       "lnequipten        0.0\n",
       "cardmon           0.0\n",
       "lncardmon         0.0\n",
       "cardten           0.0\n",
       "lncardten         0.0\n",
       "wiremon           0.0\n",
       "lnwiremon         0.0\n",
       "wireten           0.0\n",
       "lnwireten         0.0\n",
       "hourstv           0.0\n",
       "total_spent       0.0\n",
       "dtype: float64"
      ]
     },
     "execution_count": 32,
     "metadata": {},
     "output_type": "execute_result"
    }
   ],
   "source": [
    "cont_var.isna().sum()/cont_var.shape[0]*100"
   ]
  },
  {
   "cell_type": "code",
   "execution_count": 33,
   "metadata": {},
   "outputs": [
    {
     "data": {
      "text/html": [
       "<div>\n",
       "<style scoped>\n",
       "    .dataframe tbody tr th:only-of-type {\n",
       "        vertical-align: middle;\n",
       "    }\n",
       "\n",
       "    .dataframe tbody tr th {\n",
       "        vertical-align: top;\n",
       "    }\n",
       "\n",
       "    .dataframe thead th {\n",
       "        text-align: right;\n",
       "    }\n",
       "</style>\n",
       "<table border=\"1\" class=\"dataframe\">\n",
       "  <thead>\n",
       "    <tr style=\"text-align: right;\">\n",
       "      <th></th>\n",
       "      <th>age</th>\n",
       "      <th>ed</th>\n",
       "      <th>employ</th>\n",
       "      <th>income</th>\n",
       "      <th>lninc</th>\n",
       "      <th>debtinc</th>\n",
       "      <th>creddebt</th>\n",
       "      <th>lncreddebt</th>\n",
       "      <th>othdebt</th>\n",
       "      <th>lnothdebt</th>\n",
       "      <th>...</th>\n",
       "      <th>cardmon</th>\n",
       "      <th>lncardmon</th>\n",
       "      <th>cardten</th>\n",
       "      <th>lncardten</th>\n",
       "      <th>wiremon</th>\n",
       "      <th>lnwiremon</th>\n",
       "      <th>wireten</th>\n",
       "      <th>lnwireten</th>\n",
       "      <th>hourstv</th>\n",
       "      <th>total_spent</th>\n",
       "    </tr>\n",
       "  </thead>\n",
       "  <tbody>\n",
       "    <tr>\n",
       "      <th>N</th>\n",
       "      <td>5000.0</td>\n",
       "      <td>5000.0</td>\n",
       "      <td>5000.0</td>\n",
       "      <td>5000.0</td>\n",
       "      <td>5000.0</td>\n",
       "      <td>5000.0</td>\n",
       "      <td>5000.0</td>\n",
       "      <td>5000.0</td>\n",
       "      <td>5000.0</td>\n",
       "      <td>5000.0</td>\n",
       "      <td>...</td>\n",
       "      <td>5000.0</td>\n",
       "      <td>5000.0</td>\n",
       "      <td>5000.0</td>\n",
       "      <td>5000.0</td>\n",
       "      <td>5000.0</td>\n",
       "      <td>5000.0</td>\n",
       "      <td>5000.0</td>\n",
       "      <td>5000.0</td>\n",
       "      <td>5000.0</td>\n",
       "      <td>5000.0</td>\n",
       "    </tr>\n",
       "    <tr>\n",
       "      <th>NMISS</th>\n",
       "      <td>0.0</td>\n",
       "      <td>0.0</td>\n",
       "      <td>0.0</td>\n",
       "      <td>0.0</td>\n",
       "      <td>0.0</td>\n",
       "      <td>0.0</td>\n",
       "      <td>0.0</td>\n",
       "      <td>0.0</td>\n",
       "      <td>0.0</td>\n",
       "      <td>0.0</td>\n",
       "      <td>...</td>\n",
       "      <td>0.0</td>\n",
       "      <td>0.0</td>\n",
       "      <td>0.0</td>\n",
       "      <td>0.0</td>\n",
       "      <td>0.0</td>\n",
       "      <td>0.0</td>\n",
       "      <td>0.0</td>\n",
       "      <td>0.0</td>\n",
       "      <td>0.0</td>\n",
       "      <td>0.0</td>\n",
       "    </tr>\n",
       "    <tr>\n",
       "      <th>SUM</th>\n",
       "      <td>235128.0</td>\n",
       "      <td>72715.0</td>\n",
       "      <td>48652.0</td>\n",
       "      <td>273798.0</td>\n",
       "      <td>18499.5</td>\n",
       "      <td>49770.8</td>\n",
       "      <td>9286.6</td>\n",
       "      <td>-652.3</td>\n",
       "      <td>18272.3</td>\n",
       "      <td>3484.6</td>\n",
       "      <td>...</td>\n",
       "      <td>77219.2</td>\n",
       "      <td>14548.7</td>\n",
       "      <td>3602392.0</td>\n",
       "      <td>32131.5</td>\n",
       "      <td>53506.0</td>\n",
       "      <td>18025.0</td>\n",
       "      <td>2109923.1</td>\n",
       "      <td>34040.7</td>\n",
       "      <td>98225.0</td>\n",
       "      <td>2490393.2</td>\n",
       "    </tr>\n",
       "    <tr>\n",
       "      <th>MEAN</th>\n",
       "      <td>47.0</td>\n",
       "      <td>14.5</td>\n",
       "      <td>9.7</td>\n",
       "      <td>54.8</td>\n",
       "      <td>3.7</td>\n",
       "      <td>10.0</td>\n",
       "      <td>1.9</td>\n",
       "      <td>-0.1</td>\n",
       "      <td>3.7</td>\n",
       "      <td>0.7</td>\n",
       "      <td>...</td>\n",
       "      <td>15.4</td>\n",
       "      <td>2.9</td>\n",
       "      <td>720.5</td>\n",
       "      <td>6.4</td>\n",
       "      <td>10.7</td>\n",
       "      <td>3.6</td>\n",
       "      <td>422.0</td>\n",
       "      <td>6.8</td>\n",
       "      <td>19.6</td>\n",
       "      <td>498.1</td>\n",
       "    </tr>\n",
       "    <tr>\n",
       "      <th>MEDIAN</th>\n",
       "      <td>47.0</td>\n",
       "      <td>14.0</td>\n",
       "      <td>7.0</td>\n",
       "      <td>38.0</td>\n",
       "      <td>3.6</td>\n",
       "      <td>8.8</td>\n",
       "      <td>0.9</td>\n",
       "      <td>-0.1</td>\n",
       "      <td>2.1</td>\n",
       "      <td>0.7</td>\n",
       "      <td>...</td>\n",
       "      <td>13.8</td>\n",
       "      <td>2.9</td>\n",
       "      <td>425.0</td>\n",
       "      <td>6.4</td>\n",
       "      <td>0.0</td>\n",
       "      <td>3.6</td>\n",
       "      <td>0.0</td>\n",
       "      <td>6.8</td>\n",
       "      <td>20.0</td>\n",
       "      <td>414.2</td>\n",
       "    </tr>\n",
       "    <tr>\n",
       "      <th>STD</th>\n",
       "      <td>17.8</td>\n",
       "      <td>3.3</td>\n",
       "      <td>9.7</td>\n",
       "      <td>55.4</td>\n",
       "      <td>0.7</td>\n",
       "      <td>6.4</td>\n",
       "      <td>3.4</td>\n",
       "      <td>1.3</td>\n",
       "      <td>5.4</td>\n",
       "      <td>1.1</td>\n",
       "      <td>...</td>\n",
       "      <td>15.0</td>\n",
       "      <td>0.5</td>\n",
       "      <td>922.0</td>\n",
       "      <td>1.0</td>\n",
       "      <td>19.8</td>\n",
       "      <td>0.2</td>\n",
       "      <td>1001.0</td>\n",
       "      <td>0.7</td>\n",
       "      <td>5.2</td>\n",
       "      <td>351.5</td>\n",
       "    </tr>\n",
       "    <tr>\n",
       "      <th>VAR</th>\n",
       "      <td>315.8</td>\n",
       "      <td>10.8</td>\n",
       "      <td>93.9</td>\n",
       "      <td>3066.7</td>\n",
       "      <td>0.6</td>\n",
       "      <td>41.0</td>\n",
       "      <td>11.7</td>\n",
       "      <td>1.6</td>\n",
       "      <td>29.1</td>\n",
       "      <td>1.3</td>\n",
       "      <td>...</td>\n",
       "      <td>225.2</td>\n",
       "      <td>0.2</td>\n",
       "      <td>850159.7</td>\n",
       "      <td>1.0</td>\n",
       "      <td>392.0</td>\n",
       "      <td>0.0</td>\n",
       "      <td>1002007.6</td>\n",
       "      <td>0.4</td>\n",
       "      <td>26.7</td>\n",
       "      <td>123572.8</td>\n",
       "    </tr>\n",
       "    <tr>\n",
       "      <th>MIN</th>\n",
       "      <td>18.0</td>\n",
       "      <td>6.0</td>\n",
       "      <td>0.0</td>\n",
       "      <td>9.0</td>\n",
       "      <td>2.2</td>\n",
       "      <td>0.0</td>\n",
       "      <td>0.0</td>\n",
       "      <td>-6.6</td>\n",
       "      <td>0.0</td>\n",
       "      <td>-4.1</td>\n",
       "      <td>...</td>\n",
       "      <td>0.0</td>\n",
       "      <td>1.2</td>\n",
       "      <td>0.0</td>\n",
       "      <td>1.6</td>\n",
       "      <td>0.0</td>\n",
       "      <td>2.5</td>\n",
       "      <td>0.0</td>\n",
       "      <td>2.5</td>\n",
       "      <td>0.0</td>\n",
       "      <td>8.1</td>\n",
       "    </tr>\n",
       "    <tr>\n",
       "      <th>P1</th>\n",
       "      <td>18.0</td>\n",
       "      <td>8.0</td>\n",
       "      <td>0.0</td>\n",
       "      <td>9.0</td>\n",
       "      <td>2.2</td>\n",
       "      <td>0.7</td>\n",
       "      <td>0.0</td>\n",
       "      <td>-3.4</td>\n",
       "      <td>0.1</td>\n",
       "      <td>-2.2</td>\n",
       "      <td>...</td>\n",
       "      <td>0.0</td>\n",
       "      <td>1.7</td>\n",
       "      <td>0.0</td>\n",
       "      <td>2.7</td>\n",
       "      <td>0.0</td>\n",
       "      <td>2.9</td>\n",
       "      <td>0.0</td>\n",
       "      <td>3.8</td>\n",
       "      <td>0.0</td>\n",
       "      <td>58.2</td>\n",
       "    </tr>\n",
       "    <tr>\n",
       "      <th>P5</th>\n",
       "      <td>20.0</td>\n",
       "      <td>9.0</td>\n",
       "      <td>0.0</td>\n",
       "      <td>13.0</td>\n",
       "      <td>2.6</td>\n",
       "      <td>1.9</td>\n",
       "      <td>0.1</td>\n",
       "      <td>-2.3</td>\n",
       "      <td>0.3</td>\n",
       "      <td>-1.2</td>\n",
       "      <td>...</td>\n",
       "      <td>0.0</td>\n",
       "      <td>2.1</td>\n",
       "      <td>0.0</td>\n",
       "      <td>4.5</td>\n",
       "      <td>0.0</td>\n",
       "      <td>3.2</td>\n",
       "      <td>0.0</td>\n",
       "      <td>5.7</td>\n",
       "      <td>12.0</td>\n",
       "      <td>133.1</td>\n",
       "    </tr>\n",
       "    <tr>\n",
       "      <th>P10</th>\n",
       "      <td>23.0</td>\n",
       "      <td>10.0</td>\n",
       "      <td>0.0</td>\n",
       "      <td>16.0</td>\n",
       "      <td>2.8</td>\n",
       "      <td>2.8</td>\n",
       "      <td>0.2</td>\n",
       "      <td>-1.7</td>\n",
       "      <td>0.5</td>\n",
       "      <td>-0.8</td>\n",
       "      <td>...</td>\n",
       "      <td>0.0</td>\n",
       "      <td>2.3</td>\n",
       "      <td>0.0</td>\n",
       "      <td>5.3</td>\n",
       "      <td>0.0</td>\n",
       "      <td>3.5</td>\n",
       "      <td>0.0</td>\n",
       "      <td>6.7</td>\n",
       "      <td>14.0</td>\n",
       "      <td>184.0</td>\n",
       "    </tr>\n",
       "    <tr>\n",
       "      <th>P25</th>\n",
       "      <td>31.0</td>\n",
       "      <td>12.0</td>\n",
       "      <td>2.0</td>\n",
       "      <td>24.0</td>\n",
       "      <td>3.2</td>\n",
       "      <td>5.1</td>\n",
       "      <td>0.4</td>\n",
       "      <td>-1.0</td>\n",
       "      <td>1.0</td>\n",
       "      <td>-0.0</td>\n",
       "      <td>...</td>\n",
       "      <td>0.0</td>\n",
       "      <td>2.7</td>\n",
       "      <td>0.0</td>\n",
       "      <td>6.2</td>\n",
       "      <td>0.0</td>\n",
       "      <td>3.6</td>\n",
       "      <td>0.0</td>\n",
       "      <td>6.8</td>\n",
       "      <td>17.0</td>\n",
       "      <td>276.3</td>\n",
       "    </tr>\n",
       "    <tr>\n",
       "      <th>P50</th>\n",
       "      <td>47.0</td>\n",
       "      <td>14.0</td>\n",
       "      <td>7.0</td>\n",
       "      <td>38.0</td>\n",
       "      <td>3.6</td>\n",
       "      <td>8.8</td>\n",
       "      <td>0.9</td>\n",
       "      <td>-0.1</td>\n",
       "      <td>2.1</td>\n",
       "      <td>0.7</td>\n",
       "      <td>...</td>\n",
       "      <td>13.8</td>\n",
       "      <td>2.9</td>\n",
       "      <td>425.0</td>\n",
       "      <td>6.4</td>\n",
       "      <td>0.0</td>\n",
       "      <td>3.6</td>\n",
       "      <td>0.0</td>\n",
       "      <td>6.8</td>\n",
       "      <td>20.0</td>\n",
       "      <td>414.2</td>\n",
       "    </tr>\n",
       "    <tr>\n",
       "      <th>P75</th>\n",
       "      <td>62.0</td>\n",
       "      <td>17.0</td>\n",
       "      <td>15.0</td>\n",
       "      <td>67.0</td>\n",
       "      <td>4.2</td>\n",
       "      <td>13.6</td>\n",
       "      <td>2.1</td>\n",
       "      <td>0.7</td>\n",
       "      <td>4.3</td>\n",
       "      <td>1.5</td>\n",
       "      <td>...</td>\n",
       "      <td>22.8</td>\n",
       "      <td>3.1</td>\n",
       "      <td>1080.0</td>\n",
       "      <td>7.0</td>\n",
       "      <td>21.0</td>\n",
       "      <td>3.6</td>\n",
       "      <td>90.0</td>\n",
       "      <td>6.8</td>\n",
       "      <td>23.0</td>\n",
       "      <td>615.6</td>\n",
       "    </tr>\n",
       "    <tr>\n",
       "      <th>P90</th>\n",
       "      <td>72.0</td>\n",
       "      <td>19.0</td>\n",
       "      <td>25.0</td>\n",
       "      <td>109.1</td>\n",
       "      <td>4.7</td>\n",
       "      <td>18.6</td>\n",
       "      <td>4.3</td>\n",
       "      <td>1.5</td>\n",
       "      <td>8.1</td>\n",
       "      <td>2.1</td>\n",
       "      <td>...</td>\n",
       "      <td>34.0</td>\n",
       "      <td>3.5</td>\n",
       "      <td>1870.5</td>\n",
       "      <td>7.5</td>\n",
       "      <td>40.9</td>\n",
       "      <td>3.7</td>\n",
       "      <td>1778.5</td>\n",
       "      <td>7.5</td>\n",
       "      <td>26.0</td>\n",
       "      <td>908.1</td>\n",
       "    </tr>\n",
       "    <tr>\n",
       "      <th>P95</th>\n",
       "      <td>76.0</td>\n",
       "      <td>20.0</td>\n",
       "      <td>31.0</td>\n",
       "      <td>147.0</td>\n",
       "      <td>5.0</td>\n",
       "      <td>22.2</td>\n",
       "      <td>6.4</td>\n",
       "      <td>1.9</td>\n",
       "      <td>11.8</td>\n",
       "      <td>2.5</td>\n",
       "      <td>...</td>\n",
       "      <td>42.0</td>\n",
       "      <td>3.7</td>\n",
       "      <td>2455.3</td>\n",
       "      <td>7.8</td>\n",
       "      <td>51.3</td>\n",
       "      <td>3.9</td>\n",
       "      <td>2687.9</td>\n",
       "      <td>7.9</td>\n",
       "      <td>28.0</td>\n",
       "      <td>1145.1</td>\n",
       "    </tr>\n",
       "    <tr>\n",
       "      <th>P99</th>\n",
       "      <td>79.0</td>\n",
       "      <td>21.0</td>\n",
       "      <td>39.0</td>\n",
       "      <td>272.0</td>\n",
       "      <td>5.6</td>\n",
       "      <td>29.2</td>\n",
       "      <td>14.3</td>\n",
       "      <td>2.7</td>\n",
       "      <td>24.1</td>\n",
       "      <td>3.2</td>\n",
       "      <td>...</td>\n",
       "      <td>64.2</td>\n",
       "      <td>4.2</td>\n",
       "      <td>4010.4</td>\n",
       "      <td>8.3</td>\n",
       "      <td>78.3</td>\n",
       "      <td>4.4</td>\n",
       "      <td>4530.2</td>\n",
       "      <td>8.4</td>\n",
       "      <td>31.0</td>\n",
       "      <td>1760.1</td>\n",
       "    </tr>\n",
       "    <tr>\n",
       "      <th>MAX</th>\n",
       "      <td>79.0</td>\n",
       "      <td>23.0</td>\n",
       "      <td>52.0</td>\n",
       "      <td>1073.0</td>\n",
       "      <td>7.0</td>\n",
       "      <td>43.1</td>\n",
       "      <td>109.1</td>\n",
       "      <td>4.7</td>\n",
       "      <td>141.5</td>\n",
       "      <td>5.0</td>\n",
       "      <td>...</td>\n",
       "      <td>188.5</td>\n",
       "      <td>5.2</td>\n",
       "      <td>13705.0</td>\n",
       "      <td>9.5</td>\n",
       "      <td>186.2</td>\n",
       "      <td>5.2</td>\n",
       "      <td>12858.6</td>\n",
       "      <td>9.5</td>\n",
       "      <td>36.0</td>\n",
       "      <td>4881.0</td>\n",
       "    </tr>\n",
       "  </tbody>\n",
       "</table>\n",
       "<p>18 rows × 48 columns</p>\n",
       "</div>"
      ],
      "text/plain": [
       "             age       ed   employ    income    lninc  debtinc  creddebt  \\\n",
       "N         5000.0   5000.0   5000.0    5000.0   5000.0   5000.0    5000.0   \n",
       "NMISS        0.0      0.0      0.0       0.0      0.0      0.0       0.0   \n",
       "SUM     235128.0  72715.0  48652.0  273798.0  18499.5  49770.8    9286.6   \n",
       "MEAN        47.0     14.5      9.7      54.8      3.7     10.0       1.9   \n",
       "MEDIAN      47.0     14.0      7.0      38.0      3.6      8.8       0.9   \n",
       "STD         17.8      3.3      9.7      55.4      0.7      6.4       3.4   \n",
       "VAR        315.8     10.8     93.9    3066.7      0.6     41.0      11.7   \n",
       "MIN         18.0      6.0      0.0       9.0      2.2      0.0       0.0   \n",
       "P1          18.0      8.0      0.0       9.0      2.2      0.7       0.0   \n",
       "P5          20.0      9.0      0.0      13.0      2.6      1.9       0.1   \n",
       "P10         23.0     10.0      0.0      16.0      2.8      2.8       0.2   \n",
       "P25         31.0     12.0      2.0      24.0      3.2      5.1       0.4   \n",
       "P50         47.0     14.0      7.0      38.0      3.6      8.8       0.9   \n",
       "P75         62.0     17.0     15.0      67.0      4.2     13.6       2.1   \n",
       "P90         72.0     19.0     25.0     109.1      4.7     18.6       4.3   \n",
       "P95         76.0     20.0     31.0     147.0      5.0     22.2       6.4   \n",
       "P99         79.0     21.0     39.0     272.0      5.6     29.2      14.3   \n",
       "MAX         79.0     23.0     52.0    1073.0      7.0     43.1     109.1   \n",
       "\n",
       "        lncreddebt  othdebt  lnothdebt  ...  cardmon  lncardmon    cardten  \\\n",
       "N           5000.0   5000.0     5000.0  ...   5000.0     5000.0     5000.0   \n",
       "NMISS          0.0      0.0        0.0  ...      0.0        0.0        0.0   \n",
       "SUM         -652.3  18272.3     3484.6  ...  77219.2    14548.7  3602392.0   \n",
       "MEAN          -0.1      3.7        0.7  ...     15.4        2.9      720.5   \n",
       "MEDIAN        -0.1      2.1        0.7  ...     13.8        2.9      425.0   \n",
       "STD            1.3      5.4        1.1  ...     15.0        0.5      922.0   \n",
       "VAR            1.6     29.1        1.3  ...    225.2        0.2   850159.7   \n",
       "MIN           -6.6      0.0       -4.1  ...      0.0        1.2        0.0   \n",
       "P1            -3.4      0.1       -2.2  ...      0.0        1.7        0.0   \n",
       "P5            -2.3      0.3       -1.2  ...      0.0        2.1        0.0   \n",
       "P10           -1.7      0.5       -0.8  ...      0.0        2.3        0.0   \n",
       "P25           -1.0      1.0       -0.0  ...      0.0        2.7        0.0   \n",
       "P50           -0.1      2.1        0.7  ...     13.8        2.9      425.0   \n",
       "P75            0.7      4.3        1.5  ...     22.8        3.1     1080.0   \n",
       "P90            1.5      8.1        2.1  ...     34.0        3.5     1870.5   \n",
       "P95            1.9     11.8        2.5  ...     42.0        3.7     2455.3   \n",
       "P99            2.7     24.1        3.2  ...     64.2        4.2     4010.4   \n",
       "MAX            4.7    141.5        5.0  ...    188.5        5.2    13705.0   \n",
       "\n",
       "        lncardten  wiremon  lnwiremon    wireten  lnwireten  hourstv  \\\n",
       "N          5000.0   5000.0     5000.0     5000.0     5000.0   5000.0   \n",
       "NMISS         0.0      0.0        0.0        0.0        0.0      0.0   \n",
       "SUM       32131.5  53506.0    18025.0  2109923.1    34040.7  98225.0   \n",
       "MEAN          6.4     10.7        3.6      422.0        6.8     19.6   \n",
       "MEDIAN        6.4      0.0        3.6        0.0        6.8     20.0   \n",
       "STD           1.0     19.8        0.2     1001.0        0.7      5.2   \n",
       "VAR           1.0    392.0        0.0  1002007.6        0.4     26.7   \n",
       "MIN           1.6      0.0        2.5        0.0        2.5      0.0   \n",
       "P1            2.7      0.0        2.9        0.0        3.8      0.0   \n",
       "P5            4.5      0.0        3.2        0.0        5.7     12.0   \n",
       "P10           5.3      0.0        3.5        0.0        6.7     14.0   \n",
       "P25           6.2      0.0        3.6        0.0        6.8     17.0   \n",
       "P50           6.4      0.0        3.6        0.0        6.8     20.0   \n",
       "P75           7.0     21.0        3.6       90.0        6.8     23.0   \n",
       "P90           7.5     40.9        3.7     1778.5        7.5     26.0   \n",
       "P95           7.8     51.3        3.9     2687.9        7.9     28.0   \n",
       "P99           8.3     78.3        4.4     4530.2        8.4     31.0   \n",
       "MAX           9.5    186.2        5.2    12858.6        9.5     36.0   \n",
       "\n",
       "        total_spent  \n",
       "N            5000.0  \n",
       "NMISS           0.0  \n",
       "SUM       2490393.2  \n",
       "MEAN          498.1  \n",
       "MEDIAN        414.2  \n",
       "STD           351.5  \n",
       "VAR        123572.8  \n",
       "MIN             8.1  \n",
       "P1             58.2  \n",
       "P5            133.1  \n",
       "P10           184.0  \n",
       "P25           276.3  \n",
       "P50           414.2  \n",
       "P75           615.6  \n",
       "P90           908.1  \n",
       "P95          1145.1  \n",
       "P99          1760.1  \n",
       "MAX          4881.0  \n",
       "\n",
       "[18 rows x 48 columns]"
      ]
     },
     "execution_count": 33,
     "metadata": {},
     "output_type": "execute_result"
    }
   ],
   "source": [
    "cont_var.apply(continuous_var_summary).round(1)"
   ]
  },
  {
   "cell_type": "code",
   "execution_count": 34,
   "metadata": {},
   "outputs": [],
   "source": [
    "# creating dummies\n",
    "for c_feature in cat_var:\n",
    "    cat_var[c_feature]=cat_var[c_feature].astype('category')\n",
    "    cat_var=create_dummies(cat_var,c_feature)"
   ]
  },
  {
   "cell_type": "code",
   "execution_count": 35,
   "metadata": {},
   "outputs": [
    {
     "data": {
      "text/html": [
       "<div>\n",
       "<style scoped>\n",
       "    .dataframe tbody tr th:only-of-type {\n",
       "        vertical-align: middle;\n",
       "    }\n",
       "\n",
       "    .dataframe tbody tr th {\n",
       "        vertical-align: top;\n",
       "    }\n",
       "\n",
       "    .dataframe thead th {\n",
       "        text-align: right;\n",
       "    }\n",
       "</style>\n",
       "<table border=\"1\" class=\"dataframe\">\n",
       "  <thead>\n",
       "    <tr style=\"text-align: right;\">\n",
       "      <th></th>\n",
       "      <th>region_2</th>\n",
       "      <th>region_3</th>\n",
       "      <th>region_4</th>\n",
       "      <th>region_5</th>\n",
       "      <th>townsize_2.0</th>\n",
       "      <th>townsize_3.0</th>\n",
       "      <th>townsize_4.0</th>\n",
       "      <th>townsize_5.0</th>\n",
       "      <th>gender_1</th>\n",
       "      <th>birthmonth_August</th>\n",
       "      <th>...</th>\n",
       "      <th>owncd_1</th>\n",
       "      <th>ownpda_1</th>\n",
       "      <th>ownpc_1</th>\n",
       "      <th>ownipod_1</th>\n",
       "      <th>owngame_1</th>\n",
       "      <th>ownfax_1</th>\n",
       "      <th>news_1</th>\n",
       "      <th>response_01_1</th>\n",
       "      <th>response_02_1</th>\n",
       "      <th>response_03_1</th>\n",
       "    </tr>\n",
       "  </thead>\n",
       "  <tbody>\n",
       "    <tr>\n",
       "      <th>0</th>\n",
       "      <td>0</td>\n",
       "      <td>0</td>\n",
       "      <td>0</td>\n",
       "      <td>0</td>\n",
       "      <td>1</td>\n",
       "      <td>0</td>\n",
       "      <td>0</td>\n",
       "      <td>0</td>\n",
       "      <td>1</td>\n",
       "      <td>0</td>\n",
       "      <td>...</td>\n",
       "      <td>0</td>\n",
       "      <td>0</td>\n",
       "      <td>0</td>\n",
       "      <td>1</td>\n",
       "      <td>1</td>\n",
       "      <td>0</td>\n",
       "      <td>0</td>\n",
       "      <td>0</td>\n",
       "      <td>1</td>\n",
       "      <td>0</td>\n",
       "    </tr>\n",
       "    <tr>\n",
       "      <th>1</th>\n",
       "      <td>0</td>\n",
       "      <td>0</td>\n",
       "      <td>0</td>\n",
       "      <td>1</td>\n",
       "      <td>0</td>\n",
       "      <td>0</td>\n",
       "      <td>0</td>\n",
       "      <td>1</td>\n",
       "      <td>0</td>\n",
       "      <td>0</td>\n",
       "      <td>...</td>\n",
       "      <td>1</td>\n",
       "      <td>1</td>\n",
       "      <td>1</td>\n",
       "      <td>1</td>\n",
       "      <td>1</td>\n",
       "      <td>1</td>\n",
       "      <td>1</td>\n",
       "      <td>0</td>\n",
       "      <td>0</td>\n",
       "      <td>0</td>\n",
       "    </tr>\n",
       "    <tr>\n",
       "      <th>2</th>\n",
       "      <td>0</td>\n",
       "      <td>1</td>\n",
       "      <td>0</td>\n",
       "      <td>0</td>\n",
       "      <td>0</td>\n",
       "      <td>0</td>\n",
       "      <td>1</td>\n",
       "      <td>0</td>\n",
       "      <td>1</td>\n",
       "      <td>0</td>\n",
       "      <td>...</td>\n",
       "      <td>1</td>\n",
       "      <td>0</td>\n",
       "      <td>0</td>\n",
       "      <td>0</td>\n",
       "      <td>0</td>\n",
       "      <td>0</td>\n",
       "      <td>1</td>\n",
       "      <td>0</td>\n",
       "      <td>0</td>\n",
       "      <td>0</td>\n",
       "    </tr>\n",
       "    <tr>\n",
       "      <th>3</th>\n",
       "      <td>0</td>\n",
       "      <td>0</td>\n",
       "      <td>1</td>\n",
       "      <td>0</td>\n",
       "      <td>0</td>\n",
       "      <td>1</td>\n",
       "      <td>0</td>\n",
       "      <td>0</td>\n",
       "      <td>0</td>\n",
       "      <td>0</td>\n",
       "      <td>...</td>\n",
       "      <td>1</td>\n",
       "      <td>0</td>\n",
       "      <td>1</td>\n",
       "      <td>1</td>\n",
       "      <td>1</td>\n",
       "      <td>0</td>\n",
       "      <td>1</td>\n",
       "      <td>1</td>\n",
       "      <td>0</td>\n",
       "      <td>0</td>\n",
       "    </tr>\n",
       "    <tr>\n",
       "      <th>4</th>\n",
       "      <td>1</td>\n",
       "      <td>0</td>\n",
       "      <td>0</td>\n",
       "      <td>0</td>\n",
       "      <td>1</td>\n",
       "      <td>0</td>\n",
       "      <td>0</td>\n",
       "      <td>0</td>\n",
       "      <td>0</td>\n",
       "      <td>0</td>\n",
       "      <td>...</td>\n",
       "      <td>1</td>\n",
       "      <td>0</td>\n",
       "      <td>1</td>\n",
       "      <td>0</td>\n",
       "      <td>1</td>\n",
       "      <td>0</td>\n",
       "      <td>0</td>\n",
       "      <td>0</td>\n",
       "      <td>1</td>\n",
       "      <td>0</td>\n",
       "    </tr>\n",
       "  </tbody>\n",
       "</table>\n",
       "<p>5 rows × 143 columns</p>\n",
       "</div>"
      ],
      "text/plain": [
       "   region_2  region_3  region_4  region_5  townsize_2.0  townsize_3.0  \\\n",
       "0         0         0         0         0             1             0   \n",
       "1         0         0         0         1             0             0   \n",
       "2         0         1         0         0             0             0   \n",
       "3         0         0         1         0             0             1   \n",
       "4         1         0         0         0             1             0   \n",
       "\n",
       "   townsize_4.0  townsize_5.0  gender_1  birthmonth_August  ...  owncd_1  \\\n",
       "0             0             0         1                  0  ...        0   \n",
       "1             0             1         0                  0  ...        1   \n",
       "2             1             0         1                  0  ...        1   \n",
       "3             0             0         0                  0  ...        1   \n",
       "4             0             0         0                  0  ...        1   \n",
       "\n",
       "   ownpda_1  ownpc_1  ownipod_1  owngame_1  ownfax_1  news_1  response_01_1  \\\n",
       "0         0        0          1          1         0       0              0   \n",
       "1         1        1          1          1         1       1              0   \n",
       "2         0        0          0          0         0       1              0   \n",
       "3         0        1          1          1         0       1              1   \n",
       "4         0        1          0          1         0       0              0   \n",
       "\n",
       "   response_02_1  response_03_1  \n",
       "0              1              0  \n",
       "1              0              0  \n",
       "2              0              0  \n",
       "3              0              0  \n",
       "4              1              0  \n",
       "\n",
       "[5 rows x 143 columns]"
      ]
     },
     "execution_count": 35,
     "metadata": {},
     "output_type": "execute_result"
    }
   ],
   "source": [
    "cat_var.head()"
   ]
  },
  {
   "cell_type": "code",
   "execution_count": 36,
   "metadata": {},
   "outputs": [
    {
     "name": "stdout",
     "output_type": "stream",
     "text": [
      "['region_2', 'region_3', 'region_4', 'region_5', 'townsize_2.0', 'townsize_3.0', 'townsize_4.0', 'townsize_5.0', 'gender_1', 'birthmonth_August', 'birthmonth_December', 'birthmonth_February', 'birthmonth_January', 'birthmonth_July', 'birthmonth_June', 'birthmonth_March', 'birthmonth_May', 'birthmonth_November', 'birthmonth_October', 'birthmonth_September', 'jobcat_2', 'jobcat_3', 'jobcat_4', 'jobcat_5', 'jobcat_6', 'union_1', 'retire_1', 'default_1', 'jobsat_2', 'jobsat_3', 'jobsat_4', 'jobsat_5', 'marital_1', 'homeown_1', 'hometype_2', 'hometype_3', 'hometype_4', 'cars_1', 'cars_2', 'cars_3', 'cars_4', 'cars_5', 'cars_6', 'cars_7', 'cars_8', 'carown_0', 'carown_1', 'cartype_0', 'cartype_1', 'carbought_0', 'carbought_1', 'carbuy_1', 'commute_2', 'commute_3', 'commute_4', 'commute_5', 'commute_6', 'commute_7', 'commute_8', 'commute_9', 'commute_10', 'commutecat_2', 'commutecat_3', 'commutecat_4', 'commutecat_5', 'commutecar_1', 'commutemotorcycle_1', 'commutecarpool_1', 'commutebus_1', 'commuterail_1', 'commutepublic_1', 'commutebike_1', 'commutewalk_1', 'commutenonmotor_1', 'telecommute_1', 'reason_2', 'reason_3', 'reason_4', 'reason_9', 'polview_2', 'polview_3', 'polview_4', 'polview_5', 'polview_6', 'polview_7', 'polparty_1', 'polcontrib_1', 'vote_1', 'card_2', 'card_3', 'card_4', 'card_5', 'cardtype_2', 'cardtype_3', 'cardtype_4', 'cardbenefit_2', 'cardbenefit_3', 'cardbenefit_4', 'cardfee_1', 'card2_2', 'card2_3', 'card2_4', 'card2_5', 'card2type_2', 'card2type_3', 'card2type_4', 'card2benefit_2', 'card2benefit_3', 'card2benefit_4', 'card2fee_1', 'active_1', 'bfast_2', 'bfast_3', 'churn_1', 'tollfree_1', 'equip_1', 'callcard_1', 'wireless_1', 'multline_1', 'voice_1', 'pager_1', 'internet_1', 'internet_2', 'internet_3', 'internet_4', 'callid_1', 'callwait_1', 'forward_1', 'confer_1', 'ebill_1', 'owntv_1', 'ownvcr_1', 'owndvd_1', 'owncd_1', 'ownpda_1', 'ownpc_1', 'ownipod_1', 'owngame_1', 'ownfax_1', 'news_1', 'response_01_1', 'response_02_1', 'response_03_1']\n"
     ]
    }
   ],
   "source": [
    "print(list(cat_var.columns))"
   ]
  },
  {
   "cell_type": "code",
   "execution_count": 37,
   "metadata": {},
   "outputs": [
    {
     "data": {
      "text/plain": [
       "(5000, 111)"
      ]
     },
     "execution_count": 37,
     "metadata": {},
     "output_type": "execute_result"
    }
   ],
   "source": [
    "data.shape"
   ]
  },
  {
   "cell_type": "markdown",
   "metadata": {},
   "source": [
    "#### AFTER ALL THE TREATMENTS , COMBINING BOTH NUMERIC & OBJECT DATASET TOGHER FOR FINAL ANALYSIS"
   ]
  },
  {
   "cell_type": "code",
   "execution_count": 38,
   "metadata": {},
   "outputs": [],
   "source": [
    "data_new = pd.concat([cont_var, cat_var], axis = 1)"
   ]
  },
  {
   "cell_type": "code",
   "execution_count": 39,
   "metadata": {},
   "outputs": [
    {
     "data": {
      "text/html": [
       "<div>\n",
       "<style scoped>\n",
       "    .dataframe tbody tr th:only-of-type {\n",
       "        vertical-align: middle;\n",
       "    }\n",
       "\n",
       "    .dataframe tbody tr th {\n",
       "        vertical-align: top;\n",
       "    }\n",
       "\n",
       "    .dataframe thead th {\n",
       "        text-align: right;\n",
       "    }\n",
       "</style>\n",
       "<table border=\"1\" class=\"dataframe\">\n",
       "  <thead>\n",
       "    <tr style=\"text-align: right;\">\n",
       "      <th></th>\n",
       "      <th>age</th>\n",
       "      <th>ed</th>\n",
       "      <th>employ</th>\n",
       "      <th>income</th>\n",
       "      <th>lninc</th>\n",
       "      <th>debtinc</th>\n",
       "      <th>creddebt</th>\n",
       "      <th>lncreddebt</th>\n",
       "      <th>othdebt</th>\n",
       "      <th>lnothdebt</th>\n",
       "      <th>...</th>\n",
       "      <th>owncd_1</th>\n",
       "      <th>ownpda_1</th>\n",
       "      <th>ownpc_1</th>\n",
       "      <th>ownipod_1</th>\n",
       "      <th>owngame_1</th>\n",
       "      <th>ownfax_1</th>\n",
       "      <th>news_1</th>\n",
       "      <th>response_01_1</th>\n",
       "      <th>response_02_1</th>\n",
       "      <th>response_03_1</th>\n",
       "    </tr>\n",
       "  </thead>\n",
       "  <tbody>\n",
       "    <tr>\n",
       "      <th>0</th>\n",
       "      <td>20</td>\n",
       "      <td>15</td>\n",
       "      <td>0</td>\n",
       "      <td>31</td>\n",
       "      <td>3.433987</td>\n",
       "      <td>11.1</td>\n",
       "      <td>1.200909</td>\n",
       "      <td>0.183079</td>\n",
       "      <td>2.240091</td>\n",
       "      <td>0.806516</td>\n",
       "      <td>...</td>\n",
       "      <td>0</td>\n",
       "      <td>0</td>\n",
       "      <td>0</td>\n",
       "      <td>1</td>\n",
       "      <td>1</td>\n",
       "      <td>0</td>\n",
       "      <td>0</td>\n",
       "      <td>0</td>\n",
       "      <td>1</td>\n",
       "      <td>0</td>\n",
       "    </tr>\n",
       "    <tr>\n",
       "      <th>1</th>\n",
       "      <td>22</td>\n",
       "      <td>17</td>\n",
       "      <td>0</td>\n",
       "      <td>15</td>\n",
       "      <td>2.708050</td>\n",
       "      <td>18.6</td>\n",
       "      <td>1.222020</td>\n",
       "      <td>0.200505</td>\n",
       "      <td>1.567980</td>\n",
       "      <td>0.449788</td>\n",
       "      <td>...</td>\n",
       "      <td>1</td>\n",
       "      <td>1</td>\n",
       "      <td>1</td>\n",
       "      <td>1</td>\n",
       "      <td>1</td>\n",
       "      <td>1</td>\n",
       "      <td>1</td>\n",
       "      <td>0</td>\n",
       "      <td>0</td>\n",
       "      <td>0</td>\n",
       "    </tr>\n",
       "  </tbody>\n",
       "</table>\n",
       "<p>2 rows × 191 columns</p>\n",
       "</div>"
      ],
      "text/plain": [
       "   age  ed  employ  income     lninc  debtinc  creddebt  lncreddebt   othdebt  \\\n",
       "0   20  15       0      31  3.433987     11.1  1.200909    0.183079  2.240091   \n",
       "1   22  17       0      15  2.708050     18.6  1.222020    0.200505  1.567980   \n",
       "\n",
       "   lnothdebt  ...  owncd_1  ownpda_1  ownpc_1  ownipod_1  owngame_1  ownfax_1  \\\n",
       "0   0.806516  ...        0         0        0          1          1         0   \n",
       "1   0.449788  ...        1         1        1          1          1         1   \n",
       "\n",
       "   news_1  response_01_1  response_02_1  response_03_1  \n",
       "0       0              0              1              0  \n",
       "1       1              0              0              0  \n",
       "\n",
       "[2 rows x 191 columns]"
      ]
     },
     "execution_count": 39,
     "metadata": {},
     "output_type": "execute_result"
    }
   ],
   "source": [
    "data_new.head(2)"
   ]
  },
  {
   "cell_type": "code",
   "execution_count": 40,
   "metadata": {},
   "outputs": [
    {
     "name": "stdout",
     "output_type": "stream",
     "text": [
      "<class 'pandas.core.frame.DataFrame'>\n",
      "RangeIndex: 5000 entries, 0 to 4999\n",
      "Columns: 191 entries, age to response_03_1\n",
      "dtypes: float64(29), int64(19), uint8(143)\n",
      "memory usage: 2.5 MB\n"
     ]
    }
   ],
   "source": [
    "data_new.info()"
   ]
  },
  {
   "cell_type": "code",
   "execution_count": 41,
   "metadata": {},
   "outputs": [
    {
     "data": {
      "text/plain": [
       "0"
      ]
     },
     "execution_count": 41,
     "metadata": {},
     "output_type": "execute_result"
    }
   ],
   "source": [
    "# checking for missing\n",
    "sum(data_new.isna().sum())"
   ]
  },
  {
   "cell_type": "markdown",
   "metadata": {},
   "source": [
    "## Assumption check"
   ]
  },
  {
   "cell_type": "code",
   "execution_count": 42,
   "metadata": {},
   "outputs": [
    {
     "data": {
      "image/png": "[encoded data removed]",
      "text/plain": [
       "<Figure size 432x288 with 1 Axes>"
      ]
     },
     "metadata": {
      "needs_background": "light"
     },
     "output_type": "display_data"
    }
   ],
   "source": [
    "# Distribution of variables\n",
    "sns.distplot(data_new.total_spent)\n",
    "plt.show()\n",
    "# this distribution is highly skewed"
   ]
  },
  {
   "cell_type": "code",
   "execution_count": 43,
   "metadata": {},
   "outputs": [
    {
     "data": {
      "image/png": "[encoded data removed]",
      "text/plain": [
       "<Figure size 432x288 with 1 Axes>"
      ]
     },
     "metadata": {
      "needs_background": "light"
     },
     "output_type": "display_data"
    }
   ],
   "source": [
    "# applying log transformation: log is rescalling the data and making the distribution normal\n",
    "data_new['ln_total_spent'] = np.log(data_new['total_spent'])\n",
    "# Distribution of variables\n",
    "sns.distplot(data_new.ln_total_spent)\n",
    "plt.show()"
   ]
  },
  {
   "cell_type": "code",
   "execution_count": 44,
   "metadata": {},
   "outputs": [
    {
     "data": {
      "text/plain": [
       "2.707546987697521"
      ]
     },
     "execution_count": 44,
     "metadata": {},
     "output_type": "execute_result"
    }
   ],
   "source": [
    "data_new.total_spent.skew()"
   ]
  },
  {
   "cell_type": "code",
   "execution_count": 45,
   "metadata": {},
   "outputs": [
    {
     "data": {
      "text/plain": [
       "-0.539836787814146"
      ]
     },
     "execution_count": 45,
     "metadata": {},
     "output_type": "execute_result"
    }
   ],
   "source": [
    "data_new.ln_total_spent.skew()"
   ]
  },
  {
   "cell_type": "code",
   "execution_count": 46,
   "metadata": {},
   "outputs": [
    {
     "data": {
      "text/plain": [
       "(5000, 192)"
      ]
     },
     "execution_count": 46,
     "metadata": {},
     "output_type": "execute_result"
    }
   ],
   "source": [
    "data_new.shape"
   ]
  },
  {
   "cell_type": "code",
   "execution_count": 48,
   "metadata": {},
   "outputs": [],
   "source": [
    "# Linearity: correlation matrix (ranges from 1 to -1)\n",
    "corrm = data_new.corr()\n"
   ]
  },
  {
   "cell_type": "code",
   "execution_count": 49,
   "metadata": {},
   "outputs": [
    {
     "data": {
      "text/plain": [
       "<matplotlib.axes._subplots.AxesSubplot at 0x12ae1148>"
      ]
     },
     "execution_count": 49,
     "metadata": {},
     "output_type": "execute_result"
    },
    {
     "data": {
      "image/png": "[encoded data removed]",
      "text/plain": [
       "<Figure size 720x576 with 2 Axes>"
      ]
     },
     "metadata": {
      "needs_background": "light"
     },
     "output_type": "display_data"
    }
   ],
   "source": [
    "plt.figure(figsize = (10, 8))\n",
    "sns.heatmap(data_new.corr())"
   ]
  },
  {
   "cell_type": "markdown",
   "metadata": {},
   "source": [
    "### Variable reducton"
   ]
  },
  {
   "cell_type": "code",
   "execution_count": 50,
   "metadata": {},
   "outputs": [],
   "source": [
    "#Selecting features\n",
    "feature_columns = data_new.columns.difference(['ln_total_spent', 'total_spent'])\n",
    "features_x = data_new[feature_columns]\n",
    "target_y = data_new.ln_total_spent"
   ]
  },
  {
   "cell_type": "code",
   "execution_count": 51,
   "metadata": {},
   "outputs": [],
   "source": [
    "#RFE"
   ]
  },
  {
   "cell_type": "code",
   "execution_count": 52,
   "metadata": {},
   "outputs": [],
   "source": [
    "from sklearn.feature_selection import RFE\n",
    "from sklearn.linear_model import LinearRegression\n",
    "\n",
    "#import itertools\n",
    "\n",
    "#Checking RFE \n",
    "\n",
    "lm = LinearRegression()\n",
    "#create the RFE model and select 30 attributes\n",
    "rfe = RFE(lm, n_features_to_select=30)\n",
    "rfe = rfe.fit(features_x, target_y)\n"
   ]
  },
  {
   "cell_type": "markdown",
   "metadata": {},
   "source": [
    "### F-Regressiom"
   ]
  },
  {
   "cell_type": "code",
   "execution_count": 53,
   "metadata": {},
   "outputs": [
    {
     "name": "stdout",
     "output_type": "stream",
     "text": [
      "['address', 'bfast_2', 'bfast_3', 'callid_1', 'callwait_1', 'card2_2', 'card2_3', 'card2_4', 'card2_5', 'card2benefit_3', 'card2tenure', 'card_2', 'card_3', 'card_4', 'card_5', 'cardtenure', 'carown_0', 'carown_1', 'cars_1', 'cartype_0', 'carvalue', 'commute_4', 'commutebike_1', 'confer_1', 'creddebt', 'ebill_1', 'ed', 'employ', 'equip_1', 'equipmon', 'equipten', 'forward_1', 'gender_1', 'homeown_1', 'hometype_2', 'hometype_3', 'hourstv', 'income', 'internet_3', 'internet_4', 'jobcat_2', 'jobcat_3', 'jobsat_4', 'jobsat_5', 'lncardten', 'lncreddebt', 'lnequipmon', 'lnequipten', 'lninc', 'lnlongmon', 'lnlongten', 'lnothdebt', 'lntollmon', 'lntollten', 'lnwiremon', 'lnwireten', 'longmon', 'longten', 'multline_1', 'news_1', 'othdebt', 'owncd_1', 'owndvd_1', 'ownfax_1', 'owngame_1', 'ownipod_1', 'ownpc_1', 'ownpda_1', 'owntv_1', 'ownvcr_1', 'pager_1', 'pets_reptiles', 'polcontrib_1', 'polview_6', 'reason_2', 'reason_3', 'reason_4', 'region_5', 'response_02_1', 'response_03_1', 'retire_1', 'spoused', 'tenure', 'tollfree_1', 'tollmon', 'tollten', 'voice_1', 'vote_1', 'wireless_1', 'wiremon', 'wireten']\n"
     ]
    }
   ],
   "source": [
    "\n",
    "# perform the ftest for each of X varibales with y\n",
    "F_values, p_values  = f_regression( features_x, target_y )\n",
    "\n",
    "# store the data as a dataframe\n",
    "F_Regression_output = pd.DataFrame([feature_columns, F_values, p_values.round(4)]).T\n",
    "\n",
    "# rename the columns\n",
    "F_Regression_output.columns = ['Features', 'F_values', 'p_values']\n",
    "\n",
    "# Get the significant variables are 90% : p = 0.1\n",
    "feature_columns = list(F_Regression_output.loc[ F_Regression_output.p_values <= 0.1, 'Features' ])\n",
    "\n",
    "# display all significant variables after f_regression\n",
    "print(feature_columns)"
   ]
  },
  {
   "cell_type": "markdown",
   "metadata": {},
   "source": [
    "### VIF (Variance Inflation Factor): Check the multicollinieirity for all the variables in the model"
   ]
  },
  {
   "cell_type": "code",
   "execution_count": 54,
   "metadata": {},
   "outputs": [
    {
     "data": {
      "text/plain": [
       "'ln_total_spent ~ address + bfast_2 + bfast_3 + callid_1 + callwait_1 + card2_2 + card2_3 + card2_4 + card2_5 + card2benefit_3 + card2tenure + card_2 + card_3 + card_4 + card_5 + cardtenure + carown_0 + carown_1 + cars_1 + cartype_0 + carvalue + commute_4 + commutebike_1 + confer_1 + creddebt + ebill_1 + ed + employ + equip_1 + equipmon + equipten + forward_1 + gender_1 + homeown_1 + hometype_2 + hometype_3 + hourstv + income + internet_3 + internet_4 + jobcat_2 + jobcat_3 + jobsat_4 + jobsat_5 + lncardten + lncreddebt + lnequipmon + lnequipten + lninc + lnlongmon + lnlongten + lnothdebt + lntollmon + lntollten + lnwiremon + lnwireten + longmon + longten + multline_1 + news_1 + othdebt + owncd_1 + owndvd_1 + ownfax_1 + owngame_1 + ownipod_1 + ownpc_1 + ownpda_1 + owntv_1 + ownvcr_1 + pager_1 + pets_reptiles + polcontrib_1 + polview_6 + reason_2 + reason_3 + reason_4 + region_5 + response_02_1 + response_03_1 + retire_1 + spoused + tenure + tollfree_1 + tollmon + tollten + voice_1 + vote_1 + wireless_1 + wiremon + wireten'"
      ]
     },
     "execution_count": 54,
     "metadata": {},
     "output_type": "execute_result"
    }
   ],
   "source": [
    "model_param = 'ln_total_spent ~ ' + ' + '.join(feature_columns)\n",
    "model_param"
   ]
  },
  {
   "cell_type": "code",
   "execution_count": 55,
   "metadata": {},
   "outputs": [
    {
     "data": {
      "text/html": [
       "<div>\n",
       "<style scoped>\n",
       "    .dataframe tbody tr th:only-of-type {\n",
       "        vertical-align: middle;\n",
       "    }\n",
       "\n",
       "    .dataframe tbody tr th {\n",
       "        vertical-align: top;\n",
       "    }\n",
       "\n",
       "    .dataframe thead th {\n",
       "        text-align: right;\n",
       "    }\n",
       "</style>\n",
       "<table border=\"1\" class=\"dataframe\">\n",
       "  <thead>\n",
       "    <tr style=\"text-align: right;\">\n",
       "      <th></th>\n",
       "      <th>Features</th>\n",
       "      <th>VIF_Factor</th>\n",
       "    </tr>\n",
       "  </thead>\n",
       "  <tbody>\n",
       "    <tr>\n",
       "      <th>0</th>\n",
       "      <td>Intercept</td>\n",
       "      <td>19674.6</td>\n",
       "    </tr>\n",
       "    <tr>\n",
       "      <th>1</th>\n",
       "      <td>address</td>\n",
       "      <td>2.9</td>\n",
       "    </tr>\n",
       "    <tr>\n",
       "      <th>2</th>\n",
       "      <td>bfast_2</td>\n",
       "      <td>1.9</td>\n",
       "    </tr>\n",
       "    <tr>\n",
       "      <th>3</th>\n",
       "      <td>bfast_3</td>\n",
       "      <td>1.5</td>\n",
       "    </tr>\n",
       "    <tr>\n",
       "      <th>4</th>\n",
       "      <td>callid_1</td>\n",
       "      <td>2.2</td>\n",
       "    </tr>\n",
       "    <tr>\n",
       "      <th>...</th>\n",
       "      <td>...</td>\n",
       "      <td>...</td>\n",
       "    </tr>\n",
       "    <tr>\n",
       "      <th>87</th>\n",
       "      <td>voice_1</td>\n",
       "      <td>2.2</td>\n",
       "    </tr>\n",
       "    <tr>\n",
       "      <th>88</th>\n",
       "      <td>vote_1</td>\n",
       "      <td>1.1</td>\n",
       "    </tr>\n",
       "    <tr>\n",
       "      <th>89</th>\n",
       "      <td>wireless_1</td>\n",
       "      <td>84.5</td>\n",
       "    </tr>\n",
       "    <tr>\n",
       "      <th>90</th>\n",
       "      <td>wiremon</td>\n",
       "      <td>150.6</td>\n",
       "    </tr>\n",
       "    <tr>\n",
       "      <th>91</th>\n",
       "      <td>wireten</td>\n",
       "      <td>25.9</td>\n",
       "    </tr>\n",
       "  </tbody>\n",
       "</table>\n",
       "<p>92 rows × 2 columns</p>\n",
       "</div>"
      ],
      "text/plain": [
       "      Features  VIF_Factor\n",
       "0    Intercept     19674.6\n",
       "1      address         2.9\n",
       "2      bfast_2         1.9\n",
       "3      bfast_3         1.5\n",
       "4     callid_1         2.2\n",
       "..         ...         ...\n",
       "87     voice_1         2.2\n",
       "88      vote_1         1.1\n",
       "89  wireless_1        84.5\n",
       "90     wiremon       150.6\n",
       "91     wireten        25.9\n",
       "\n",
       "[92 rows x 2 columns]"
      ]
     },
     "execution_count": 55,
     "metadata": {},
     "output_type": "execute_result"
    }
   ],
   "source": [
    "# High VIF of the variable means information in that variable has already been explained by \n",
    "# other X variables present in the model\n",
    "\n",
    "# import the packages for vif\n",
    "from statsmodels.stats.outliers_influence import variance_inflation_factor\n",
    "from patsy import dmatrices\n",
    "\n",
    "# separate the Y and X variables\n",
    "y, X = dmatrices(model_param, data_new, return_type = 'dataframe')\n",
    "\n",
    "# For each X, calculate VIF and save in dataframe\n",
    "vif = pd.DataFrame()\n",
    "vif['Features'] = X.columns\n",
    "vif['VIF_Factor'] = [variance_inflation_factor(X.values, i) for i in range(X.shape[1])]\n",
    "\n",
    "# display the output\n",
    "vif.round(1)"
   ]
  },
  {
   "cell_type": "code",
   "execution_count": 56,
   "metadata": {},
   "outputs": [
    {
     "data": {
      "text/plain": [
       "1           bfast_2\n",
       "2           bfast_3\n",
       "3          callid_1\n",
       "4        callwait_1\n",
       "5           card2_2\n",
       "          ...      \n",
       "58    response_03_1\n",
       "59         retire_1\n",
       "60          spoused\n",
       "61          voice_1\n",
       "62           vote_1\n",
       "Name: Features, Length: 62, dtype: object"
      ]
     },
     "execution_count": 56,
     "metadata": {},
     "output_type": "execute_result"
    }
   ],
   "source": [
    "vif1=vif[vif['VIF_Factor']<4].reset_index().loc[:,['Features']]\n",
    "vif1.drop([0],axis=0,inplace=True)\n",
    "f_cols= vif1[\"Features\"]\n",
    "f_cols"
   ]
  },
  {
   "cell_type": "code",
   "execution_count": 57,
   "metadata": {},
   "outputs": [
    {
     "name": "stdout",
     "output_type": "stream",
     "text": [
      "['bfast_2', 'bfast_3', 'callid_1', 'callwait_1', 'card2_2', 'card2_3', 'card2_4', 'card2_5', 'card2benefit_3', 'card_2', 'card_3', 'card_4', 'card_5', 'carown_0', 'cars_1', 'cartype_0', 'commute_4', 'commutebike_1', 'confer_1', 'creddebt', 'ebill_1', 'ed', 'forward_1', 'gender_1', 'homeown_1', 'hometype_2', 'hometype_3', 'hourstv', 'internet_3', 'internet_4', 'jobcat_2', 'jobcat_3', 'jobsat_4', 'jobsat_5', 'lncardten', 'lncreddebt', 'lnothdebt', 'multline_1', 'news_1', 'owncd_1', 'owndvd_1', 'ownfax_1', 'owngame_1', 'ownipod_1', 'ownpc_1', 'ownpda_1', 'owntv_1', 'ownvcr_1', 'pager_1', 'pets_reptiles', 'polcontrib_1', 'polview_6', 'reason_2', 'reason_3', 'reason_4', 'region_5', 'response_02_1', 'response_03_1', 'retire_1', 'spoused', 'voice_1', 'vote_1']\n"
     ]
    }
   ],
   "source": [
    "print(list(f_cols))"
   ]
  },
  {
   "cell_type": "markdown",
   "metadata": {},
   "source": [
    "# Train & Test"
   ]
  },
  {
   "cell_type": "code",
   "execution_count": 58,
   "metadata": {},
   "outputs": [],
   "source": [
    "#For Statistical modelling\n",
    "train, test = train_test_split(data_new, test_size = 0.3, random_state = 123)"
   ]
  },
  {
   "cell_type": "markdown",
   "metadata": {},
   "source": [
    "# Modeling"
   ]
  },
  {
   "cell_type": "code",
   "execution_count": 59,
   "metadata": {},
   "outputs": [],
   "source": [
    "model_param1 = 'ln_total_spent ~ ' + ' + '.join(f_cols)"
   ]
  },
  {
   "cell_type": "code",
   "execution_count": 60,
   "metadata": {},
   "outputs": [],
   "source": [
    "#Building model\n",
    "model1 = smf.ols(formula = model_param1, data = train).fit()"
   ]
  },
  {
   "cell_type": "code",
   "execution_count": 61,
   "metadata": {},
   "outputs": [
    {
     "name": "stdout",
     "output_type": "stream",
     "text": [
      "                 Results: Ordinary least squares\n",
      "==================================================================\n",
      "Model:              OLS              Adj. R-squared:     0.297    \n",
      "Dependent Variable: ln_total_spent   AIC:                6101.2509\n",
      "Date:               2021-06-16 09:46 BIC:                6489.3636\n",
      "No. Observations:   3500             Log-Likelihood:     -2987.6  \n",
      "Df Model:           62               F-statistic:        24.90    \n",
      "Df Residuals:       3437             Prob (F-statistic): 4.61e-228\n",
      "R-squared:          0.310            Scale:              0.32874  \n",
      "------------------------------------------------------------------\n",
      "                   Coef.  Std.Err.    t     P>|t|   [0.025  0.975]\n",
      "------------------------------------------------------------------\n",
      "Intercept          6.6142   0.1305  50.7004 0.0000  6.3584  6.8700\n",
      "bfast_2            0.0179   0.0275   0.6522 0.5143 -0.0360  0.0719\n",
      "bfast_3            0.0213   0.0240   0.8907 0.3732 -0.0256  0.0683\n",
      "callid_1          -0.0142   0.0284  -0.5009 0.6165 -0.0700  0.0415\n",
      "callwait_1         0.0314   0.0278   1.1303 0.2584 -0.0231  0.0859\n",
      "card2_2           -0.4176   0.0319 -13.0803 0.0000 -0.4802 -0.3550\n",
      "card2_3           -0.3981   0.0318 -12.5199 0.0000 -0.4604 -0.3357\n",
      "card2_4           -0.4268   0.0348 -12.2590 0.0000 -0.4951 -0.3586\n",
      "card2_5           -0.2882   0.0458  -6.2957 0.0000 -0.3780 -0.1985\n",
      "card2benefit_3    -0.0655   0.0225  -2.9123 0.0036 -0.1096 -0.0214\n",
      "card_2            -0.6147   0.0320 -19.1928 0.0000 -0.6775 -0.5519\n",
      "card_3            -0.6356   0.0321 -19.7785 0.0000 -0.6986 -0.5726\n",
      "card_4            -0.7098   0.0329 -21.6019 0.0000 -0.7742 -0.6454\n",
      "card_5            -0.5474   0.0534 -10.2523 0.0000 -0.6521 -0.4427\n",
      "carown_0          -0.0805   0.0287  -2.8065 0.0050 -0.1367 -0.0243\n",
      "cars_1            -0.0179   0.0241  -0.7451 0.4563 -0.0651  0.0293\n",
      "cartype_0         -0.0164   0.0197  -0.8340 0.4043 -0.0549  0.0221\n",
      "commute_4         -0.0242   0.0301  -0.8056 0.4206 -0.0833  0.0348\n",
      "commutebike_1     -0.0530   0.0300  -1.7644 0.0778 -0.1119  0.0059\n",
      "confer_1          -0.0122   0.0288  -0.4245 0.6712 -0.0686  0.0442\n",
      "creddebt           0.0164   0.0047   3.5050 0.0005  0.0072  0.0256\n",
      "ebill_1           -0.0285   0.0271  -1.0519 0.2929 -0.0816  0.0246\n",
      "ed                -0.0022   0.0038  -0.5802 0.5618 -0.0097  0.0053\n",
      "forward_1          0.0277   0.0280   0.9903 0.3221 -0.0272  0.0826\n",
      "gender_1          -0.0395   0.0197  -2.0080 0.0447 -0.0781 -0.0009\n",
      "homeown_1         -0.0215   0.0297  -0.7228 0.4698 -0.0797  0.0368\n",
      "hometype_2        -0.0405   0.0315  -1.2872 0.1981 -0.1022  0.0212\n",
      "hometype_3         0.0196   0.0270   0.7249 0.4686 -0.0334  0.0726\n",
      "hourstv            0.0029   0.0022   1.3009 0.1934 -0.0014  0.0072\n",
      "internet_3         0.1091   0.0333   3.2784 0.0011  0.0439  0.1744\n",
      "internet_4         0.1226   0.0358   3.4259 0.0006  0.0525  0.1928\n",
      "jobcat_2          -0.0356   0.0223  -1.5967 0.1104 -0.0793  0.0081\n",
      "jobcat_3           0.0335   0.0305   1.1011 0.2709 -0.0262  0.0932\n",
      "jobsat_4           0.0260   0.0255   1.0171 0.3092 -0.0241  0.0760\n",
      "jobsat_5           0.0257   0.0278   0.9228 0.3562 -0.0288  0.0802\n",
      "lncardten          0.0009   0.0117   0.0763 0.9391 -0.0221  0.0239\n",
      "lncreddebt         0.0255   0.0126   2.0265 0.0428  0.0008  0.0501\n",
      "lnothdebt          0.0595   0.0124   4.8054 0.0000  0.0352  0.0838\n",
      "multline_1         0.0021   0.0236   0.0892 0.9290 -0.0442  0.0484\n",
      "news_1             0.0399   0.0223   1.7909 0.0734 -0.0038  0.0835\n",
      "owncd_1            0.1455   0.0500   2.9120 0.0036  0.0475  0.2434\n",
      "owndvd_1           0.1376   0.0435   3.1608 0.0016  0.0523  0.2230\n",
      "ownfax_1           0.0258   0.0324   0.7962 0.4260 -0.0377  0.0892\n",
      "owngame_1         -0.0227   0.0237  -0.9569 0.3387 -0.0692  0.0238\n",
      "ownipod_1          0.0127   0.0232   0.5469 0.5845 -0.0327  0.0581\n",
      "ownpc_1           -0.0175   0.0256  -0.6825 0.4950 -0.0677  0.0328\n",
      "ownpda_1           0.0174   0.0309   0.5645 0.5724 -0.0431  0.0780\n",
      "owntv_1           -0.1149   0.0987  -1.1636 0.2447 -0.3084  0.0787\n",
      "ownvcr_1           0.0265   0.0448   0.5929 0.5533 -0.0612  0.1143\n",
      "pager_1            0.0067   0.0322   0.2084 0.8349 -0.0565  0.0699\n",
      "pets_reptiles      0.0511   0.0284   1.7990 0.0721 -0.0046  0.1068\n",
      "polcontrib_1      -0.0026   0.0231  -0.1133 0.9098 -0.0478  0.0426\n",
      "polview_6          0.0298   0.0266   1.1199 0.2628 -0.0224  0.0820\n",
      "reason_2           0.2646   0.0402   6.5783 0.0000  0.1857  0.3435\n",
      "reason_3          -0.0094   0.0879  -0.1071 0.9147 -0.1817  0.1629\n",
      "reason_4          -0.1006   0.0720  -1.3982 0.1621 -0.2418  0.0405\n",
      "region_5           0.0565   0.0242   2.3403 0.0193  0.0092  0.1039\n",
      "response_02_1     -0.0281   0.0294  -0.9538 0.3402 -0.0858  0.0296\n",
      "response_03_1      0.0351   0.0330   1.0662 0.2864 -0.0295  0.0998\n",
      "retire_1          -0.2585   0.0346  -7.4678 0.0000 -0.3263 -0.1906\n",
      "spoused           -0.0001   0.0013  -0.0958 0.9237 -0.0027  0.0024\n",
      "voice_1           -0.0444   0.0298  -1.4885 0.1367 -0.1029  0.0141\n",
      "vote_1             0.0269   0.0199   1.3548 0.1756 -0.0120  0.0658\n",
      "------------------------------------------------------------------\n",
      "Omnibus:             307.796       Durbin-Watson:          1.971  \n",
      "Prob(Omnibus):       0.000         Jarque-Bera (JB):       614.055\n",
      "Skew:                -0.582        Prob(JB):               0.000  \n",
      "Kurtosis:            4.690         Condition No.:          401    \n",
      "==================================================================\n",
      "\n"
     ]
    }
   ],
   "source": [
    "print(model1.summary2())"
   ]
  },
  {
   "cell_type": "code",
   "execution_count": null,
   "metadata": {},
   "outputs": [],
   "source": []
  },
  {
   "cell_type": "raw",
   "metadata": {},
   "source": [
    "Removing insignificant variables based on p-value > 0.05 from model summary - \n",
    "'commutebike_1','bfast_2','callid_1 ','cars_1','cartype_0 ','commute_4 ','commutebike_1 ','confer_1  ','bfast_3 ', 'wireless_1', 'pager_1', 'owncd_1', 'polview_6', 'forward_1', 'bfast_3', 'ownpc_1', 'reason_3', 'ebill_1','pager_1','polview_4 ','polview_6', 'polcontrib_1', 'cartype_0', 'ownipod_1', 'multline_1', 'bfast_2', 'commute_4', 'reason_3 ','reason_4', 'response_03_1', 'hometype_3', 'jobcat_2', 'owndvd_1', 'response_02_1', 'owngame_1', 'jobcat_3', 'confer_1','ownpda_1','ownpc_1 ','ownfax_1', 'ownvcr_1', 'owntv_1', 'tollfree_1', 'retire_1', 'news_1', 'carown_0','jobsat_4', 'jobsat_5', 'carown_1','vote_1', 'voice_1', 'lncreddebt','ebill_1','ed ','forward_1','homeown_1','hometype_2','hometype_3  ','hourstv', 'lncardten ','spoused ','lncreddebt ','owncd_1','callwait_1 ',' creddebt',' carown_0 ','cardten',"
   ]
  },
  {
   "cell_type": "markdown",
   "metadata": {},
   "source": [
    "# Final Model"
   ]
  },
  {
   "cell_type": "code",
   "execution_count": 62,
   "metadata": {},
   "outputs": [],
   "source": [
    "#Final model formula\n",
    "model_param2 = '''ln_total_spent ~ card2benefit_3 + card2_5 + reason_2 + internet_4 + lninc + card_2 + card_5 + region_5\n",
    "+ card2_2 + card_4 + card2_4 + card2benefit_3 + card2_3 + card_3 + gender_1 + internet_3 '''"
   ]
  },
  {
   "cell_type": "code",
   "execution_count": 63,
   "metadata": {},
   "outputs": [],
   "source": [
    "#building model with final model formula\n",
    "model2 = smf.ols(formula = model_param2, data = train).fit()"
   ]
  },
  {
   "cell_type": "code",
   "execution_count": 64,
   "metadata": {},
   "outputs": [
    {
     "name": "stdout",
     "output_type": "stream",
     "text": [
      "                            OLS Regression Results                            \n",
      "==============================================================================\n",
      "Dep. Variable:         ln_total_spent   R-squared:                       0.338\n",
      "Model:                            OLS   Adj. R-squared:                  0.335\n",
      "Method:                 Least Squares   F-statistic:                     118.5\n",
      "Date:                Wed, 16 Jun 2021   Prob (F-statistic):          5.86e-298\n",
      "Time:                        09:46:14   Log-Likelihood:                -2915.1\n",
      "No. Observations:                3500   AIC:                             5862.\n",
      "Df Residuals:                    3484   BIC:                             5961.\n",
      "Df Model:                          15                                         \n",
      "Covariance Type:            nonrobust                                         \n",
      "==================================================================================\n",
      "                     coef    std err          t      P>|t|      [0.025      0.975]\n",
      "----------------------------------------------------------------------------------\n",
      "Intercept          5.5057      0.063     87.605      0.000       5.382       5.629\n",
      "card2benefit_3    -0.0615      0.022     -2.826      0.005      -0.104      -0.019\n",
      "card2_5           -0.2708      0.044     -6.180      0.000      -0.357      -0.185\n",
      "reason_2           0.2691      0.039      6.930      0.000       0.193       0.345\n",
      "internet_4         0.0736      0.030      2.450      0.014       0.015       0.132\n",
      "lninc              0.3557      0.013     27.240      0.000       0.330       0.381\n",
      "card_2            -0.5822      0.031    -18.894      0.000      -0.643      -0.522\n",
      "card_5            -0.4870      0.051     -9.517      0.000      -0.587      -0.387\n",
      "region_5           0.0483      0.023      2.082      0.037       0.003       0.094\n",
      "card2_2           -0.4010      0.031    -13.031      0.000      -0.461      -0.341\n",
      "card_4            -0.7270      0.032    -22.873      0.000      -0.789      -0.665\n",
      "card2_4           -0.4337      0.034    -12.884      0.000      -0.500      -0.368\n",
      "card2_3           -0.3789      0.031    -12.382      0.000      -0.439      -0.319\n",
      "card_3            -0.6032      0.031    -19.502      0.000      -0.664      -0.543\n",
      "gender_1          -0.0474      0.019     -2.496      0.013      -0.085      -0.010\n",
      "internet_3         0.0829      0.030      2.809      0.005       0.025       0.141\n",
      "==============================================================================\n",
      "Omnibus:                      367.393   Durbin-Watson:                   1.956\n",
      "Prob(Omnibus):                  0.000   Jarque-Bera (JB):              806.319\n",
      "Skew:                          -0.645   Prob(JB):                    8.13e-176\n",
      "Kurtosis:                       4.966   Cond. No.                         33.2\n",
      "==============================================================================\n",
      "\n",
      "Warnings:\n",
      "[1] Standard Errors assume that the covariance matrix of the errors is correctly specified.\n"
     ]
    }
   ],
   "source": [
    "print(model2.summary())"
   ]
  },
  {
   "cell_type": "markdown",
   "metadata": {},
   "source": [
    "## Prediction"
   ]
  },
  {
   "cell_type": "code",
   "execution_count": 65,
   "metadata": {},
   "outputs": [
    {
     "name": "stdout",
     "output_type": "stream",
     "text": [
      "Training MAPE:  0.5283244104112956  |  Testing MAPE: 0.4825508810095084\n"
     ]
    },
    {
     "name": "stderr",
     "output_type": "stream",
     "text": [
      "C:\\Users\\prabhu\\anaconda3\\lib\\site-packages\\pandas\\core\\indexing.py:1597: SettingWithCopyWarning: \n",
      "A value is trying to be set on a copy of a slice from a DataFrame.\n",
      "Try using .loc[row_indexer,col_indexer] = value instead\n",
      "\n",
      "See the caveats in the documentation: https://pandas.pydata.org/pandas-docs/stable/user_guide/indexing.html#returning-a-view-versus-a-copy\n",
      "  self.obj[key] = value\n",
      "C:\\Users\\prabhu\\anaconda3\\lib\\site-packages\\pandas\\core\\indexing.py:1676: SettingWithCopyWarning: \n",
      "A value is trying to be set on a copy of a slice from a DataFrame.\n",
      "Try using .loc[row_indexer,col_indexer] = value instead\n",
      "\n",
      "See the caveats in the documentation: https://pandas.pydata.org/pandas-docs/stable/user_guide/indexing.html#returning-a-view-versus-a-copy\n",
      "  self._setitem_single_column(ilocs[0], value, pi)\n"
     ]
    }
   ],
   "source": [
    "#Predicting total spent on train and test dataset\n",
    "train.loc[:,'lr_pred_spent'] = np.exp(model2.predict(train))\n",
    "test.loc[:,'lr_pred_spent'] = np.exp(model2.predict(test))\n",
    "\n",
    "#Getting Mean Absolute Percentage Error - MAPE\n",
    "MAPE_train = np.mean(np.abs(train['total_spent'] - train['lr_pred_spent'])/train['total_spent'])\n",
    "MAPE_test = np.mean(np.abs(test['total_spent'] - test['lr_pred_spent'])/test['total_spent'])\n",
    "\n",
    "print('Training MAPE: ',MAPE_train,' | ','Testing MAPE:' ,MAPE_test)"
   ]
  },
  {
   "cell_type": "code",
   "execution_count": 66,
   "metadata": {},
   "outputs": [
    {
     "name": "stdout",
     "output_type": "stream",
     "text": [
      "Training MSE:  88238.34746849354  |  Testing MSE: 83062.06677600392\n"
     ]
    }
   ],
   "source": [
    "#Getting Mean Squared Error Metric - MSE\n",
    "MSE_train = metrics.mean_squared_error(train.total_spent, train.lr_pred_spent)\n",
    "MSE_test = metrics.mean_squared_error(test.total_spent, test.lr_pred_spent)\n",
    "\n",
    "print('Training MSE: ',MSE_train,' | ','Testing MSE:' ,MSE_test)\n"
   ]
  },
  {
   "cell_type": "code",
   "execution_count": 67,
   "metadata": {},
   "outputs": [
    {
     "name": "stdout",
     "output_type": "stream",
     "text": [
      "Training RMSE:  297.0494024038654  |  Testing RMSE: 288.20490414981475\n"
     ]
    }
   ],
   "source": [
    "#Getting Root Mean Squared Error - RMSE\n",
    "RMSE_train = np.sqrt(MSE_train)\n",
    "RMSE_test = np.sqrt(MSE_test)\n",
    "print('Training RMSE: ',RMSE_train,' | ','Testing RMSE:' ,RMSE_test)"
   ]
  },
  {
   "cell_type": "code",
   "execution_count": null,
   "metadata": {},
   "outputs": [],
   "source": []
  },
  {
   "cell_type": "code",
   "execution_count": 68,
   "metadata": {},
   "outputs": [
    {
     "name": "stdout",
     "output_type": "stream",
     "text": [
      "Training MAE:  193.70951836844375  |  Testing MAE: 191.62672594666375\n"
     ]
    }
   ],
   "source": [
    "#Getting Mean Absolute Error Metric - MAE\n",
    "MAE_train = metrics.mean_absolute_error(train.total_spent, train.lr_pred_spent)\n",
    "MAE_test = metrics.mean_absolute_error(test.total_spent, test.lr_pred_spent)\n",
    "\n",
    "print('Training MAE: ',MAE_train,' | ','Testing MAE:' ,MAE_test)"
   ]
  },
  {
   "cell_type": "code",
   "execution_count": 69,
   "metadata": {},
   "outputs": [
    {
     "name": "stdout",
     "output_type": "stream",
     "text": [
      "Training RMSPE: 1.256724647391825  |  Testing RMSPE: 1.1605402983045152\n"
     ]
    }
   ],
   "source": [
    "#Getting Root Mean Squared Percentage Error - RMSPE\n",
    "RMSPE_train = np.sqrt(np.mean(((train['total_spent'] - train['lr_pred_spent'])/train['total_spent'])**2))\n",
    "RMSPE_test = np.sqrt(np.mean(((test['total_spent'] - test['lr_pred_spent'])/test['total_spent'])**2))\n",
    "\n",
    "print('Training RMSPE:', RMSPE_train,' | ','Testing RMSPE:', RMSPE_test)"
   ]
  },
  {
   "cell_type": "code",
   "execution_count": 70,
   "metadata": {},
   "outputs": [
    {
     "name": "stdout",
     "output_type": "stream",
     "text": [
      "Correlation - Train Data:  (0.5815105351067776, 7.3879717e-316) | Test Data:  (0.5563587769867827, 1.2166942623817954e-122)\n"
     ]
    }
   ],
   "source": [
    "#Correlation between actual and predicted values\n",
    "Corr_train = stats.stats.pearsonr(train.total_spent, train.lr_pred_spent)\n",
    "Corr_test = stats.stats.pearsonr(test.total_spent, test.lr_pred_spent)\n",
    "\n",
    "print('Correlation - Train Data: ', Corr_train, '|', 'Test Data: ', Corr_test)"
   ]
  },
  {
   "cell_type": "code",
   "execution_count": null,
   "metadata": {},
   "outputs": [],
   "source": []
  },
  {
   "cell_type": "markdown",
   "metadata": {},
   "source": [
    "## Decile Analysis"
   ]
  },
  {
   "cell_type": "code",
   "execution_count": 71,
   "metadata": {},
   "outputs": [
    {
     "name": "stderr",
     "output_type": "stream",
     "text": [
      "C:\\Users\\prabhu\\anaconda3\\lib\\site-packages\\pandas\\core\\indexing.py:1597: SettingWithCopyWarning: \n",
      "A value is trying to be set on a copy of a slice from a DataFrame.\n",
      "Try using .loc[row_indexer,col_indexer] = value instead\n",
      "\n",
      "See the caveats in the documentation: https://pandas.pydata.org/pandas-docs/stable/user_guide/indexing.html#returning-a-view-versus-a-copy\n",
      "  self.obj[key] = value\n",
      "C:\\Users\\prabhu\\anaconda3\\lib\\site-packages\\pandas\\core\\indexing.py:1676: SettingWithCopyWarning: \n",
      "A value is trying to be set on a copy of a slice from a DataFrame.\n",
      "Try using .loc[row_indexer,col_indexer] = value instead\n",
      "\n",
      "See the caveats in the documentation: https://pandas.pydata.org/pandas-docs/stable/user_guide/indexing.html#returning-a-view-versus-a-copy\n",
      "  self._setitem_single_column(ilocs[0], value, pi)\n",
      "C:\\Users\\prabhu\\anaconda3\\lib\\site-packages\\pandas\\core\\indexing.py:1597: SettingWithCopyWarning: \n",
      "A value is trying to be set on a copy of a slice from a DataFrame.\n",
      "Try using .loc[row_indexer,col_indexer] = value instead\n",
      "\n",
      "See the caveats in the documentation: https://pandas.pydata.org/pandas-docs/stable/user_guide/indexing.html#returning-a-view-versus-a-copy\n",
      "  self.obj[key] = value\n",
      "C:\\Users\\prabhu\\anaconda3\\lib\\site-packages\\pandas\\core\\indexing.py:1676: SettingWithCopyWarning: \n",
      "A value is trying to be set on a copy of a slice from a DataFrame.\n",
      "Try using .loc[row_indexer,col_indexer] = value instead\n",
      "\n",
      "See the caveats in the documentation: https://pandas.pydata.org/pandas-docs/stable/user_guide/indexing.html#returning-a-view-versus-a-copy\n",
      "  self._setitem_single_column(ilocs[0], value, pi)\n"
     ]
    }
   ],
   "source": [
    "\n",
    "#Creating Deciles\n",
    "train.loc[:,'Deciles'] = pd.qcut(train.lr_pred_spent, 10, labels = False)\n",
    "test.loc[:,'Deciles'] = pd.qcut(test.lr_pred_spent, 10, labels = False)\n",
    "\n",
    "#Summarizing the data by deciles on train and test dataset\n",
    "decile_train = train.groupby(['Deciles'])[['total_spent','lr_pred_spent']].mean().reset_index().sort_values(by = 'Deciles', ascending = False)\n",
    "decile_test = test.groupby(['Deciles'])[['total_spent','lr_pred_spent']].mean().reset_index().sort_values(by = 'Deciles', ascending = False)"
   ]
  },
  {
   "cell_type": "code",
   "execution_count": 72,
   "metadata": {},
   "outputs": [
    {
     "data": {
      "text/html": [
       "<div>\n",
       "<style scoped>\n",
       "    .dataframe tbody tr th:only-of-type {\n",
       "        vertical-align: middle;\n",
       "    }\n",
       "\n",
       "    .dataframe tbody tr th {\n",
       "        vertical-align: top;\n",
       "    }\n",
       "\n",
       "    .dataframe thead th {\n",
       "        text-align: right;\n",
       "    }\n",
       "</style>\n",
       "<table border=\"1\" class=\"dataframe\">\n",
       "  <thead>\n",
       "    <tr style=\"text-align: right;\">\n",
       "      <th></th>\n",
       "      <th>Deciles</th>\n",
       "      <th>total_spent</th>\n",
       "      <th>lr_pred_spent</th>\n",
       "    </tr>\n",
       "  </thead>\n",
       "  <tbody>\n",
       "    <tr>\n",
       "      <th>9</th>\n",
       "      <td>9</td>\n",
       "      <td>961.381114</td>\n",
       "      <td>871.461184</td>\n",
       "    </tr>\n",
       "    <tr>\n",
       "      <th>8</th>\n",
       "      <td>8</td>\n",
       "      <td>708.957686</td>\n",
       "      <td>619.766924</td>\n",
       "    </tr>\n",
       "    <tr>\n",
       "      <th>7</th>\n",
       "      <td>7</td>\n",
       "      <td>582.161143</td>\n",
       "      <td>519.154012</td>\n",
       "    </tr>\n",
       "    <tr>\n",
       "      <th>6</th>\n",
       "      <td>6</td>\n",
       "      <td>521.867600</td>\n",
       "      <td>454.713377</td>\n",
       "    </tr>\n",
       "    <tr>\n",
       "      <th>5</th>\n",
       "      <td>5</td>\n",
       "      <td>462.687200</td>\n",
       "      <td>403.431408</td>\n",
       "    </tr>\n",
       "    <tr>\n",
       "      <th>4</th>\n",
       "      <td>4</td>\n",
       "      <td>414.689086</td>\n",
       "      <td>362.230259</td>\n",
       "    </tr>\n",
       "    <tr>\n",
       "      <th>3</th>\n",
       "      <td>3</td>\n",
       "      <td>382.150200</td>\n",
       "      <td>326.400555</td>\n",
       "    </tr>\n",
       "    <tr>\n",
       "      <th>2</th>\n",
       "      <td>2</td>\n",
       "      <td>350.292000</td>\n",
       "      <td>295.210770</td>\n",
       "    </tr>\n",
       "    <tr>\n",
       "      <th>1</th>\n",
       "      <td>1</td>\n",
       "      <td>312.295543</td>\n",
       "      <td>265.122330</td>\n",
       "    </tr>\n",
       "    <tr>\n",
       "      <th>0</th>\n",
       "      <td>0</td>\n",
       "      <td>259.076057</td>\n",
       "      <td>220.407169</td>\n",
       "    </tr>\n",
       "  </tbody>\n",
       "</table>\n",
       "</div>"
      ],
      "text/plain": [
       "   Deciles  total_spent  lr_pred_spent\n",
       "9        9   961.381114     871.461184\n",
       "8        8   708.957686     619.766924\n",
       "7        7   582.161143     519.154012\n",
       "6        6   521.867600     454.713377\n",
       "5        5   462.687200     403.431408\n",
       "4        4   414.689086     362.230259\n",
       "3        3   382.150200     326.400555\n",
       "2        2   350.292000     295.210770\n",
       "1        1   312.295543     265.122330\n",
       "0        0   259.076057     220.407169"
      ]
     },
     "execution_count": 72,
     "metadata": {},
     "output_type": "execute_result"
    }
   ],
   "source": [
    "decile_train"
   ]
  },
  {
   "cell_type": "code",
   "execution_count": 73,
   "metadata": {},
   "outputs": [
    {
     "data": {
      "text/html": [
       "<div>\n",
       "<style scoped>\n",
       "    .dataframe tbody tr th:only-of-type {\n",
       "        vertical-align: middle;\n",
       "    }\n",
       "\n",
       "    .dataframe tbody tr th {\n",
       "        vertical-align: top;\n",
       "    }\n",
       "\n",
       "    .dataframe thead th {\n",
       "        text-align: right;\n",
       "    }\n",
       "</style>\n",
       "<table border=\"1\" class=\"dataframe\">\n",
       "  <thead>\n",
       "    <tr style=\"text-align: right;\">\n",
       "      <th></th>\n",
       "      <th>Deciles</th>\n",
       "      <th>total_spent</th>\n",
       "      <th>lr_pred_spent</th>\n",
       "    </tr>\n",
       "  </thead>\n",
       "  <tbody>\n",
       "    <tr>\n",
       "      <th>9</th>\n",
       "      <td>9</td>\n",
       "      <td>892.308667</td>\n",
       "      <td>869.983469</td>\n",
       "    </tr>\n",
       "    <tr>\n",
       "      <th>8</th>\n",
       "      <td>8</td>\n",
       "      <td>736.497067</td>\n",
       "      <td>632.206257</td>\n",
       "    </tr>\n",
       "    <tr>\n",
       "      <th>7</th>\n",
       "      <td>7</td>\n",
       "      <td>586.554533</td>\n",
       "      <td>532.280466</td>\n",
       "    </tr>\n",
       "    <tr>\n",
       "      <th>6</th>\n",
       "      <td>6</td>\n",
       "      <td>537.862333</td>\n",
       "      <td>467.701683</td>\n",
       "    </tr>\n",
       "    <tr>\n",
       "      <th>5</th>\n",
       "      <td>5</td>\n",
       "      <td>476.590867</td>\n",
       "      <td>416.126199</td>\n",
       "    </tr>\n",
       "    <tr>\n",
       "      <th>4</th>\n",
       "      <td>4</td>\n",
       "      <td>463.243400</td>\n",
       "      <td>370.207625</td>\n",
       "    </tr>\n",
       "    <tr>\n",
       "      <th>3</th>\n",
       "      <td>3</td>\n",
       "      <td>384.985267</td>\n",
       "      <td>331.519302</td>\n",
       "    </tr>\n",
       "    <tr>\n",
       "      <th>2</th>\n",
       "      <td>2</td>\n",
       "      <td>369.023133</td>\n",
       "      <td>301.647223</td>\n",
       "    </tr>\n",
       "    <tr>\n",
       "      <th>1</th>\n",
       "      <td>1</td>\n",
       "      <td>319.799000</td>\n",
       "      <td>271.337081</td>\n",
       "    </tr>\n",
       "    <tr>\n",
       "      <th>0</th>\n",
       "      <td>0</td>\n",
       "      <td>272.788933</td>\n",
       "      <td>223.247359</td>\n",
       "    </tr>\n",
       "  </tbody>\n",
       "</table>\n",
       "</div>"
      ],
      "text/plain": [
       "   Deciles  total_spent  lr_pred_spent\n",
       "9        9   892.308667     869.983469\n",
       "8        8   736.497067     632.206257\n",
       "7        7   586.554533     532.280466\n",
       "6        6   537.862333     467.701683\n",
       "5        5   476.590867     416.126199\n",
       "4        4   463.243400     370.207625\n",
       "3        3   384.985267     331.519302\n",
       "2        2   369.023133     301.647223\n",
       "1        1   319.799000     271.337081\n",
       "0        0   272.788933     223.247359"
      ]
     },
     "execution_count": 73,
     "metadata": {},
     "output_type": "execute_result"
    }
   ],
   "source": [
    "decile_test"
   ]
  },
  {
   "cell_type": "markdown",
   "metadata": {},
   "source": [
    "### Residual Analysis"
   ]
  },
  {
   "cell_type": "code",
   "execution_count": 74,
   "metadata": {},
   "outputs": [
    {
     "data": {
      "image/png": "[encoded data removed]",
      "text/plain": [
       "<Figure size 432x288 with 1 Axes>"
      ]
     },
     "metadata": {
      "needs_background": "light"
     },
     "output_type": "display_data"
    }
   ],
   "source": [
    "#True vs Predicted plot\n",
    "sns.scatterplot(x = train.total_spent, y = train.lr_pred_spent)\n",
    "plt.show()"
   ]
  },
  {
   "cell_type": "code",
   "execution_count": 75,
   "metadata": {},
   "outputs": [
    {
     "data": {
      "image/png": "[encoded data removed]",
      "text/plain": [
       "<Figure size 432x288 with 1 Axes>"
      ]
     },
     "metadata": {
      "needs_background": "light"
     },
     "output_type": "display_data"
    }
   ],
   "source": [
    "#Assumption: Regression model is linear\n",
    "sns.regplot(x = train.income, y = train.lr_pred_spent)\n",
    "plt.show()"
   ]
  },
  {
   "cell_type": "code",
   "execution_count": 76,
   "metadata": {},
   "outputs": [
    {
     "data": {
      "text/plain": [
       "6.889726884245257e-16"
      ]
     },
     "execution_count": 76,
     "metadata": {},
     "output_type": "execute_result"
    }
   ],
   "source": [
    "#Assumption: Mean of Residuals is zero\n",
    "model2.resid.mean()"
   ]
  },
  {
   "cell_type": "code",
   "execution_count": 77,
   "metadata": {},
   "outputs": [
    {
     "data": {
      "image/png": "[encoded data removed]",
      "text/plain": [
       "<Figure size 432x288 with 1 Axes>"
      ]
     },
     "metadata": {
      "needs_background": "light"
     },
     "output_type": "display_data"
    }
   ],
   "source": [
    "#Assumption: Homoscedasticity of residuals\n",
    "sns.scatterplot(x = model2.resid, y = train.lr_pred_spent)\n",
    "plt.show()"
   ]
  },
  {
   "cell_type": "code",
   "execution_count": 78,
   "metadata": {},
   "outputs": [
    {
     "data": {
      "image/png": "[encoded data removed]",
      "text/plain": [
       "<Figure size 432x288 with 1 Axes>"
      ]
     },
     "metadata": {
      "needs_background": "light"
     },
     "output_type": "display_data"
    }
   ],
   "source": [
    "#Assumption: Normality of Residuals\n",
    "sns.distplot(model2.resid)\n",
    "plt.show()"
   ]
  },
  {
   "cell_type": "code",
   "execution_count": 79,
   "metadata": {},
   "outputs": [
    {
     "data": {
      "image/png": "[encoded data removed]",
      "text/plain": [
       "<Figure size 432x288 with 1 Axes>"
      ]
     },
     "metadata": {
      "needs_background": "light"
     },
     "output_type": "display_data"
    }
   ],
   "source": [
    "#Q-Q plot of Residuals\n",
    "stats.probplot(model2.resid, dist='norm', plot=pylab)\n",
    "pylab.show()"
   ]
  },
  {
   "cell_type": "code",
   "execution_count": 80,
   "metadata": {},
   "outputs": [
    {
     "name": "stdout",
     "output_type": "stream",
     "text": [
      "(-0.007892946858002379, 0.6406476214178125)\n"
     ]
    }
   ],
   "source": [
    "#assumption: residuals/errors of the model should not be correlated with dependant (Y) variable\n",
    "print(stats.stats.pearsonr(model2.resid, train.lr_pred_spent))"
   ]
  },
  {
   "cell_type": "code",
   "execution_count": 81,
   "metadata": {},
   "outputs": [
    {
     "data": {
      "text/plain": [
       "<matplotlib.axes._subplots.AxesSubplot at 0x158f1508>"
      ]
     },
     "execution_count": 81,
     "metadata": {},
     "output_type": "execute_result"
    },
    {
     "data": {
      "image/png": "[encoded data removed]",
      "text/plain": [
       "<Figure size 432x288 with 1 Axes>"
      ]
     },
     "metadata": {
      "needs_background": "light"
     },
     "output_type": "display_data"
    }
   ],
   "source": [
    "sns.regplot(x=model2.resid, y=train.lr_pred_spent)"
   ]
  },
  {
   "cell_type": "code",
   "execution_count": 82,
   "metadata": {},
   "outputs": [],
   "source": [
    "#Getting final features\n",
    "X_cols = model2.pvalues.index.difference(['Intercept'])\n",
    "X = data_new[X_cols]\n",
    "Y = data_new.ln_total_spent"
   ]
  },
  {
   "cell_type": "code",
   "execution_count": 84,
   "metadata": {},
   "outputs": [
    {
     "data": {
      "image/png": "[encoded data removed]",
      "text/plain": [
       "<Figure size 432x288 with 1 Axes>"
      ]
     },
     "metadata": {
      "needs_background": "light"
     },
     "output_type": "display_data"
    }
   ],
   "source": [
    "#Getting importance of factors\n",
    "lr_fi = pd.DataFrame({'Features' : model2.tvalues[1:].index,\n",
    "                      'T_value' : model2.tvalues[1:]\n",
    "                     }).sort_values(by = 'T_value').reset_index(drop = True)\n",
    "\n",
    "plt.barh(width = lr_fi.T_value, y = lr_fi.Features)\n",
    "plt.show()"
   ]
  },
  {
   "cell_type": "markdown",
   "metadata": {},
   "source": [
    "#### Getting Train and Test dataset for Machine Learning modelling"
   ]
  },
  {
   "cell_type": "code",
   "execution_count": 85,
   "metadata": {},
   "outputs": [],
   "source": [
    "train_x, test_x, train_y, test_y = train_test_split(X, Y, test_size = 0.3, random_state = 123)"
   ]
  },
  {
   "cell_type": "markdown",
   "metadata": {},
   "source": [
    "### KNN Model"
   ]
  },
  {
   "cell_type": "code",
   "execution_count": 86,
   "metadata": {},
   "outputs": [],
   "source": [
    "#Getting parameters for best fit using GridSeachCV\n",
    "pg = {'n_neighbors' : range(10,25,1)\n",
    "              }\n",
    "\n",
    "gscv_knn = GridSearchCV(estimator = KNeighborsRegressor(), \n",
    "                     param_grid = pg,\n",
    "                     scoring = 'neg_mean_absolute_error',\n",
    "                     cv = 14,\n",
    "                     n_jobs = -1).fit(train_x, train_y)"
   ]
  },
  {
   "cell_type": "code",
   "execution_count": 87,
   "metadata": {},
   "outputs": [
    {
     "data": {
      "text/plain": [
       "{'n_neighbors': 23}"
      ]
     },
     "execution_count": 87,
     "metadata": {},
     "output_type": "execute_result"
    }
   ],
   "source": [
    "#Best fit Parameters\n",
    "gscv_knn.best_params_"
   ]
  },
  {
   "cell_type": "code",
   "execution_count": 88,
   "metadata": {},
   "outputs": [
    {
     "data": {
      "text/plain": [
       "0.45246007803928373"
      ]
     },
     "execution_count": 88,
     "metadata": {},
     "output_type": "execute_result"
    }
   ],
   "source": [
    "#Best Score\n",
    "-1 * gscv_knn.best_score_"
   ]
  },
  {
   "cell_type": "code",
   "execution_count": 89,
   "metadata": {},
   "outputs": [
    {
     "name": "stderr",
     "output_type": "stream",
     "text": [
      "C:\\Users\\prabhu\\anaconda3\\lib\\site-packages\\pandas\\core\\indexing.py:1597: SettingWithCopyWarning: \n",
      "A value is trying to be set on a copy of a slice from a DataFrame.\n",
      "Try using .loc[row_indexer,col_indexer] = value instead\n",
      "\n",
      "See the caveats in the documentation: https://pandas.pydata.org/pandas-docs/stable/user_guide/indexing.html#returning-a-view-versus-a-copy\n",
      "  self.obj[key] = value\n",
      "C:\\Users\\prabhu\\anaconda3\\lib\\site-packages\\pandas\\core\\indexing.py:1676: SettingWithCopyWarning: \n",
      "A value is trying to be set on a copy of a slice from a DataFrame.\n",
      "Try using .loc[row_indexer,col_indexer] = value instead\n",
      "\n",
      "See the caveats in the documentation: https://pandas.pydata.org/pandas-docs/stable/user_guide/indexing.html#returning-a-view-versus-a-copy\n",
      "  self._setitem_single_column(ilocs[0], value, pi)\n"
     ]
    },
    {
     "name": "stdout",
     "output_type": "stream",
     "text": [
      "R-square Score: 0.23216920945400332\n",
      "Training MAPE: 0.5198265511704533  |  Testing MAPE: 0.49393987990781474\n"
     ]
    },
    {
     "name": "stderr",
     "output_type": "stream",
     "text": [
      "C:\\Users\\prabhu\\anaconda3\\lib\\site-packages\\pandas\\core\\indexing.py:1597: SettingWithCopyWarning: \n",
      "A value is trying to be set on a copy of a slice from a DataFrame.\n",
      "Try using .loc[row_indexer,col_indexer] = value instead\n",
      "\n",
      "See the caveats in the documentation: https://pandas.pydata.org/pandas-docs/stable/user_guide/indexing.html#returning-a-view-versus-a-copy\n",
      "  self.obj[key] = value\n",
      "C:\\Users\\prabhu\\anaconda3\\lib\\site-packages\\pandas\\core\\indexing.py:1676: SettingWithCopyWarning: \n",
      "A value is trying to be set on a copy of a slice from a DataFrame.\n",
      "Try using .loc[row_indexer,col_indexer] = value instead\n",
      "\n",
      "See the caveats in the documentation: https://pandas.pydata.org/pandas-docs/stable/user_guide/indexing.html#returning-a-view-versus-a-copy\n",
      "  self._setitem_single_column(ilocs[0], value, pi)\n"
     ]
    }
   ],
   "source": [
    "#Using best fit parameters to fit the model\n",
    "knn = gscv_knn.best_estimator_\n",
    "\n",
    "#Predicting total spent on train and test dataset\n",
    "train.loc[:, 'knn_pred_spent'] = np.exp(knn.predict(train_x))\n",
    "test.loc[:, 'knn_pred_spent'] = np.exp(knn.predict(test_x))\n",
    "\n",
    "#R-square Score\n",
    "knn_r2 = metrics.r2_score(train.total_spent, train.knn_pred_spent)\n",
    "\n",
    "print('R-square Score:', knn_r2)\n",
    "\n",
    "#Getting Mean Absolute Percentage Error - MAPE\n",
    "knn_MAPE_train = np.mean(np.abs(train['total_spent'] - train['knn_pred_spent'])/train['total_spent'])\n",
    "knn_MAPE_test = np.mean(np.abs(test['total_spent'] - test['knn_pred_spent'])/test['total_spent'])\n",
    "                    \n",
    "print('Training MAPE:',knn_MAPE_train,' | ','Testing MAPE:',knn_MAPE_test)"
   ]
  },
  {
   "cell_type": "code",
   "execution_count": 90,
   "metadata": {},
   "outputs": [
    {
     "name": "stdout",
     "output_type": "stream",
     "text": [
      "Training MSE:  97779.8776674606  |  Testing MSE: 94856.58448750258\n",
      "Training RMSE:  312.6977417050859  |  Testing RMSE: 307.9879615950964\n"
     ]
    }
   ],
   "source": [
    "#Getting Mean Squared Error Metric - MSE\n",
    "MSE_train = metrics.mean_squared_error(train.total_spent, train.knn_pred_spent)\n",
    "MSE_test = metrics.mean_squared_error(test.total_spent, test.knn_pred_spent)\n",
    "\n",
    "#Getting Root Mean Squared Error - RMSE\n",
    "knn_RMSE_train = np.sqrt(MSE_train)\n",
    "knn_RMSE_test = np.sqrt(MSE_test)\n",
    "\n",
    "print('Training MSE: ',MSE_train,' | ','Testing MSE:' ,MSE_test)\n",
    "print('Training RMSE: ',knn_RMSE_train,' | ','Testing RMSE:' ,knn_RMSE_test)"
   ]
  },
  {
   "cell_type": "code",
   "execution_count": 91,
   "metadata": {},
   "outputs": [
    {
     "name": "stdout",
     "output_type": "stream",
     "text": [
      "Training MAE:  196.98475810116642  |  Testing MAE: 198.8471594052109\n"
     ]
    }
   ],
   "source": [
    "#Getting Mean Absolute Error Metric - MAE\n",
    "MAE_train = metrics.mean_absolute_error(train.total_spent, train.knn_pred_spent)\n",
    "MAE_test = metrics.mean_absolute_error(test.total_spent, test.knn_pred_spent)\n",
    "\n",
    "print('Training MAE: ',MAE_train,' | ','Testing MAE:' ,MAE_test)"
   ]
  },
  {
   "cell_type": "code",
   "execution_count": 92,
   "metadata": {},
   "outputs": [
    {
     "name": "stdout",
     "output_type": "stream",
     "text": [
      "Training RMSPE: 1.209855846349058  |  Testing RMSPE: 1.257639497690552\n"
     ]
    }
   ],
   "source": [
    "#Getting Root Mean Squared Percentage Error - RMSPE\n",
    "knn_RMSPE_train = np.sqrt(np.mean(((train['total_spent'] - train['knn_pred_spent'])/train['total_spent'])**2))\n",
    "knn_RMSPE_test = np.sqrt(np.mean(((test['total_spent'] - test['knn_pred_spent'])/test['total_spent'])**2))\n",
    "\n",
    "print('Training RMSPE:', knn_RMSPE_train,' | ','Testing RMSPE:', knn_RMSPE_test)"
   ]
  },
  {
   "cell_type": "code",
   "execution_count": 93,
   "metadata": {},
   "outputs": [
    {
     "name": "stdout",
     "output_type": "stream",
     "text": [
      "Correlation - Train Data:  (0.5637417247306198, 7.673149532685991e-293) | Test Data:  (0.5045694668599862, 1.081960811544911e-97)\n"
     ]
    }
   ],
   "source": [
    "#Correlation between actual and predicted values\n",
    "Corr_train = stats.stats.pearsonr(train.total_spent, train.knn_pred_spent)\n",
    "Corr_test = stats.stats.pearsonr(test.total_spent, test.knn_pred_spent)\n",
    "\n",
    "print('Correlation - Train Data: ', Corr_train, '|', 'Test Data: ', Corr_test)"
   ]
  },
  {
   "cell_type": "code",
   "execution_count": 94,
   "metadata": {},
   "outputs": [
    {
     "name": "stderr",
     "output_type": "stream",
     "text": [
      "C:\\Users\\prabhu\\anaconda3\\lib\\site-packages\\pandas\\core\\indexing.py:1597: SettingWithCopyWarning: \n",
      "A value is trying to be set on a copy of a slice from a DataFrame.\n",
      "Try using .loc[row_indexer,col_indexer] = value instead\n",
      "\n",
      "See the caveats in the documentation: https://pandas.pydata.org/pandas-docs/stable/user_guide/indexing.html#returning-a-view-versus-a-copy\n",
      "  self.obj[key] = value\n",
      "C:\\Users\\prabhu\\anaconda3\\lib\\site-packages\\pandas\\core\\indexing.py:1676: SettingWithCopyWarning: \n",
      "A value is trying to be set on a copy of a slice from a DataFrame.\n",
      "Try using .loc[row_indexer,col_indexer] = value instead\n",
      "\n",
      "See the caveats in the documentation: https://pandas.pydata.org/pandas-docs/stable/user_guide/indexing.html#returning-a-view-versus-a-copy\n",
      "  self._setitem_single_column(ilocs[0], value, pi)\n",
      "C:\\Users\\prabhu\\anaconda3\\lib\\site-packages\\pandas\\core\\indexing.py:1597: SettingWithCopyWarning: \n",
      "A value is trying to be set on a copy of a slice from a DataFrame.\n",
      "Try using .loc[row_indexer,col_indexer] = value instead\n",
      "\n",
      "See the caveats in the documentation: https://pandas.pydata.org/pandas-docs/stable/user_guide/indexing.html#returning-a-view-versus-a-copy\n",
      "  self.obj[key] = value\n",
      "C:\\Users\\prabhu\\anaconda3\\lib\\site-packages\\pandas\\core\\indexing.py:1676: SettingWithCopyWarning: \n",
      "A value is trying to be set on a copy of a slice from a DataFrame.\n",
      "Try using .loc[row_indexer,col_indexer] = value instead\n",
      "\n",
      "See the caveats in the documentation: https://pandas.pydata.org/pandas-docs/stable/user_guide/indexing.html#returning-a-view-versus-a-copy\n",
      "  self._setitem_single_column(ilocs[0], value, pi)\n"
     ]
    }
   ],
   "source": [
    "#Decile Analysis\n",
    "#Creating Deciles\n",
    "train.loc[:,'knn_Deciles'] = pd.qcut(train.knn_pred_spent, 10, labels = False)\n",
    "test.loc[:,'knn_Deciles'] = pd.qcut(test.knn_pred_spent, 10, labels = False)\n",
    "\n",
    "#Summarizing the data by deciles on train and test dataset\n",
    "knn_decile_train = train.groupby(['knn_Deciles'])[['total_spent','knn_pred_spent']].mean().reset_index().sort_values(by = 'knn_Deciles', ascending = False)\n",
    "knn_decile_test = test.groupby(['knn_Deciles'])[['total_spent','knn_pred_spent']].mean().reset_index().sort_values(by = 'knn_Deciles', ascending = False)"
   ]
  },
  {
   "cell_type": "code",
   "execution_count": 95,
   "metadata": {},
   "outputs": [
    {
     "data": {
      "text/html": [
       "<div>\n",
       "<style scoped>\n",
       "    .dataframe tbody tr th:only-of-type {\n",
       "        vertical-align: middle;\n",
       "    }\n",
       "\n",
       "    .dataframe tbody tr th {\n",
       "        vertical-align: top;\n",
       "    }\n",
       "\n",
       "    .dataframe thead th {\n",
       "        text-align: right;\n",
       "    }\n",
       "</style>\n",
       "<table border=\"1\" class=\"dataframe\">\n",
       "  <thead>\n",
       "    <tr style=\"text-align: right;\">\n",
       "      <th></th>\n",
       "      <th>knn_Deciles</th>\n",
       "      <th>total_spent</th>\n",
       "      <th>knn_pred_spent</th>\n",
       "    </tr>\n",
       "  </thead>\n",
       "  <tbody>\n",
       "    <tr>\n",
       "      <th>9</th>\n",
       "      <td>9</td>\n",
       "      <td>946.817257</td>\n",
       "      <td>716.680453</td>\n",
       "    </tr>\n",
       "    <tr>\n",
       "      <th>8</th>\n",
       "      <td>8</td>\n",
       "      <td>707.289571</td>\n",
       "      <td>561.350529</td>\n",
       "    </tr>\n",
       "    <tr>\n",
       "      <th>7</th>\n",
       "      <td>7</td>\n",
       "      <td>584.959914</td>\n",
       "      <td>484.163612</td>\n",
       "    </tr>\n",
       "    <tr>\n",
       "      <th>6</th>\n",
       "      <td>6</td>\n",
       "      <td>516.789943</td>\n",
       "      <td>433.816731</td>\n",
       "    </tr>\n",
       "    <tr>\n",
       "      <th>5</th>\n",
       "      <td>5</td>\n",
       "      <td>488.991829</td>\n",
       "      <td>392.778434</td>\n",
       "    </tr>\n",
       "    <tr>\n",
       "      <th>4</th>\n",
       "      <td>4</td>\n",
       "      <td>412.395114</td>\n",
       "      <td>359.739582</td>\n",
       "    </tr>\n",
       "    <tr>\n",
       "      <th>3</th>\n",
       "      <td>3</td>\n",
       "      <td>374.228686</td>\n",
       "      <td>331.381773</td>\n",
       "    </tr>\n",
       "    <tr>\n",
       "      <th>2</th>\n",
       "      <td>2</td>\n",
       "      <td>340.568539</td>\n",
       "      <td>304.119219</td>\n",
       "    </tr>\n",
       "    <tr>\n",
       "      <th>1</th>\n",
       "      <td>1</td>\n",
       "      <td>323.296467</td>\n",
       "      <td>278.161115</td>\n",
       "    </tr>\n",
       "    <tr>\n",
       "      <th>0</th>\n",
       "      <td>0</td>\n",
       "      <td>260.659200</td>\n",
       "      <td>234.730766</td>\n",
       "    </tr>\n",
       "  </tbody>\n",
       "</table>\n",
       "</div>"
      ],
      "text/plain": [
       "   knn_Deciles  total_spent  knn_pred_spent\n",
       "9            9   946.817257      716.680453\n",
       "8            8   707.289571      561.350529\n",
       "7            7   584.959914      484.163612\n",
       "6            6   516.789943      433.816731\n",
       "5            5   488.991829      392.778434\n",
       "4            4   412.395114      359.739582\n",
       "3            3   374.228686      331.381773\n",
       "2            2   340.568539      304.119219\n",
       "1            1   323.296467      278.161115\n",
       "0            0   260.659200      234.730766"
      ]
     },
     "execution_count": 95,
     "metadata": {},
     "output_type": "execute_result"
    }
   ],
   "source": [
    "knn_decile_train"
   ]
  },
  {
   "cell_type": "code",
   "execution_count": 96,
   "metadata": {},
   "outputs": [
    {
     "data": {
      "text/html": [
       "<div>\n",
       "<style scoped>\n",
       "    .dataframe tbody tr th:only-of-type {\n",
       "        vertical-align: middle;\n",
       "    }\n",
       "\n",
       "    .dataframe tbody tr th {\n",
       "        vertical-align: top;\n",
       "    }\n",
       "\n",
       "    .dataframe thead th {\n",
       "        text-align: right;\n",
       "    }\n",
       "</style>\n",
       "<table border=\"1\" class=\"dataframe\">\n",
       "  <thead>\n",
       "    <tr style=\"text-align: right;\">\n",
       "      <th></th>\n",
       "      <th>knn_Deciles</th>\n",
       "      <th>total_spent</th>\n",
       "      <th>knn_pred_spent</th>\n",
       "    </tr>\n",
       "  </thead>\n",
       "  <tbody>\n",
       "    <tr>\n",
       "      <th>9</th>\n",
       "      <td>9</td>\n",
       "      <td>856.453533</td>\n",
       "      <td>710.408733</td>\n",
       "    </tr>\n",
       "    <tr>\n",
       "      <th>8</th>\n",
       "      <td>8</td>\n",
       "      <td>702.873333</td>\n",
       "      <td>561.321823</td>\n",
       "    </tr>\n",
       "    <tr>\n",
       "      <th>7</th>\n",
       "      <td>7</td>\n",
       "      <td>593.570133</td>\n",
       "      <td>486.015947</td>\n",
       "    </tr>\n",
       "    <tr>\n",
       "      <th>6</th>\n",
       "      <td>6</td>\n",
       "      <td>512.726533</td>\n",
       "      <td>435.337296</td>\n",
       "    </tr>\n",
       "    <tr>\n",
       "      <th>5</th>\n",
       "      <td>5</td>\n",
       "      <td>533.578333</td>\n",
       "      <td>399.230222</td>\n",
       "    </tr>\n",
       "    <tr>\n",
       "      <th>4</th>\n",
       "      <td>4</td>\n",
       "      <td>452.863467</td>\n",
       "      <td>366.336575</td>\n",
       "    </tr>\n",
       "    <tr>\n",
       "      <th>3</th>\n",
       "      <td>3</td>\n",
       "      <td>382.945867</td>\n",
       "      <td>337.775435</td>\n",
       "    </tr>\n",
       "    <tr>\n",
       "      <th>2</th>\n",
       "      <td>2</td>\n",
       "      <td>378.471164</td>\n",
       "      <td>311.576061</td>\n",
       "    </tr>\n",
       "    <tr>\n",
       "      <th>1</th>\n",
       "      <td>1</td>\n",
       "      <td>324.263791</td>\n",
       "      <td>282.142810</td>\n",
       "    </tr>\n",
       "    <tr>\n",
       "      <th>0</th>\n",
       "      <td>0</td>\n",
       "      <td>303.491060</td>\n",
       "      <td>235.080540</td>\n",
       "    </tr>\n",
       "  </tbody>\n",
       "</table>\n",
       "</div>"
      ],
      "text/plain": [
       "   knn_Deciles  total_spent  knn_pred_spent\n",
       "9            9   856.453533      710.408733\n",
       "8            8   702.873333      561.321823\n",
       "7            7   593.570133      486.015947\n",
       "6            6   512.726533      435.337296\n",
       "5            5   533.578333      399.230222\n",
       "4            4   452.863467      366.336575\n",
       "3            3   382.945867      337.775435\n",
       "2            2   378.471164      311.576061\n",
       "1            1   324.263791      282.142810\n",
       "0            0   303.491060      235.080540"
      ]
     },
     "execution_count": 96,
     "metadata": {},
     "output_type": "execute_result"
    }
   ],
   "source": [
    "knn_decile_test\n"
   ]
  },
  {
   "cell_type": "markdown",
   "metadata": {},
   "source": [
    "### Random Forest Model"
   ]
  },
  {
   "cell_type": "code",
   "execution_count": 97,
   "metadata": {},
   "outputs": [],
   "source": [
    "#Getting parameters for best fit using GridSeachCV\n",
    "pg = {  'max_depth' : range(11,16,1),\n",
    "        'min_samples_split' : [2,3,4],\n",
    "        'min_samples_leaf' : range(13,18,1)\n",
    "              }\n",
    "\n",
    "gscv_rf = GridSearchCV(estimator = RandomForestRegressor(random_state = 123), \n",
    "                     param_grid = pg,\n",
    "                     scoring = 'neg_mean_squared_error',\n",
    "                     cv = 5,\n",
    "                     n_jobs = -1).fit(train_x, train_y)"
   ]
  },
  {
   "cell_type": "code",
   "execution_count": 98,
   "metadata": {},
   "outputs": [
    {
     "data": {
      "text/plain": [
       "{'max_depth': 14, 'min_samples_leaf': 14, 'min_samples_split': 2}"
      ]
     },
     "execution_count": 98,
     "metadata": {},
     "output_type": "execute_result"
    }
   ],
   "source": [
    "#Best fit Parameters\n",
    "gscv_rf.best_params_"
   ]
  },
  {
   "cell_type": "code",
   "execution_count": 99,
   "metadata": {},
   "outputs": [
    {
     "data": {
      "text/plain": [
       "0.32863566409029843"
      ]
     },
     "execution_count": 99,
     "metadata": {},
     "output_type": "execute_result"
    }
   ],
   "source": [
    "#Best Score\n",
    "-1*gscv_rf.best_score_"
   ]
  },
  {
   "cell_type": "code",
   "execution_count": 100,
   "metadata": {},
   "outputs": [
    {
     "name": "stderr",
     "output_type": "stream",
     "text": [
      "C:\\Users\\prabhu\\anaconda3\\lib\\site-packages\\pandas\\core\\indexing.py:1597: SettingWithCopyWarning: \n",
      "A value is trying to be set on a copy of a slice from a DataFrame.\n",
      "Try using .loc[row_indexer,col_indexer] = value instead\n",
      "\n",
      "See the caveats in the documentation: https://pandas.pydata.org/pandas-docs/stable/user_guide/indexing.html#returning-a-view-versus-a-copy\n",
      "  self.obj[key] = value\n",
      "C:\\Users\\prabhu\\anaconda3\\lib\\site-packages\\pandas\\core\\indexing.py:1676: SettingWithCopyWarning: \n",
      "A value is trying to be set on a copy of a slice from a DataFrame.\n",
      "Try using .loc[row_indexer,col_indexer] = value instead\n",
      "\n",
      "See the caveats in the documentation: https://pandas.pydata.org/pandas-docs/stable/user_guide/indexing.html#returning-a-view-versus-a-copy\n",
      "  self._setitem_single_column(ilocs[0], value, pi)\n"
     ]
    },
    {
     "name": "stdout",
     "output_type": "stream",
     "text": [
      "R-square Score: 0.34265363099234514\n",
      "Training MAPE:  0.4922498592084787  |  Testing MAPE: 0.5203206652554039\n"
     ]
    },
    {
     "name": "stderr",
     "output_type": "stream",
     "text": [
      "C:\\Users\\prabhu\\anaconda3\\lib\\site-packages\\pandas\\core\\indexing.py:1597: SettingWithCopyWarning: \n",
      "A value is trying to be set on a copy of a slice from a DataFrame.\n",
      "Try using .loc[row_indexer,col_indexer] = value instead\n",
      "\n",
      "See the caveats in the documentation: https://pandas.pydata.org/pandas-docs/stable/user_guide/indexing.html#returning-a-view-versus-a-copy\n",
      "  self.obj[key] = value\n",
      "C:\\Users\\prabhu\\anaconda3\\lib\\site-packages\\pandas\\core\\indexing.py:1676: SettingWithCopyWarning: \n",
      "A value is trying to be set on a copy of a slice from a DataFrame.\n",
      "Try using .loc[row_indexer,col_indexer] = value instead\n",
      "\n",
      "See the caveats in the documentation: https://pandas.pydata.org/pandas-docs/stable/user_guide/indexing.html#returning-a-view-versus-a-copy\n",
      "  self._setitem_single_column(ilocs[0], value, pi)\n"
     ]
    }
   ],
   "source": [
    "#Using best fit parameters to fit the model\n",
    "rf = gscv_rf.best_estimator_\n",
    "\n",
    "#Predicting total spent on train and test dataset\n",
    "train.loc[:,'rf_pred_spent'] = np.exp(rf.predict(train_x))\n",
    "test.loc[:,'rf_pred_spent'] = np.exp(rf.predict(test_x))\n",
    "\n",
    "#R-square Score\n",
    "rf_r2 = metrics.r2_score(train.total_spent, train.rf_pred_spent)\n",
    "\n",
    "print('R-square Score:', rf_r2)\n",
    "\n",
    "#Getting Mean Absolute Percentage Error - MAPE\n",
    "rf_MAPE_train = np.mean(np.abs(train['total_spent'] - train['rf_pred_spent'])/train['total_spent'])\n",
    "rf_MAPE_test = np.mean(np.abs(test['total_spent'] - test['rf_pred_spent'])/test['total_spent'])\n",
    "                    \n",
    "print('Training MAPE: ',rf_MAPE_train,' | ','Testing MAPE:',rf_MAPE_test)"
   ]
  },
  {
   "cell_type": "code",
   "execution_count": 101,
   "metadata": {},
   "outputs": [
    {
     "name": "stdout",
     "output_type": "stream",
     "text": [
      "Training MSE:  83710.17200418915  |  Testing MSE: 91265.98058272644\n",
      "Training RMSE:  289.3271020906772  |  Testing RMSE: 302.10259943060146\n"
     ]
    }
   ],
   "source": [
    "#Getting Mean Squared Error Metric - MSE\n",
    "MSE_train = metrics.mean_squared_error(train.total_spent, train.rf_pred_spent)\n",
    "MSE_test = metrics.mean_squared_error(test.total_spent, test.rf_pred_spent)\n",
    "\n",
    "#Getting Root Mean Squared Error - RMSE\n",
    "rf_RMSE_train = np.sqrt(MSE_train)\n",
    "rf_RMSE_test = np.sqrt(MSE_test)\n",
    "\n",
    "print('Training MSE: ',MSE_train,' | ','Testing MSE:' ,MSE_test)\n",
    "print('Training RMSE: ',rf_RMSE_train,' | ','Testing RMSE:',rf_RMSE_test)"
   ]
  },
  {
   "cell_type": "code",
   "execution_count": 102,
   "metadata": {},
   "outputs": [
    {
     "name": "stdout",
     "output_type": "stream",
     "text": [
      "Training MAE:  184.0965887122184  |  Testing MAE: 199.68300306011238\n"
     ]
    }
   ],
   "source": [
    "#Getting Mean Absolute Error Metric - MAE\n",
    "MAE_train = metrics.mean_absolute_error(train.total_spent, train.rf_pred_spent)\n",
    "MAE_test = metrics.mean_absolute_error(test.total_spent, test.rf_pred_spent)\n",
    "\n",
    "print('Training MAE: ',MAE_train,' | ','Testing MAE:' ,MAE_test)"
   ]
  },
  {
   "cell_type": "code",
   "execution_count": 103,
   "metadata": {},
   "outputs": [
    {
     "name": "stdout",
     "output_type": "stream",
     "text": [
      "Training RMSPE: 1.1106933540194457  |  Testing RMSPE: 1.322870318422521\n"
     ]
    }
   ],
   "source": [
    "#Getting Root Mean Squared Percentage Error - RMSPE\n",
    "RMSPE_train = np.sqrt(np.mean(((train['total_spent'] - train['rf_pred_spent'])/train['total_spent'])**2))\n",
    "RMSPE_test = np.sqrt(np.mean(((test['total_spent'] - test['rf_pred_spent'])/test['total_spent'])**2))\n",
    "\n",
    "print('Training RMSPE:', RMSPE_train,' | ','Testing RMSPE:', RMSPE_test)"
   ]
  },
  {
   "cell_type": "code",
   "execution_count": 104,
   "metadata": {},
   "outputs": [
    {
     "name": "stdout",
     "output_type": "stream",
     "text": [
      "Correlation - Train Data:  (0.6282449557685427, 0.0) | Test Data:  (0.4947729380068298, 1.9369972616872412e-93)\n"
     ]
    }
   ],
   "source": [
    "#Correlation between actual and predicted values\n",
    "Corr_train = stats.stats.pearsonr(train.total_spent, train.rf_pred_spent)\n",
    "Corr_test = stats.stats.pearsonr(test.total_spent, test.rf_pred_spent)\n",
    "\n",
    "print('Correlation - Train Data: ', Corr_train, '|', 'Test Data: ', Corr_test)"
   ]
  },
  {
   "cell_type": "code",
   "execution_count": 105,
   "metadata": {},
   "outputs": [
    {
     "name": "stderr",
     "output_type": "stream",
     "text": [
      "C:\\Users\\prabhu\\anaconda3\\lib\\site-packages\\pandas\\core\\indexing.py:1597: SettingWithCopyWarning: \n",
      "A value is trying to be set on a copy of a slice from a DataFrame.\n",
      "Try using .loc[row_indexer,col_indexer] = value instead\n",
      "\n",
      "See the caveats in the documentation: https://pandas.pydata.org/pandas-docs/stable/user_guide/indexing.html#returning-a-view-versus-a-copy\n",
      "  self.obj[key] = value\n",
      "C:\\Users\\prabhu\\anaconda3\\lib\\site-packages\\pandas\\core\\indexing.py:1676: SettingWithCopyWarning: \n",
      "A value is trying to be set on a copy of a slice from a DataFrame.\n",
      "Try using .loc[row_indexer,col_indexer] = value instead\n",
      "\n",
      "See the caveats in the documentation: https://pandas.pydata.org/pandas-docs/stable/user_guide/indexing.html#returning-a-view-versus-a-copy\n",
      "  self._setitem_single_column(ilocs[0], value, pi)\n",
      "C:\\Users\\prabhu\\anaconda3\\lib\\site-packages\\pandas\\core\\indexing.py:1597: SettingWithCopyWarning: \n",
      "A value is trying to be set on a copy of a slice from a DataFrame.\n",
      "Try using .loc[row_indexer,col_indexer] = value instead\n",
      "\n",
      "See the caveats in the documentation: https://pandas.pydata.org/pandas-docs/stable/user_guide/indexing.html#returning-a-view-versus-a-copy\n",
      "  self.obj[key] = value\n",
      "C:\\Users\\prabhu\\anaconda3\\lib\\site-packages\\pandas\\core\\indexing.py:1676: SettingWithCopyWarning: \n",
      "A value is trying to be set on a copy of a slice from a DataFrame.\n",
      "Try using .loc[row_indexer,col_indexer] = value instead\n",
      "\n",
      "See the caveats in the documentation: https://pandas.pydata.org/pandas-docs/stable/user_guide/indexing.html#returning-a-view-versus-a-copy\n",
      "  self._setitem_single_column(ilocs[0], value, pi)\n"
     ]
    }
   ],
   "source": [
    "#Decile Analysis\n",
    "#Creating Deciles\n",
    "train.loc[:,'rf_Deciles'] = pd.qcut(train.rf_pred_spent, 10, labels = False)\n",
    "test.loc[:,'rf_Deciles'] = pd.qcut(test.rf_pred_spent, 10, labels = False)\n",
    "\n",
    "#Summarizing the data by deciles on train and test dataset\n",
    "rf_decile_train = train.groupby(['rf_Deciles'])[['total_spent','rf_pred_spent']].mean().reset_index().sort_values(by = 'rf_Deciles', ascending = False)\n",
    "rf_decile_test = test.groupby(['rf_Deciles'])[['total_spent','rf_pred_spent']].mean().reset_index().sort_values(by = 'rf_Deciles', ascending = False)"
   ]
  },
  {
   "cell_type": "code",
   "execution_count": 107,
   "metadata": {},
   "outputs": [
    {
     "data": {
      "text/plain": [
       "<BarContainer object of 15 artists>"
      ]
     },
     "execution_count": 107,
     "metadata": {},
     "output_type": "execute_result"
    },
    {
     "data": {
      "image/png": "[encoded data removed]",
      "text/plain": [
       "<Figure size 432x288 with 1 Axes>"
      ]
     },
     "metadata": {
      "needs_background": "light"
     },
     "output_type": "display_data"
    }
   ],
   "source": [
    "#Feature Impotance for Random Forest Model\n",
    "rf_fi = pd.DataFrame({'Features' : train_x.columns ,\n",
    "                      'Importance' : gscv_rf.best_estimator_.feature_importances_\n",
    "                     }).sort_values(by = 'Importance').reset_index(drop = True)\n",
    "\n",
    "plt.barh(width = rf_fi.Importance, y = rf_fi.Features)"
   ]
  },
  {
   "cell_type": "markdown",
   "metadata": {},
   "source": [
    "### Gradient Boost Model"
   ]
  },
  {
   "cell_type": "code",
   "execution_count": 108,
   "metadata": {},
   "outputs": [],
   "source": [
    "#Getting parameters for best fit using GridSeachCV\n",
    "pg = {  'max_depth' : range(1,6,1),\n",
    "        'min_samples_split' : [2,3,4],\n",
    "        'min_samples_leaf' : range(12,17,1)\n",
    "     }\n",
    "\n",
    "gscv_gb = GridSearchCV(estimator = GradientBoostingRegressor(random_state = 123), \n",
    "                     param_grid = pg,\n",
    "                     cv = 5,\n",
    "                     n_jobs = -1).fit(train_x, train_y)\n",
    "\n"
   ]
  },
  {
   "cell_type": "code",
   "execution_count": 109,
   "metadata": {},
   "outputs": [
    {
     "data": {
      "text/plain": [
       "{'max_depth': 3, 'min_samples_leaf': 16, 'min_samples_split': 2}"
      ]
     },
     "execution_count": 109,
     "metadata": {},
     "output_type": "execute_result"
    }
   ],
   "source": [
    "#Best fit Parameters\n",
    "gscv_gb.best_params_"
   ]
  },
  {
   "cell_type": "code",
   "execution_count": 110,
   "metadata": {},
   "outputs": [
    {
     "data": {
      "text/plain": [
       "0.3178781226858934"
      ]
     },
     "execution_count": 110,
     "metadata": {},
     "output_type": "execute_result"
    }
   ],
   "source": [
    "#Best Score\n",
    "gscv_gb.best_score_"
   ]
  },
  {
   "cell_type": "code",
   "execution_count": 111,
   "metadata": {},
   "outputs": [
    {
     "name": "stdout",
     "output_type": "stream",
     "text": [
      "R-square Score: 0.3220784522139494\n",
      "Training MAPE:  0.5109659791880249  |  Testing MAPE: 0.5007496910452197\n"
     ]
    },
    {
     "name": "stderr",
     "output_type": "stream",
     "text": [
      "C:\\Users\\prabhu\\anaconda3\\lib\\site-packages\\pandas\\core\\indexing.py:1597: SettingWithCopyWarning: \n",
      "A value is trying to be set on a copy of a slice from a DataFrame.\n",
      "Try using .loc[row_indexer,col_indexer] = value instead\n",
      "\n",
      "See the caveats in the documentation: https://pandas.pydata.org/pandas-docs/stable/user_guide/indexing.html#returning-a-view-versus-a-copy\n",
      "  self.obj[key] = value\n",
      "C:\\Users\\prabhu\\anaconda3\\lib\\site-packages\\pandas\\core\\indexing.py:1676: SettingWithCopyWarning: \n",
      "A value is trying to be set on a copy of a slice from a DataFrame.\n",
      "Try using .loc[row_indexer,col_indexer] = value instead\n",
      "\n",
      "See the caveats in the documentation: https://pandas.pydata.org/pandas-docs/stable/user_guide/indexing.html#returning-a-view-versus-a-copy\n",
      "  self._setitem_single_column(ilocs[0], value, pi)\n",
      "C:\\Users\\prabhu\\anaconda3\\lib\\site-packages\\pandas\\core\\indexing.py:1597: SettingWithCopyWarning: \n",
      "A value is trying to be set on a copy of a slice from a DataFrame.\n",
      "Try using .loc[row_indexer,col_indexer] = value instead\n",
      "\n",
      "See the caveats in the documentation: https://pandas.pydata.org/pandas-docs/stable/user_guide/indexing.html#returning-a-view-versus-a-copy\n",
      "  self.obj[key] = value\n",
      "C:\\Users\\prabhu\\anaconda3\\lib\\site-packages\\pandas\\core\\indexing.py:1676: SettingWithCopyWarning: \n",
      "A value is trying to be set on a copy of a slice from a DataFrame.\n",
      "Try using .loc[row_indexer,col_indexer] = value instead\n",
      "\n",
      "See the caveats in the documentation: https://pandas.pydata.org/pandas-docs/stable/user_guide/indexing.html#returning-a-view-versus-a-copy\n",
      "  self._setitem_single_column(ilocs[0], value, pi)\n"
     ]
    }
   ],
   "source": [
    "#Using best fit parameters to fit the model\n",
    "gb = gscv_gb.best_estimator_\n",
    "\n",
    "#Predicting total spent on train and test dataset\n",
    "train.loc[:,'gb_pred_spent'] = np.exp(gb.predict(train_x))\n",
    "test.loc[:,'gb_pred_spent'] = np.exp(gb.predict(test_x))\n",
    "\n",
    "#R-square Score\n",
    "gb_r2 = metrics.r2_score(train.total_spent, train.gb_pred_spent)\n",
    "\n",
    "print('R-square Score:', gb_r2)\n",
    "\n",
    "#Getting Mean Absolute Percentage Error - MAPE\n",
    "gb_MAPE_train = np.mean(np.abs(train['total_spent'] - train['gb_pred_spent'])/train['total_spent'])\n",
    "gb_MAPE_test = np.mean(np.abs(test['total_spent'] - test['gb_pred_spent'])/test['total_spent'])\n",
    "                    \n",
    "print('Training MAPE: ',gb_MAPE_train,' | ','Testing MAPE:' ,gb_MAPE_test)"
   ]
  },
  {
   "cell_type": "code",
   "execution_count": 112,
   "metadata": {},
   "outputs": [
    {
     "name": "stdout",
     "output_type": "stream",
     "text": [
      "Training MSE:  86330.330623391  |  Testing MSE: 87971.33680270915\n",
      "Training RMSE:  293.82023521771094  |  Testing RMSE: 296.5996237399993\n"
     ]
    }
   ],
   "source": [
    "#Getting Mean Squared Error Metric - MSE\n",
    "MSE_train = metrics.mean_squared_error(train.total_spent, train.gb_pred_spent)\n",
    "MSE_test = metrics.mean_squared_error(test.total_spent, test.gb_pred_spent)\n",
    "\n",
    "#Getting Root Mean Squared Error - RMSE\n",
    "gb_RMSE_train = np.sqrt(MSE_train)\n",
    "gb_RMSE_test = np.sqrt(MSE_test)\n",
    "\n",
    "print('Training MSE: ',MSE_train,' | ','Testing MSE:' ,MSE_test)\n",
    "print('Training RMSE: ',gb_RMSE_train,' | ','Testing RMSE:' ,gb_RMSE_test)"
   ]
  },
  {
   "cell_type": "code",
   "execution_count": 113,
   "metadata": {},
   "outputs": [
    {
     "name": "stdout",
     "output_type": "stream",
     "text": [
      "Training MAE:  188.42010055260215  |  Testing MAE: 195.05883422887996\n"
     ]
    }
   ],
   "source": [
    "#Getting Mean Absolute Error Metric - MAE\n",
    "MAE_train = metrics.mean_absolute_error(train.total_spent, train.gb_pred_spent)\n",
    "MAE_test = metrics.mean_absolute_error(test.total_spent, test.gb_pred_spent)\n",
    "\n",
    "print('Training MAE: ',MAE_train,' | ','Testing MAE:' ,MAE_test)"
   ]
  },
  {
   "cell_type": "code",
   "execution_count": 114,
   "metadata": {},
   "outputs": [
    {
     "name": "stdout",
     "output_type": "stream",
     "text": [
      "Training RMSPE: 1.260710966446687  |  Testing RMSPE: 1.289032466041477\n"
     ]
    }
   ],
   "source": [
    "#Getting Root Mean Squared Percentage Error - RMSPE\n",
    "gb_RMSPE_train = np.sqrt(np.mean(((train['total_spent'] - train['gb_pred_spent'])/train['total_spent'])**2))\n",
    "gb_RMSPE_test = np.sqrt(np.mean(((test['total_spent'] - test['gb_pred_spent'])/test['total_spent'])**2))\n",
    "\n",
    "print('Training RMSPE:', gb_RMSPE_train,' | ','Testing RMSPE:', gb_RMSPE_test)"
   ]
  },
  {
   "cell_type": "code",
   "execution_count": 115,
   "metadata": {},
   "outputs": [
    {
     "name": "stdout",
     "output_type": "stream",
     "text": [
      "Correlation - Train Data:  (0.6075739634071355, 0.0) | Test Data:  (0.5241611685361638, 1.2632082308745999e-106)\n"
     ]
    }
   ],
   "source": [
    "#Correlation between actual and predicted values\n",
    "Corr_train = stats.stats.pearsonr(train.total_spent, train.gb_pred_spent)\n",
    "Corr_test = stats.stats.pearsonr(test.total_spent, test.gb_pred_spent)\n",
    "\n",
    "print('Correlation - Train Data: ', Corr_train, '|', 'Test Data: ', Corr_test)"
   ]
  },
  {
   "cell_type": "code",
   "execution_count": 116,
   "metadata": {},
   "outputs": [
    {
     "name": "stderr",
     "output_type": "stream",
     "text": [
      "C:\\Users\\prabhu\\anaconda3\\lib\\site-packages\\pandas\\core\\indexing.py:1597: SettingWithCopyWarning: \n",
      "A value is trying to be set on a copy of a slice from a DataFrame.\n",
      "Try using .loc[row_indexer,col_indexer] = value instead\n",
      "\n",
      "See the caveats in the documentation: https://pandas.pydata.org/pandas-docs/stable/user_guide/indexing.html#returning-a-view-versus-a-copy\n",
      "  self.obj[key] = value\n",
      "C:\\Users\\prabhu\\anaconda3\\lib\\site-packages\\pandas\\core\\indexing.py:1676: SettingWithCopyWarning: \n",
      "A value is trying to be set on a copy of a slice from a DataFrame.\n",
      "Try using .loc[row_indexer,col_indexer] = value instead\n",
      "\n",
      "See the caveats in the documentation: https://pandas.pydata.org/pandas-docs/stable/user_guide/indexing.html#returning-a-view-versus-a-copy\n",
      "  self._setitem_single_column(ilocs[0], value, pi)\n",
      "C:\\Users\\prabhu\\anaconda3\\lib\\site-packages\\pandas\\core\\indexing.py:1597: SettingWithCopyWarning: \n",
      "A value is trying to be set on a copy of a slice from a DataFrame.\n",
      "Try using .loc[row_indexer,col_indexer] = value instead\n",
      "\n",
      "See the caveats in the documentation: https://pandas.pydata.org/pandas-docs/stable/user_guide/indexing.html#returning-a-view-versus-a-copy\n",
      "  self.obj[key] = value\n",
      "C:\\Users\\prabhu\\anaconda3\\lib\\site-packages\\pandas\\core\\indexing.py:1676: SettingWithCopyWarning: \n",
      "A value is trying to be set on a copy of a slice from a DataFrame.\n",
      "Try using .loc[row_indexer,col_indexer] = value instead\n",
      "\n",
      "See the caveats in the documentation: https://pandas.pydata.org/pandas-docs/stable/user_guide/indexing.html#returning-a-view-versus-a-copy\n",
      "  self._setitem_single_column(ilocs[0], value, pi)\n"
     ]
    }
   ],
   "source": [
    "#Decile Analysis\n",
    "#Creating Deciles\n",
    "train.loc[:,'gb_Deciles'] = pd.qcut(train.gb_pred_spent, 10, labels = False)\n",
    "test.loc[:,'gb_Deciles'] = pd.qcut(test.gb_pred_spent, 10, labels = False)\n",
    "\n",
    "#Summarizing the data by deciles on train and test dataset\n",
    "gb_decile_train = train.groupby(['gb_Deciles'])[['total_spent','gb_pred_spent']].mean().reset_index().sort_values(by = 'gb_Deciles', ascending = False)\n",
    "gb_decile_test = test.groupby(['gb_Deciles'])[['total_spent','gb_pred_spent']].mean().reset_index().sort_values(by = 'gb_Deciles', ascending = False)"
   ]
  },
  {
   "cell_type": "code",
   "execution_count": 117,
   "metadata": {},
   "outputs": [
    {
     "data": {
      "text/plain": [
       "<BarContainer object of 15 artists>"
      ]
     },
     "execution_count": 117,
     "metadata": {},
     "output_type": "execute_result"
    },
    {
     "data": {
      "image/png": "[encoded data removed]",
      "text/plain": [
       "<Figure size 432x288 with 1 Axes>"
      ]
     },
     "metadata": {
      "needs_background": "light"
     },
     "output_type": "display_data"
    }
   ],
   "source": [
    "#Feature Impotance for Gradient Boost Model\n",
    "gb_fi = pd.DataFrame({'Features' : train_x.columns ,\n",
    "                      'Importance' : gscv_gb.best_estimator_.feature_importances_\n",
    "                     }).sort_values(by = 'Importance').reset_index(drop = True)\n",
    "\n",
    "plt.barh(width = gb_fi.Importance, y = gb_fi.Features)"
   ]
  },
  {
   "cell_type": "markdown",
   "metadata": {},
   "source": [
    "## Evaluating the different metrics for each model"
   ]
  },
  {
   "cell_type": "code",
   "execution_count": 119,
   "metadata": {},
   "outputs": [],
   "source": [
    "#Getting accuracy and log loss for each model\n",
    "model_data = pd.DataFrame({'Regressor' : ['LinearRegressor', 'KNeighborsRegressor', 'RandomForestRegressor', 'GradientBoostingRegressor'],\n",
    "                        'R2 Score' : [model2.rsquared, knn_r2, rf_r2, gb_r2],\n",
    "                        'MAPE_train' : [MAPE_train, knn_MAPE_train, MAPE_train, gb_MAPE_train],\n",
    "                        'MAPE_test' : [MAPE_test, knn_MAPE_test, MAPE_test, gb_MAPE_test],\n",
    "                        'RMSE_train' : [RMSE_train, knn_RMSE_train, RMSE_train, gb_RMSE_train],\n",
    "                        'RMSE_test' : [RMSE_test, knn_RMSE_test, RMSE_test, gb_RMSE_test],\n",
    "                        'RMSPE_train' : [RMSPE_train, knn_RMSPE_train, RMSPE_train, gb_RMSPE_train],  \n",
    "                        'RMSPE_test' : [RMSPE_test, knn_RMSPE_test, RMSPE_test, gb_RMSPE_test]\n",
    "                        })"
   ]
  },
  {
   "cell_type": "code",
   "execution_count": 120,
   "metadata": {},
   "outputs": [
    {
     "data": {
      "image/png": "[encoded data removed]",
      "text/plain": [
       "<Figure size 360x216 with 1 Axes>"
      ]
     },
     "metadata": {
      "needs_background": "light"
     },
     "output_type": "display_data"
    },
    {
     "data": {
      "image/png": "[encoded data removed]",
      "text/plain": [
       "<Figure size 432x288 with 1 Axes>"
      ]
     },
     "metadata": {
      "needs_background": "light"
     },
     "output_type": "display_data"
    },
    {
     "data": {
      "image/png": "[encoded data removed]",
      "text/plain": [
       "<Figure size 432x288 with 1 Axes>"
      ]
     },
     "metadata": {
      "needs_background": "light"
     },
     "output_type": "display_data"
    }
   ],
   "source": [
    "#Visualizing different metrics of the models\n",
    "plt.figure(figsize = (5,3))\n",
    "sns.barplot(data = model_data, x = model_data['R2 Score'], y = model_data.Regressor)\n",
    "plt.title('Model R2 Score')\n",
    "\n",
    "model_data.plot(x = 'Regressor', y = ['MAPE_train', 'MAPE_test', 'RMSPE_train', 'RMSPE_test'], kind = 'bar')\n",
    "model_data.plot(x = 'Regressor', y = ['RMSE_train', 'RMSE_test'], kind = 'bar')\n",
    "plt.show()"
   ]
  },
  {
   "cell_type": "code",
   "execution_count": 124,
   "metadata": {},
   "outputs": [
    {
     "data": {
      "text/html": [
       "<div>\n",
       "<style scoped>\n",
       "    .dataframe tbody tr th:only-of-type {\n",
       "        vertical-align: middle;\n",
       "    }\n",
       "\n",
       "    .dataframe tbody tr th {\n",
       "        vertical-align: top;\n",
       "    }\n",
       "\n",
       "    .dataframe thead th {\n",
       "        text-align: right;\n",
       "    }\n",
       "</style>\n",
       "<table border=\"1\" class=\"dataframe\">\n",
       "  <thead>\n",
       "    <tr style=\"text-align: right;\">\n",
       "      <th></th>\n",
       "      <th>Regressor</th>\n",
       "      <th>R2 Score</th>\n",
       "      <th>MAPE_train</th>\n",
       "      <th>MAPE_test</th>\n",
       "      <th>RMSE_train</th>\n",
       "      <th>RMSE_test</th>\n",
       "      <th>RMSPE_train</th>\n",
       "      <th>RMSPE_test</th>\n",
       "    </tr>\n",
       "  </thead>\n",
       "  <tbody>\n",
       "    <tr>\n",
       "      <th>0</th>\n",
       "      <td>LinearRegressor</td>\n",
       "      <td>0.337919</td>\n",
       "      <td>0.528324</td>\n",
       "      <td>0.482551</td>\n",
       "      <td>297.049402</td>\n",
       "      <td>288.204904</td>\n",
       "      <td>1.110693</td>\n",
       "      <td>1.322870</td>\n",
       "    </tr>\n",
       "    <tr>\n",
       "      <th>1</th>\n",
       "      <td>KNeighborsRegressor</td>\n",
       "      <td>0.232169</td>\n",
       "      <td>0.519827</td>\n",
       "      <td>0.493940</td>\n",
       "      <td>312.697742</td>\n",
       "      <td>307.987962</td>\n",
       "      <td>1.209856</td>\n",
       "      <td>1.257639</td>\n",
       "    </tr>\n",
       "    <tr>\n",
       "      <th>2</th>\n",
       "      <td>RandomForestRegressor</td>\n",
       "      <td>0.342654</td>\n",
       "      <td>0.528324</td>\n",
       "      <td>0.482551</td>\n",
       "      <td>297.049402</td>\n",
       "      <td>288.204904</td>\n",
       "      <td>1.110693</td>\n",
       "      <td>1.322870</td>\n",
       "    </tr>\n",
       "    <tr>\n",
       "      <th>3</th>\n",
       "      <td>GradientBoostingRegressor</td>\n",
       "      <td>0.322078</td>\n",
       "      <td>0.510966</td>\n",
       "      <td>0.500750</td>\n",
       "      <td>293.820235</td>\n",
       "      <td>296.599624</td>\n",
       "      <td>1.260711</td>\n",
       "      <td>1.289032</td>\n",
       "    </tr>\n",
       "  </tbody>\n",
       "</table>\n",
       "</div>"
      ],
      "text/plain": [
       "                   Regressor  R2 Score  MAPE_train  MAPE_test  RMSE_train  \\\n",
       "0            LinearRegressor  0.337919    0.528324   0.482551  297.049402   \n",
       "1        KNeighborsRegressor  0.232169    0.519827   0.493940  312.697742   \n",
       "2      RandomForestRegressor  0.342654    0.528324   0.482551  297.049402   \n",
       "3  GradientBoostingRegressor  0.322078    0.510966   0.500750  293.820235   \n",
       "\n",
       "    RMSE_test  RMSPE_train  RMSPE_test  \n",
       "0  288.204904     1.110693    1.322870  \n",
       "1  307.987962     1.209856    1.257639  \n",
       "2  288.204904     1.110693    1.322870  \n",
       "3  296.599624     1.260711    1.289032  "
      ]
     },
     "execution_count": 124,
     "metadata": {},
     "output_type": "execute_result"
    }
   ],
   "source": [
    "model_data"
   ]
  },
  {
   "cell_type": "markdown",
   "metadata": {},
   "source": [
    "- Random Forest Regressor is showing highest R2 value."
   ]
  },
  {
   "cell_type": "code",
   "execution_count": 121,
   "metadata": {},
   "outputs": [],
   "source": [
    "#Making Final Prediction using all models\n",
    "pre_df = pd.DataFrame()\n",
    "ds_new = data_new[X_cols]\n",
    "pre_df['lr_pred_spent'] = np.exp(model2.predict(ds_new))\n",
    "pre_df['knn_pred_spent'] = np.exp(knn.predict(ds_new))\n",
    "pre_df['rf_pred_spent'] = np.exp(rf.predict(ds_new))\n",
    "pre_df['gb_pred_spent'] = np.exp(gb.predict(ds_new))\n",
    "\n",
    "final_ds = pd.concat([ds_new,data_new.total_spent,pre_df], axis = 1)"
   ]
  },
  {
   "cell_type": "code",
   "execution_count": 122,
   "metadata": {},
   "outputs": [
    {
     "data": {
      "text/html": [
       "<div>\n",
       "<style scoped>\n",
       "    .dataframe tbody tr th:only-of-type {\n",
       "        vertical-align: middle;\n",
       "    }\n",
       "\n",
       "    .dataframe tbody tr th {\n",
       "        vertical-align: top;\n",
       "    }\n",
       "\n",
       "    .dataframe thead th {\n",
       "        text-align: right;\n",
       "    }\n",
       "</style>\n",
       "<table border=\"1\" class=\"dataframe\">\n",
       "  <thead>\n",
       "    <tr style=\"text-align: right;\">\n",
       "      <th></th>\n",
       "      <th>card2_2</th>\n",
       "      <th>card2_3</th>\n",
       "      <th>card2_4</th>\n",
       "      <th>card2_5</th>\n",
       "      <th>card2benefit_3</th>\n",
       "      <th>card_2</th>\n",
       "      <th>card_3</th>\n",
       "      <th>card_4</th>\n",
       "      <th>card_5</th>\n",
       "      <th>gender_1</th>\n",
       "      <th>internet_3</th>\n",
       "      <th>internet_4</th>\n",
       "      <th>lninc</th>\n",
       "      <th>reason_2</th>\n",
       "      <th>region_5</th>\n",
       "      <th>total_spent</th>\n",
       "      <th>lr_pred_spent</th>\n",
       "      <th>knn_pred_spent</th>\n",
       "      <th>rf_pred_spent</th>\n",
       "      <th>gb_pred_spent</th>\n",
       "    </tr>\n",
       "  </thead>\n",
       "  <tbody>\n",
       "    <tr>\n",
       "      <th>0</th>\n",
       "      <td>0</td>\n",
       "      <td>0</td>\n",
       "      <td>0</td>\n",
       "      <td>1</td>\n",
       "      <td>0</td>\n",
       "      <td>0</td>\n",
       "      <td>1</td>\n",
       "      <td>0</td>\n",
       "      <td>0</td>\n",
       "      <td>1</td>\n",
       "      <td>0</td>\n",
       "      <td>0</td>\n",
       "      <td>3.433987</td>\n",
       "      <td>0</td>\n",
       "      <td>0</td>\n",
       "      <td>149.46</td>\n",
       "      <td>332.195400</td>\n",
       "      <td>332.456300</td>\n",
       "      <td>333.103026</td>\n",
       "      <td>346.175246</td>\n",
       "    </tr>\n",
       "    <tr>\n",
       "      <th>1</th>\n",
       "      <td>0</td>\n",
       "      <td>0</td>\n",
       "      <td>1</td>\n",
       "      <td>0</td>\n",
       "      <td>1</td>\n",
       "      <td>1</td>\n",
       "      <td>0</td>\n",
       "      <td>0</td>\n",
       "      <td>0</td>\n",
       "      <td>0</td>\n",
       "      <td>0</td>\n",
       "      <td>1</td>\n",
       "      <td>2.708050</td>\n",
       "      <td>0</td>\n",
       "      <td>1</td>\n",
       "      <td>77.54</td>\n",
       "      <td>247.972019</td>\n",
       "      <td>308.584075</td>\n",
       "      <td>314.870718</td>\n",
       "      <td>225.241804</td>\n",
       "    </tr>\n",
       "    <tr>\n",
       "      <th>2</th>\n",
       "      <td>0</td>\n",
       "      <td>0</td>\n",
       "      <td>1</td>\n",
       "      <td>0</td>\n",
       "      <td>1</td>\n",
       "      <td>1</td>\n",
       "      <td>0</td>\n",
       "      <td>0</td>\n",
       "      <td>0</td>\n",
       "      <td>1</td>\n",
       "      <td>0</td>\n",
       "      <td>0</td>\n",
       "      <td>3.555348</td>\n",
       "      <td>1</td>\n",
       "      <td>0</td>\n",
       "      <td>359.97</td>\n",
       "      <td>370.350570</td>\n",
       "      <td>347.293123</td>\n",
       "      <td>507.709066</td>\n",
       "      <td>425.996786</td>\n",
       "    </tr>\n",
       "    <tr>\n",
       "      <th>3</th>\n",
       "      <td>0</td>\n",
       "      <td>1</td>\n",
       "      <td>0</td>\n",
       "      <td>0</td>\n",
       "      <td>0</td>\n",
       "      <td>1</td>\n",
       "      <td>0</td>\n",
       "      <td>0</td>\n",
       "      <td>0</td>\n",
       "      <td>0</td>\n",
       "      <td>0</td>\n",
       "      <td>0</td>\n",
       "      <td>2.995732</td>\n",
       "      <td>0</td>\n",
       "      <td>0</td>\n",
       "      <td>359.41</td>\n",
       "      <td>273.165951</td>\n",
       "      <td>328.078700</td>\n",
       "      <td>338.214418</td>\n",
       "      <td>308.496436</td>\n",
       "    </tr>\n",
       "    <tr>\n",
       "      <th>4</th>\n",
       "      <td>0</td>\n",
       "      <td>0</td>\n",
       "      <td>0</td>\n",
       "      <td>0</td>\n",
       "      <td>0</td>\n",
       "      <td>0</td>\n",
       "      <td>0</td>\n",
       "      <td>1</td>\n",
       "      <td>0</td>\n",
       "      <td>0</td>\n",
       "      <td>1</td>\n",
       "      <td>0</td>\n",
       "      <td>3.135494</td>\n",
       "      <td>0</td>\n",
       "      <td>0</td>\n",
       "      <td>507.83</td>\n",
       "      <td>394.193986</td>\n",
       "      <td>457.085277</td>\n",
       "      <td>370.045135</td>\n",
       "      <td>382.640863</td>\n",
       "    </tr>\n",
       "    <tr>\n",
       "      <th>...</th>\n",
       "      <td>...</td>\n",
       "      <td>...</td>\n",
       "      <td>...</td>\n",
       "      <td>...</td>\n",
       "      <td>...</td>\n",
       "      <td>...</td>\n",
       "      <td>...</td>\n",
       "      <td>...</td>\n",
       "      <td>...</td>\n",
       "      <td>...</td>\n",
       "      <td>...</td>\n",
       "      <td>...</td>\n",
       "      <td>...</td>\n",
       "      <td>...</td>\n",
       "      <td>...</td>\n",
       "      <td>...</td>\n",
       "      <td>...</td>\n",
       "      <td>...</td>\n",
       "      <td>...</td>\n",
       "      <td>...</td>\n",
       "    </tr>\n",
       "    <tr>\n",
       "      <th>4995</th>\n",
       "      <td>0</td>\n",
       "      <td>1</td>\n",
       "      <td>0</td>\n",
       "      <td>0</td>\n",
       "      <td>0</td>\n",
       "      <td>0</td>\n",
       "      <td>0</td>\n",
       "      <td>0</td>\n",
       "      <td>0</td>\n",
       "      <td>0</td>\n",
       "      <td>0</td>\n",
       "      <td>0</td>\n",
       "      <td>5.278115</td>\n",
       "      <td>0</td>\n",
       "      <td>0</td>\n",
       "      <td>1425.67</td>\n",
       "      <td>1101.120116</td>\n",
       "      <td>904.480143</td>\n",
       "      <td>946.076856</td>\n",
       "      <td>1050.032546</td>\n",
       "    </tr>\n",
       "    <tr>\n",
       "      <th>4996</th>\n",
       "      <td>0</td>\n",
       "      <td>0</td>\n",
       "      <td>0</td>\n",
       "      <td>1</td>\n",
       "      <td>0</td>\n",
       "      <td>0</td>\n",
       "      <td>1</td>\n",
       "      <td>0</td>\n",
       "      <td>0</td>\n",
       "      <td>0</td>\n",
       "      <td>0</td>\n",
       "      <td>0</td>\n",
       "      <td>4.418841</td>\n",
       "      <td>0</td>\n",
       "      <td>0</td>\n",
       "      <td>366.35</td>\n",
       "      <td>494.434397</td>\n",
       "      <td>522.130264</td>\n",
       "      <td>583.170727</td>\n",
       "      <td>391.951782</td>\n",
       "    </tr>\n",
       "    <tr>\n",
       "      <th>4997</th>\n",
       "      <td>1</td>\n",
       "      <td>0</td>\n",
       "      <td>0</td>\n",
       "      <td>0</td>\n",
       "      <td>0</td>\n",
       "      <td>0</td>\n",
       "      <td>0</td>\n",
       "      <td>0</td>\n",
       "      <td>0</td>\n",
       "      <td>0</td>\n",
       "      <td>0</td>\n",
       "      <td>0</td>\n",
       "      <td>4.682131</td>\n",
       "      <td>0</td>\n",
       "      <td>0</td>\n",
       "      <td>1527.75</td>\n",
       "      <td>871.275411</td>\n",
       "      <td>679.339164</td>\n",
       "      <td>924.017325</td>\n",
       "      <td>813.141994</td>\n",
       "    </tr>\n",
       "    <tr>\n",
       "      <th>4998</th>\n",
       "      <td>0</td>\n",
       "      <td>0</td>\n",
       "      <td>1</td>\n",
       "      <td>0</td>\n",
       "      <td>0</td>\n",
       "      <td>0</td>\n",
       "      <td>1</td>\n",
       "      <td>0</td>\n",
       "      <td>0</td>\n",
       "      <td>0</td>\n",
       "      <td>1</td>\n",
       "      <td>0</td>\n",
       "      <td>5.241747</td>\n",
       "      <td>0</td>\n",
       "      <td>0</td>\n",
       "      <td>752.95</td>\n",
       "      <td>611.604623</td>\n",
       "      <td>530.592844</td>\n",
       "      <td>792.625694</td>\n",
       "      <td>634.647422</td>\n",
       "    </tr>\n",
       "    <tr>\n",
       "      <th>4999</th>\n",
       "      <td>0</td>\n",
       "      <td>0</td>\n",
       "      <td>1</td>\n",
       "      <td>0</td>\n",
       "      <td>1</td>\n",
       "      <td>0</td>\n",
       "      <td>1</td>\n",
       "      <td>0</td>\n",
       "      <td>0</td>\n",
       "      <td>1</td>\n",
       "      <td>0</td>\n",
       "      <td>0</td>\n",
       "      <td>4.343805</td>\n",
       "      <td>0</td>\n",
       "      <td>0</td>\n",
       "      <td>407.86</td>\n",
       "      <td>366.819470</td>\n",
       "      <td>393.574479</td>\n",
       "      <td>354.098046</td>\n",
       "      <td>366.164383</td>\n",
       "    </tr>\n",
       "  </tbody>\n",
       "</table>\n",
       "<p>5000 rows × 20 columns</p>\n",
       "</div>"
      ],
      "text/plain": [
       "      card2_2  card2_3  card2_4  card2_5  card2benefit_3  card_2  card_3  \\\n",
       "0           0        0        0        1               0       0       1   \n",
       "1           0        0        1        0               1       1       0   \n",
       "2           0        0        1        0               1       1       0   \n",
       "3           0        1        0        0               0       1       0   \n",
       "4           0        0        0        0               0       0       0   \n",
       "...       ...      ...      ...      ...             ...     ...     ...   \n",
       "4995        0        1        0        0               0       0       0   \n",
       "4996        0        0        0        1               0       0       1   \n",
       "4997        1        0        0        0               0       0       0   \n",
       "4998        0        0        1        0               0       0       1   \n",
       "4999        0        0        1        0               1       0       1   \n",
       "\n",
       "      card_4  card_5  gender_1  internet_3  internet_4     lninc  reason_2  \\\n",
       "0          0       0         1           0           0  3.433987         0   \n",
       "1          0       0         0           0           1  2.708050         0   \n",
       "2          0       0         1           0           0  3.555348         1   \n",
       "3          0       0         0           0           0  2.995732         0   \n",
       "4          1       0         0           1           0  3.135494         0   \n",
       "...      ...     ...       ...         ...         ...       ...       ...   \n",
       "4995       0       0         0           0           0  5.278115         0   \n",
       "4996       0       0         0           0           0  4.418841         0   \n",
       "4997       0       0         0           0           0  4.682131         0   \n",
       "4998       0       0         0           1           0  5.241747         0   \n",
       "4999       0       0         1           0           0  4.343805         0   \n",
       "\n",
       "      region_5  total_spent  lr_pred_spent  knn_pred_spent  rf_pred_spent  \\\n",
       "0            0       149.46     332.195400      332.456300     333.103026   \n",
       "1            1        77.54     247.972019      308.584075     314.870718   \n",
       "2            0       359.97     370.350570      347.293123     507.709066   \n",
       "3            0       359.41     273.165951      328.078700     338.214418   \n",
       "4            0       507.83     394.193986      457.085277     370.045135   \n",
       "...        ...          ...            ...             ...            ...   \n",
       "4995         0      1425.67    1101.120116      904.480143     946.076856   \n",
       "4996         0       366.35     494.434397      522.130264     583.170727   \n",
       "4997         0      1527.75     871.275411      679.339164     924.017325   \n",
       "4998         0       752.95     611.604623      530.592844     792.625694   \n",
       "4999         0       407.86     366.819470      393.574479     354.098046   \n",
       "\n",
       "      gb_pred_spent  \n",
       "0        346.175246  \n",
       "1        225.241804  \n",
       "2        425.996786  \n",
       "3        308.496436  \n",
       "4        382.640863  \n",
       "...             ...  \n",
       "4995    1050.032546  \n",
       "4996     391.951782  \n",
       "4997     813.141994  \n",
       "4998     634.647422  \n",
       "4999     366.164383  \n",
       "\n",
       "[5000 rows x 20 columns]"
      ]
     },
     "execution_count": 122,
     "metadata": {},
     "output_type": "execute_result"
    }
   ],
   "source": [
    "final_ds"
   ]
  },
  {
   "cell_type": "code",
   "execution_count": null,
   "metadata": {},
   "outputs": [],
   "source": []
  },
  {
   "cell_type": "code",
   "execution_count": null,
   "metadata": {},
   "outputs": [],
   "source": []
  }
 ],
 "metadata": {
  "kernelspec": {
   "display_name": "Python 3",
   "language": "python",
   "name": "python3"
  },
  "language_info": {
   "codemirror_mode": {
    "name": "ipython",
    "version": 3
   },
   "file_extension": ".py",
   "mimetype": "text/x-python",
   "name": "python",
   "nbconvert_exporter": "python",
   "pygments_lexer": "ipython3",
   "version": "3.7.6"
  }
 },
 "nbformat": 4,
 "nbformat_minor": 4
}
